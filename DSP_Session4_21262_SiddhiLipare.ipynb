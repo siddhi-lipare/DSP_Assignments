{
  "nbformat": 4,
  "nbformat_minor": 0,
  "metadata": {
    "colab": {
      "provenance": []
    },
    "kernelspec": {
      "name": "python3",
      "display_name": "Python 3"
    },
    "language_info": {
      "name": "python"
    }
  },
  "cells": [
    {
      "cell_type": "markdown",
      "source": [
        "Section 0.1"
      ],
      "metadata": {
        "id": "Duev1gkkeJIY"
      }
    },
    {
      "cell_type": "markdown",
      "source": [
        "Question 1: Version 1 (Without using global variable)"
      ],
      "metadata": {
        "id": "YjsduRYYR9ku"
      }
    },
    {
      "cell_type": "code",
      "source": [
        "def demo_without_global_variable():\n",
        "    x = 10\n",
        "    y = 20\n",
        "    print(\"Inside the function (without global):\")\n",
        "    print(\"x =\", x)\n",
        "    print(\"y =\", y)\n",
        "\n",
        "x = 5  # Global variable with a different value\n",
        "\n",
        "print(\"Before calling the function: x = \", x)\n",
        "\n",
        "demo_without_global_variable()\n",
        "\n",
        "print(\"After calling the function: x = \", x)"
      ],
      "metadata": {
        "colab": {
          "base_uri": "https://localhost:8080/"
        },
        "id": "La6wNBm0J_07",
        "outputId": "d8dbfd86-da05-4870-bbb4-006e2d16daa1"
      },
      "execution_count": 32,
      "outputs": [
        {
          "output_type": "stream",
          "name": "stdout",
          "text": [
            "Before calling the function: x =  5\n",
            "Inside the function (without global):\n",
            "x = 10\n",
            "y = 20\n",
            "After calling the function: x =  5\n"
          ]
        }
      ]
    },
    {
      "cell_type": "markdown",
      "source": [
        "Version 2 (Using global variable)"
      ],
      "metadata": {
        "id": "MttX_tZbKoJP"
      }
    },
    {
      "cell_type": "code",
      "execution_count": 33,
      "metadata": {
        "colab": {
          "base_uri": "https://localhost:8080/"
        },
        "id": "kWzqslqpRwMi",
        "outputId": "7a69234c-f490-4d84-82c3-9a0834f8529d"
      },
      "outputs": [
        {
          "output_type": "stream",
          "name": "stdout",
          "text": [
            "Before calling the function:\n",
            "x: 10\n",
            "Inside the function:\n",
            "x: 10\n",
            "y: 20\n",
            "After calling the function:\n",
            "x: 10\n"
          ]
        }
      ],
      "source": [
        "x = 10\n",
        "\n",
        "def demo_using_global_variable():\n",
        "    global x\n",
        "    y = 20  # Local variable\n",
        "    print(\"Inside the function:\")\n",
        "    print(\"x:\", x)  # Accessing global variable x\n",
        "    print(\"y:\", y)  # Accessing local variable y\n",
        "\n",
        "print(\"Before calling the function:\")\n",
        "print(\"x:\", x)  # Accessing global variable x\n",
        "\n",
        "demo_using_global_variable()\n",
        "\n",
        "print(\"After calling the function:\")\n",
        "print(\"x:\", x)"
      ]
    },
    {
      "cell_type": "markdown",
      "source": [
        "  Question 2:"
      ],
      "metadata": {
        "id": "TeAl-26hTWKx"
      }
    },
    {
      "cell_type": "code",
      "source": [
        "def outer_function():\n",
        "  x = 5    # local variable\n",
        "  def inner_function():\n",
        "    print(x)\n",
        "\n",
        "\n",
        "  inner_function()\n",
        "\n",
        "outer_function()\n"
      ],
      "metadata": {
        "colab": {
          "base_uri": "https://localhost:8080/"
        },
        "id": "BVoJd5AkTVOa",
        "outputId": "bd3ab0e1-e122-49ec-ca97-b9c01fd47fa8"
      },
      "execution_count": null,
      "outputs": [
        {
          "output_type": "stream",
          "name": "stdout",
          "text": [
            "5\n"
          ]
        }
      ]
    },
    {
      "cell_type": "markdown",
      "source": [
        "Question 3:"
      ],
      "metadata": {
        "id": "gqtVNfCGWtoA"
      }
    },
    {
      "cell_type": "code",
      "source": [
        "def modify_string(text_param, char_param):\n",
        "  modified_text = text_param.replace(char_param, 'X')\n",
        "  return modified_text\n",
        "\n",
        "sample_string = \"This is an example text\"\n",
        "sample_char = 'a'\n",
        "\n",
        "result = modify_string(sample_string, sample_char)\n",
        "\n",
        "print(\"Original text: {}\".format(sample_string))\n",
        "print(\"Modified String: {}\".format(result))"
      ],
      "metadata": {
        "colab": {
          "base_uri": "https://localhost:8080/"
        },
        "id": "eJyrxct-UUps",
        "outputId": "b2c4597a-d8f4-4697-a766-81b2f41965f0"
      },
      "execution_count": null,
      "outputs": [
        {
          "output_type": "stream",
          "name": "stdout",
          "text": [
            "Original text: This is an example text\n",
            "Modified String: This is Xn exXmple text\n"
          ]
        }
      ]
    },
    {
      "cell_type": "markdown",
      "source": [
        "Question 4:"
      ],
      "metadata": {
        "id": "W_QkuTYuXG2W"
      }
    },
    {
      "cell_type": "code",
      "source": [
        "import math\n",
        "from functools import reduce\n",
        "\n",
        "lst = list(range(1, 101))\n",
        "\n",
        "# a. Find Log x of each element\n",
        "result_a = list(map(lambda x: math.log(x) + 1, lst))\n",
        "\n",
        "# b. Filter out values that are not divisible by 5 using a lambda function\n",
        "result_b = list(filter(lambda x: x % 5 == 0, lst))\n",
        "\n",
        "# c. Find the sum of all elements in the list using a lambda function\n",
        "result_c = reduce(lambda x, y: x + y, lst)\n",
        "\n",
        "print(\"Results of a: \", result_a)\n",
        "print(\"Results of b: \", result_b)\n",
        "print(\"Results of c: \", result_c)\n"
      ],
      "metadata": {
        "colab": {
          "base_uri": "https://localhost:8080/"
        },
        "id": "OIWKL9ckWo3R",
        "outputId": "dda9e469-439d-424f-bb5a-c4357e487750"
      },
      "execution_count": null,
      "outputs": [
        {
          "output_type": "stream",
          "name": "stdout",
          "text": [
            "Results of a:  [1.0, 1.6931471805599454, 2.09861228866811, 2.386294361119891, 2.6094379124341005, 2.791759469228055, 2.9459101490553135, 3.0794415416798357, 3.1972245773362196, 3.302585092994046, 3.3978952727983707, 3.4849066497880004, 3.5649493574615367, 3.6390573296152584, 3.70805020110221, 3.772588722239781, 3.833213344056216, 3.8903717578961645, 3.9444389791664403, 3.995732273553991, 4.044522437723423, 4.091042453358316, 4.13549421592915, 4.178053830347945, 4.218875824868201, 4.258096538021482, 4.295836866004329, 4.332204510175204, 4.367295829986475, 4.401197381662156, 4.433987204485146, 4.465735902799727, 4.49650756146648, 4.526360524616162, 4.555348061489413, 4.58351893845611, 4.610917912644224, 4.637586159726386, 4.663561646129646, 4.688879454113936, 4.713572066704308, 4.737669618283368, 4.761200115693562, 4.7841896339182615, 4.80666248977032, 4.828641396489095, 4.850147601710058, 4.871201010907891, 4.891820298110627, 4.912023005428146, 4.931825632724326, 4.951243718581427, 4.970291913552122, 4.9889840465642745, 5.007333185232471, 5.02535169073515, 5.04305126783455, 5.060443010546419, 5.07753744390572, 5.0943445622221, 5.110873864173311, 5.127134385045092, 5.143134726391533, 5.1588830833596715, 5.174387269895637, 5.189654742026425, 5.204692619390966, 5.219507705176107, 5.23410650459726, 5.248495242049359, 5.2626798770413155, 5.276666119016055, 5.290459441148391, 5.30406509320417, 5.31748811353631, 5.330733340286331, 5.343805421853684, 5.356708826689592, 5.3694478524670215, 5.382026634673881, 5.394449154672439, 5.406719247264253, 5.418840607796598, 5.430816798843313, 5.442651256490317, 5.454347296253507, 5.465908118654584, 5.477336814478207, 5.48863636973214, 5.499809670330265, 5.51085950651685, 5.5217885770490405, 5.532599493153256, 5.543294782270004, 5.553876891600541, 5.564348191467836, 5.574710978503383, 5.584967478670572, 5.59511985013459, 5.605170185988092]\n",
            "Results of b:  [5, 10, 15, 20, 25, 30, 35, 40, 45, 50, 55, 60, 65, 70, 75, 80, 85, 90, 95, 100]\n",
            "Results of c:  5050\n"
          ]
        }
      ]
    },
    {
      "cell_type": "markdown",
      "source": [
        "Question 5:\n"
      ],
      "metadata": {
        "id": "xIZ0a1MXYwwF"
      }
    },
    {
      "cell_type": "code",
      "source": [
        "def basketball_scores(team_A_points, team_B_points, *additional_points, **kwargs):\n",
        "    team_A_attempts = 10\n",
        "    team_B_attempts = 10\n",
        "    team_A_free_attempts = 5\n",
        "    team_B_free_attempts = 3\n",
        "\n",
        "    team_A_score = (team_A_points * 2) + (team_A_free_attempts * 3)\n",
        "    team_B_score = (team_B_points * 2) + (team_B_free_attempts * 3)\n",
        "\n",
        "    for points in additional_points:\n",
        "        team_A_score += points[0]\n",
        "        team_B_score += points[1]\n",
        "\n",
        "    print(\"Team A Score:\", team_A_score)\n",
        "    print(\"Team B Score:\", team_B_score)\n",
        "\n",
        "    if team_A_score > team_B_score:\n",
        "        print(\"Congratulations to Team A!\")\n",
        "        print(\"Good effort, Team B!\")\n",
        "    elif team_B_score > team_A_score:\n",
        "        print(\"Congratulations to Team B!\")\n",
        "        print(\"Good effort, Team A!\")\n",
        "    else:\n",
        "        print(\"It's a tie! Both teams performed well!\")\n",
        "\n",
        "# Example: Pass the points as arguments to the function\n",
        "team_A_points = 7\n",
        "team_B_points = 5\n",
        "additional_points = [(2, 3), (1, 2)]  # Additional points for both teams\n",
        "basketball_scores(team_A_points, team_B_points, *additional_points)\n"
      ],
      "metadata": {
        "colab": {
          "base_uri": "https://localhost:8080/"
        },
        "id": "wS20GpwKYlAe",
        "outputId": "8a25057a-4e07-4c8d-ab15-4b255c73e98a"
      },
      "execution_count": null,
      "outputs": [
        {
          "output_type": "stream",
          "name": "stdout",
          "text": [
            "Team A Score: 32\n",
            "Team B Score: 24\n",
            "Congratulations to Team A!\n",
            "Good effort, Team B!\n"
          ]
        }
      ]
    },
    {
      "cell_type": "markdown",
      "source": [
        "Section 0.2"
      ],
      "metadata": {
        "id": "RbVLdQM-eETf"
      }
    },
    {
      "cell_type": "markdown",
      "source": [
        "Question 6:"
      ],
      "metadata": {
        "id": "ksr5qVo9cD9h"
      }
    },
    {
      "cell_type": "code",
      "source": [
        "class Car:\n",
        "  def __init__(self, make, model, year):\n",
        "    self.make = make\n",
        "    self.model= model\n",
        "    self.year = year\n",
        "\n",
        "  def display_specs(self):\n",
        "    return f\"Make: {self.make}, Model: {self.model}, Year: {self.year}\"\n",
        "\n",
        "Car_1 = Car(\"Maruti Suzuki\", \"WagonR\", 2008)\n",
        "Car_1.display_specs()"
      ],
      "metadata": {
        "colab": {
          "base_uri": "https://localhost:8080/",
          "height": 36
        },
        "id": "LvUgG4v_ahAX",
        "outputId": "328edc51-c8e7-4c26-fd78-36d836abf3e0"
      },
      "execution_count": 4,
      "outputs": [
        {
          "output_type": "execute_result",
          "data": {
            "text/plain": [
              "'Make: Maruti Suzuki, Model: WagonR, Year: 2008'"
            ],
            "application/vnd.google.colaboratory.intrinsic+json": {
              "type": "string"
            }
          },
          "metadata": {},
          "execution_count": 4
        }
      ]
    },
    {
      "cell_type": "code",
      "source": [
        "class ElectricCar(Car):\n",
        "  def __init__(self, make, model, year, battery_capacity):\n",
        "    self.battery_capacity = battery_capacity\n",
        "\n",
        "    Car.__init__(self, make, model, year)\n",
        "\n",
        "\n",
        "  def display_Battery_info(self):\n",
        "    return f\"Battery Capacity: {self.battery_capacity} kWh\"\n",
        "\n",
        "Car2 = ElectricCar(\"tata\", \"nano\", 2006, 12)\n",
        "Car2.display_Battery_info()"
      ],
      "metadata": {
        "colab": {
          "base_uri": "https://localhost:8080/",
          "height": 36
        },
        "id": "QfmeM723dvvT",
        "outputId": "e9784207-67db-4204-93c9-5918d42ba650"
      },
      "execution_count": 5,
      "outputs": [
        {
          "output_type": "execute_result",
          "data": {
            "text/plain": [
              "'Battery Capacity: 12 kWh'"
            ],
            "application/vnd.google.colaboratory.intrinsic+json": {
              "type": "string"
            }
          },
          "metadata": {},
          "execution_count": 5
        }
      ]
    },
    {
      "cell_type": "code",
      "source": [
        "def display_car_info(cars):\n",
        "    for car in cars:\n",
        "        if isinstance(car, Car):\n",
        "            print(car.display_specs())\n",
        "            if isinstance(car, ElectricCar):\n",
        "                print(car.display_Battery_info())\n",
        "            print(\"-\" * 20)\n",
        "\n",
        "# Creating instances of Car and ElectricCar\n",
        "car1 = Car(\"Toyota\", \"Camry\", 2022)\n",
        "electric_car1 = ElectricCar(\"Tesla\", \"Model S\", 2023, 100)\n",
        "\n",
        "car2 = Car(\"Ford\", \"Mustang\", 2022)\n",
        "electric_car2 = ElectricCar(\"Nissan\", \"Leaf\", 2023, 40)\n",
        "\n",
        "car3 = Car(\"Tata\", \"Nano\", 2008)\n",
        "\n",
        "# Creating a list of cars\n",
        "car_list = [car1, electric_car1, car2, electric_car2, car3]\n",
        "\n",
        "# Displaying car information\n",
        "display_car_info(car_list)"
      ],
      "metadata": {
        "id": "jknmUDHrgcR4",
        "colab": {
          "base_uri": "https://localhost:8080/"
        },
        "outputId": "bfc4b262-471d-4bc7-ae48-81c455c7b148"
      },
      "execution_count": 7,
      "outputs": [
        {
          "output_type": "stream",
          "name": "stdout",
          "text": [
            "Make: Toyota, Model: Camry, Year: 2022\n",
            "--------------------\n",
            "Make: Tesla, Model: Model S, Year: 2023\n",
            "Battery Capacity: 100 kWh\n",
            "--------------------\n",
            "Make: Ford, Model: Mustang, Year: 2022\n",
            "--------------------\n",
            "Make: Nissan, Model: Leaf, Year: 2023\n",
            "Battery Capacity: 40 kWh\n",
            "--------------------\n",
            "Make: Tata, Model: Nano, Year: 2008\n",
            "--------------------\n"
          ]
        }
      ]
    },
    {
      "cell_type": "markdown",
      "source": [
        "Question 7:"
      ],
      "metadata": {
        "id": "fLUALFB8HJOB"
      }
    },
    {
      "cell_type": "code",
      "source": [
        "class Person:\n",
        "    def __init__(self, name, age):\n",
        "        self.name = name\n",
        "        self.age = age\n",
        "\n",
        "class Student(Person):\n",
        "    def __init__(self, name, age, student_id):\n",
        "        Person.__init__(self, name, age)\n",
        "        self.student_id = student_id\n",
        "\n",
        "\n",
        "class Employee(Person):\n",
        "    def __init__(self, name, age, employee_id):\n",
        "        Person.__init__(self, name, age)\n",
        "        self.employee_id = employee_id\n",
        "\n",
        "class Resident(Student, Employee):\n",
        "    def __init__(self, name, age, student_id, employee_id, address):\n",
        "        Student.__init__(self, name, age, student_id)\n",
        "        Employee.__init__(self, name, age, employee_id)\n",
        "        self.address = address\n",
        "\n",
        "    def display_info(self):\n",
        "        return f\"Name: {self.name}, Age: {self.age}, Student ID: {self.student_id}, Employee ID: {self.employee_id}, Address: {self.address}\"\n",
        "\n",
        "# Creating an instance of the Resident class\n",
        "resident1 = Resident(\"Siddhi Lipare\", 20, \"21262\", \"E67890\", \"IISER Bhopal\")\n",
        "\n",
        "# Displaying resident information\n",
        "print(resident1.display_info())\n"
      ],
      "metadata": {
        "colab": {
          "base_uri": "https://localhost:8080/"
        },
        "id": "qcHe33rnCh5I",
        "outputId": "779320f5-b73f-4816-8834-54eba0fbc69f"
      },
      "execution_count": 16,
      "outputs": [
        {
          "output_type": "stream",
          "name": "stdout",
          "text": [
            "Name: Siddhi Lipare, Age: 20, Student ID: 21262, Employee ID: E67890, Address: IISER Bhopal\n"
          ]
        }
      ]
    },
    {
      "cell_type": "markdown",
      "source": [
        "Question 8:"
      ],
      "metadata": {
        "id": "IRmiyrX9HOcN"
      }
    },
    {
      "cell_type": "code",
      "source": [
        "class BankAccount:\n",
        "    def __init__(self, account_number, account_holder, balance=0):\n",
        "        self.account_number = account_number\n",
        "        self.account_holder = account_holder\n",
        "        self.balance = balance\n",
        "        self.daily_withdrawal_limit = 1000  # Default daily withdrawal limit\n",
        "\n",
        "    def deposit(self, amount):\n",
        "        if amount > 0:\n",
        "            self.balance += amount\n",
        "            return f\"Deposited Rs. {amount}. Current balance: Rs. {self.balance}\"\n",
        "        else:\n",
        "            return \"Invalid deposit amount.\"\n",
        "\n",
        "    def withdraw(self, amount):\n",
        "        if amount > 0 and amount <= self.daily_withdrawal_limit and amount <= self.balance:\n",
        "            self.balance -= amount\n",
        "            return f\"Withdrew Rs. {amount}. Current balance: Rs. {self.balance}\"\n",
        "        elif amount > self.balance:\n",
        "            return \"Insufficient balance.\"\n",
        "        elif amount > self.daily_withdrawal_limit:\n",
        "            return \"Exceeds daily withdrawal limit.\"\n",
        "        else:\n",
        "            return \"Invalid withdrawal amount.\"\n",
        "\n",
        "    def display_info(self):\n",
        "        return f\"Account Holder: {self.account_holder}\\nAccount Number: {self.account_number}\\nAccount Balance: Rs. {self.balance}\"\n",
        "\n",
        "    def set_daily_withdrawal_limit(self, limit):\n",
        "        if limit > 0:\n",
        "            self.daily_withdrawal_limit = limit\n",
        "            return f\"Daily withdrawal limit set to Rs. {limit}\"\n",
        "        else:\n",
        "            return \"Invalid withdrawal limit.\"\n",
        "\n",
        "# Creating an instance of BankAccount\n",
        "account = BankAccount(\"9000000456372\", \"Siddhi Lipare\", 5000)\n",
        "\n",
        "# Displaying account information\n",
        "print(account.display_info())\n",
        "\n",
        "# Depositing money\n",
        "print(account.deposit(1000))\n",
        "\n",
        "# Withdrawing money\n",
        "print(account.withdraw(200))\n",
        "\n",
        "# Setting a new daily withdrawal limit\n",
        "print(account.set_daily_withdrawal_limit(1500))\n",
        "\n",
        "# If you Attempt to withdraw exceeding the new limit\n",
        "print(account.withdraw(1600))\n"
      ],
      "metadata": {
        "colab": {
          "base_uri": "https://localhost:8080/"
        },
        "id": "CFg6SAa0DZgG",
        "outputId": "2f39f0c9-601f-47fa-95f4-71dfec7bb2e9"
      },
      "execution_count": 23,
      "outputs": [
        {
          "output_type": "stream",
          "name": "stdout",
          "text": [
            "Account Holder: Siddhi Lipare\n",
            "Account Number: 9000000456372\n",
            "Account Balance: Rs. 5000\n",
            "Deposited Rs. 1000. Current balance: Rs. 6000\n",
            "Withdrew Rs. 200. Current balance: Rs. 5800\n",
            "Daily withdrawal limit set to Rs. 1500\n",
            "Exceeds daily withdrawal limit.\n"
          ]
        }
      ]
    },
    {
      "cell_type": "code",
      "source": [
        "import math\n",
        "\n",
        "class Shape:\n",
        "    def calculate_area(self):\n",
        "        pass\n",
        "\n",
        "class Circle(Shape):\n",
        "    def __init__(self, radius):\n",
        "        self.radius = radius\n",
        "\n",
        "    def calculate_area(self):\n",
        "        return math.pi * self.radius**2\n",
        "\n",
        "class Rectangle(Shape):\n",
        "    def __init__(self, width, height):\n",
        "        self.width = width\n",
        "        self.height = height\n",
        "\n",
        "    def calculate_area(self):\n",
        "        return self.width * self.height\n",
        "\n",
        "class Triangle(Shape):\n",
        "    def __init__(self, base, height):\n",
        "        self.base = base\n",
        "        self.height = height\n",
        "\n",
        "    def calculate_area(self):\n",
        "        return 0.5 * self.base * self.height\n",
        "\n",
        "# Creating instances of different shapes\n",
        "circle = Circle(5)\n",
        "rectangle = Rectangle(4, 6)\n",
        "triangle = Triangle(3, 7)\n",
        "\n",
        "# Calculating and displaying areas\n",
        "print(f\"Circle Area: {round(circle.calculate_area(), 4)}\")\n",
        "print(f\"Rectangle Area: {rectangle.calculate_area()}\")\n",
        "print(f\"Triangle Area: {triangle.calculate_area()}\")\n"
      ],
      "metadata": {
        "colab": {
          "base_uri": "https://localhost:8080/"
        },
        "id": "a_Wm-08qHQNz",
        "outputId": "e7969d72-12ec-4685-b735-06ff5c13bfbc"
      },
      "execution_count": 30,
      "outputs": [
        {
          "output_type": "stream",
          "name": "stdout",
          "text": [
            "Circle Area: 78.5398\n",
            "Rectangle Area: 24\n",
            "Triangle Area: 10.5\n"
          ]
        }
      ]
    },
    {
      "cell_type": "code",
      "source": [],
      "metadata": {
        "id": "F2ZSsE0cIUdp"
      },
      "execution_count": null,
      "outputs": []
    }
  ]
}