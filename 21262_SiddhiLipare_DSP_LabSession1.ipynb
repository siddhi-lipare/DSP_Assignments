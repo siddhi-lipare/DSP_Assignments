{
  "nbformat": 4,
  "nbformat_minor": 0,
  "metadata": {
    "colab": {
      "provenance": []
    },
    "kernelspec": {
      "name": "python3",
      "display_name": "Python 3"
    },
    "language_info": {
      "name": "python"
    }
  },
  "cells": [
    {
      "cell_type": "markdown",
      "source": [
        "Question 1:"
      ],
      "metadata": {
        "id": "rs6frI_CEEez"
      }
    },
    {
      "cell_type": "code",
      "execution_count": 1,
      "metadata": {
        "colab": {
          "base_uri": "https://localhost:8080/"
        },
        "id": "-LBCA66eAkT8",
        "outputId": "4ddc5e99-83b6-4398-aca3-1d55b765aea8"
      },
      "outputs": [
        {
          "output_type": "stream",
          "name": "stdout",
          "text": [
            "[0, 2, 4, 6, 8, 10, 12, 14, 16, 18, 20, 22, 24, 26, 28, 30, 32, 34, 36, 38, 40, 42, 44, 46, 48, 50, 52, 54, 56, 58, 60, 62, 64, 66, 68, 70, 72, 74, 76, 78, 80, 82, 84, 86, 88, 90, 92, 94, 96, 98, 100]\n"
          ]
        }
      ],
      "source": [
        "list_even = []\n",
        "for i in range(101):\n",
        "  if i % 2 == 0:\n",
        "    list_even.append(i)\n",
        "print(list_even)"
      ]
    },
    {
      "cell_type": "markdown",
      "source": [
        "Question 2:"
      ],
      "metadata": {
        "id": "Ghn5z0ocEJzz"
      }
    },
    {
      "cell_type": "code",
      "source": [
        "a = 8\n",
        "print(type(a))"
      ],
      "metadata": {
        "colab": {
          "base_uri": "https://localhost:8080/"
        },
        "id": "YYslq5U0BTt3",
        "outputId": "b4b4ae1c-2b4b-4bd5-ea84-26ac943f9602"
      },
      "execution_count": 2,
      "outputs": [
        {
          "output_type": "stream",
          "name": "stdout",
          "text": [
            "<class 'int'>\n"
          ]
        }
      ]
    },
    {
      "cell_type": "code",
      "source": [
        "b=9.5748;\n",
        "print(type(b))"
      ],
      "metadata": {
        "colab": {
          "base_uri": "https://localhost:8080/"
        },
        "id": "2hKiSTPJEfC8",
        "outputId": "3561aa1d-49a1-4c93-e233-9858f876bec4"
      },
      "execution_count": 3,
      "outputs": [
        {
          "output_type": "stream",
          "name": "stdout",
          "text": [
            "<class 'float'>\n"
          ]
        }
      ]
    },
    {
      "cell_type": "code",
      "source": [
        "c=\"Go!\";\n",
        "print(type(c))"
      ],
      "metadata": {
        "colab": {
          "base_uri": "https://localhost:8080/"
        },
        "id": "KOUSEp0LEsVM",
        "outputId": "3f33fee0-41f0-4887-833e-74df432b4cfb"
      },
      "execution_count": 4,
      "outputs": [
        {
          "output_type": "stream",
          "name": "stdout",
          "text": [
            "<class 'str'>\n"
          ]
        }
      ]
    },
    {
      "cell_type": "code",
      "source": [
        "d=True;\n",
        "print(type(d))"
      ],
      "metadata": {
        "colab": {
          "base_uri": "https://localhost:8080/"
        },
        "id": "O9uRwioLEyfM",
        "outputId": "81347f12-f026-457d-e395-9f80fb44c867"
      },
      "execution_count": 5,
      "outputs": [
        {
          "output_type": "stream",
          "name": "stdout",
          "text": [
            "<class 'bool'>\n"
          ]
        }
      ]
    },
    {
      "cell_type": "code",
      "source": [
        "e=[3,\"Oppenheimer\"];\n",
        "print(type(e))"
      ],
      "metadata": {
        "colab": {
          "base_uri": "https://localhost:8080/"
        },
        "id": "NvAeR70BFEjt",
        "outputId": "9f4e1966-1223-40b4-9c14-38727235fe2b"
      },
      "execution_count": 6,
      "outputs": [
        {
          "output_type": "stream",
          "name": "stdout",
          "text": [
            "<class 'list'>\n"
          ]
        }
      ]
    },
    {
      "cell_type": "code",
      "source": [
        "f= {9, 8, 100};\n",
        "print(type(f))"
      ],
      "metadata": {
        "colab": {
          "base_uri": "https://localhost:8080/"
        },
        "id": "j0NsP-GuFJT9",
        "outputId": "1f86cc27-a3c7-403d-e121-58ed2abd13cf"
      },
      "execution_count": 7,
      "outputs": [
        {
          "output_type": "stream",
          "name": "stdout",
          "text": [
            "<class 'set'>\n"
          ]
        }
      ]
    },
    {
      "cell_type": "code",
      "source": [
        "g = {\"India\" : 7184, \"Russia\" : 7849, \"Canada\" : 7435}\n",
        "print(type(g))"
      ],
      "metadata": {
        "colab": {
          "base_uri": "https://localhost:8080/"
        },
        "id": "1GQwft4tFThN",
        "outputId": "13009155-4341-4cd5-efb1-332568e70cee"
      },
      "execution_count": 8,
      "outputs": [
        {
          "output_type": "stream",
          "name": "stdout",
          "text": [
            "<class 'dict'>\n"
          ]
        }
      ]
    },
    {
      "cell_type": "markdown",
      "source": [
        "Question 3:"
      ],
      "metadata": {
        "id": "au7A2U06GABO"
      }
    },
    {
      "cell_type": "markdown",
      "source": [
        "Method 1: Set Function"
      ],
      "metadata": {
        "id": "JTScgeHWIFkg"
      }
    },
    {
      "cell_type": "code",
      "source": [
        "list_1 = [1,2,3,1,1,2,2,4,5,6,7,7,2,1,0,9,10]\n",
        "\n",
        "list_new = list(set(list_1))\n",
        "print(\"Original List: {}\".format(list_1))\n",
        "print(\"List without duplicates: {}\".format(list_new))"
      ],
      "metadata": {
        "colab": {
          "base_uri": "https://localhost:8080/"
        },
        "id": "phzhB-CKFgNu",
        "outputId": "443d2e8c-3611-4c87-dfba-3177dd4308a3"
      },
      "execution_count": 9,
      "outputs": [
        {
          "output_type": "stream",
          "name": "stdout",
          "text": [
            "Original List: [1, 2, 3, 1, 1, 2, 2, 4, 5, 6, 7, 7, 2, 1, 0, 9, 10]\n",
            "List without duplicates: [0, 1, 2, 3, 4, 5, 6, 7, 9, 10]\n"
          ]
        }
      ]
    },
    {
      "cell_type": "markdown",
      "source": [
        "Method 2:"
      ],
      "metadata": {
        "id": "V5vMpKcZIIjY"
      }
    },
    {
      "cell_type": "code",
      "source": [
        "list_original = [1,2,3,1,1,2,2,4,5,6,7,7,2,1,0,9,10]\n",
        "list_without_duplicate = []\n",
        "for num in list_original:\n",
        "  if(num not in list_without_duplicate):\n",
        "    list_without_duplicate.append(num)\n",
        "\n",
        "print(\"Original List: {}\".format(list_1))\n",
        "print(\"List without duplicates: {}\".format(list_new))"
      ],
      "metadata": {
        "colab": {
          "base_uri": "https://localhost:8080/"
        },
        "id": "ZYcb630CHQOH",
        "outputId": "5b11c7b4-631d-40b8-e0f1-93c4d8486485"
      },
      "execution_count": 10,
      "outputs": [
        {
          "output_type": "stream",
          "name": "stdout",
          "text": [
            "Original List: [1, 2, 3, 1, 1, 2, 2, 4, 5, 6, 7, 7, 2, 1, 0, 9, 10]\n",
            "List without duplicates: [0, 1, 2, 3, 4, 5, 6, 7, 9, 10]\n"
          ]
        }
      ]
    },
    {
      "cell_type": "code",
      "source": [
        "# After Concatenating [20,100, 1000]\n",
        "list_total = list_new + [20,100, 1000]\n",
        "print(\"Concatenated List: {}\".format(list_total))\n",
        "list_total.pop(5)\n",
        "list_total.pop(9)\n",
        "print(\"After removing elements at index 5 and 10: {}\".format(list_total))\n",
        "\n",
        "# List got sorted on its own but we can do so by using sorted() function\n",
        "\n",
        "list_sorted = sorted(list_total)\n",
        "print(\"Sorted List: {}\".format(list_sorted))"
      ],
      "metadata": {
        "colab": {
          "base_uri": "https://localhost:8080/"
        },
        "id": "IojuQNPzI1Ug",
        "outputId": "0553a59d-fbf7-4872-f4db-b8999c3f0c7d"
      },
      "execution_count": 11,
      "outputs": [
        {
          "output_type": "stream",
          "name": "stdout",
          "text": [
            "Concatenated List: [0, 1, 2, 3, 4, 5, 6, 7, 9, 10, 20, 100, 1000]\n",
            "After removing elements at index 5 and 10: [0, 1, 2, 3, 4, 6, 7, 9, 10, 100, 1000]\n",
            "Sorted List: [0, 1, 2, 3, 4, 6, 7, 9, 10, 100, 1000]\n"
          ]
        }
      ]
    },
    {
      "cell_type": "markdown",
      "source": [
        "Question 4:"
      ],
      "metadata": {
        "id": "_TUHLLdIQ01J"
      }
    },
    {
      "cell_type": "code",
      "source": [
        "prime_check = int(input(\"Enter an integer less than 1000\\n\"))\n",
        "for j in range(2,a):\n",
        "  if prime_check % i == 0:\n",
        "    print(\"Not prime!\")\n",
        "\n",
        "print(\"Yes, {} is a prime number\".format(prime_check))"
      ],
      "metadata": {
        "colab": {
          "base_uri": "https://localhost:8080/"
        },
        "id": "Z8yzLGnWLH2C",
        "outputId": "48ea2836-5c2c-45ae-e411-b20bd8202cef"
      },
      "execution_count": 12,
      "outputs": [
        {
          "output_type": "stream",
          "name": "stdout",
          "text": [
            "Enter an integer less than 1000\n",
            "877\n",
            "Yes, 877 is a prime number\n"
          ]
        }
      ]
    },
    {
      "cell_type": "markdown",
      "source": [
        "Question 5:"
      ],
      "metadata": {
        "id": "vRqGsZABQ2_B"
      }
    },
    {
      "cell_type": "code",
      "source": [
        "def insert_dir(dir, name, num):\n",
        "  if name not in dir.keys():\n",
        "    dir.__setitem__(name, num)\n",
        "  else:\n",
        "    dir[name] = num\n",
        "\n",
        "  return dir\n",
        "\n",
        "def delete(dir, name):\n",
        "  del dir[name]\n",
        "  return dir\n",
        "\n",
        "directory = dict()\n",
        "insert_dir(directory, \"Amit\", 9335717017)\n",
        "insert_dir(directory, \"Rohan\", 8896417563)\n",
        "insert_dir(directory, \"Darshit\", 7357196782)\n",
        "delete(directory, \"Darshit\")\n"
      ],
      "metadata": {
        "id": "ZC6OhMY8QrLv",
        "outputId": "0bfeef74-d42c-4a3f-c35b-b33f8f94dee5",
        "colab": {
          "base_uri": "https://localhost:8080/"
        }
      },
      "execution_count": 13,
      "outputs": [
        {
          "output_type": "execute_result",
          "data": {
            "text/plain": [
              "{'Amit': 9335717017, 'Rohan': 8896417563}"
            ]
          },
          "metadata": {},
          "execution_count": 13
        }
      ]
    },
    {
      "cell_type": "markdown",
      "source": [
        "Question 6:"
      ],
      "metadata": {
        "id": "ZoTjpKBiQ-PJ"
      }
    },
    {
      "cell_type": "code",
      "source": [
        "a = int(input(\"Enter an integer a\\n\"))\n",
        "b = int(input(\"Enter an integer b\\n\"))\n",
        "c = int(input(\"Enter an integer c\\n\"))\n",
        "d = a + b\n",
        "e = b - c\n",
        "print(\"Sum of a and b is {}:\".format(d))\n",
        "print(\"Difference between b and c is {}:\".format(e))"
      ],
      "metadata": {
        "colab": {
          "base_uri": "https://localhost:8080/"
        },
        "id": "kYELiDEVQ_mK",
        "outputId": "c2b888e4-fbb8-402a-b717-cfe62b24b449"
      },
      "execution_count": 14,
      "outputs": [
        {
          "output_type": "stream",
          "name": "stdout",
          "text": [
            "Enter an integer a\n",
            "10\n",
            "Enter an integer b\n",
            "9\n",
            "Enter an integer c\n",
            "8\n",
            "Sum of a and b is 19:\n",
            "Difference between b and c is 1:\n"
          ]
        }
      ]
    },
    {
      "cell_type": "code",
      "source": [
        "print(d >= e)"
      ],
      "metadata": {
        "colab": {
          "base_uri": "https://localhost:8080/"
        },
        "id": "cG7OqENbR6GO",
        "outputId": "38d696d8-b6b8-4701-d3dd-1d237ec64b1a"
      },
      "execution_count": 15,
      "outputs": [
        {
          "output_type": "stream",
          "name": "stdout",
          "text": [
            "True\n"
          ]
        }
      ]
    },
    {
      "cell_type": "code",
      "source": [
        "print(d != e)"
      ],
      "metadata": {
        "colab": {
          "base_uri": "https://localhost:8080/"
        },
        "id": "a1ofOKanTcFk",
        "outputId": "69f62711-40ce-4f1c-e5d6-28c0799d2869"
      },
      "execution_count": 16,
      "outputs": [
        {
          "output_type": "stream",
          "name": "stdout",
          "text": [
            "True\n"
          ]
        }
      ]
    },
    {
      "cell_type": "code",
      "source": [
        "print(e <= d)"
      ],
      "metadata": {
        "colab": {
          "base_uri": "https://localhost:8080/"
        },
        "id": "a8AYimm2TfhE",
        "outputId": "733feac5-04b1-48f1-f6b5-be407452fef0"
      },
      "execution_count": 17,
      "outputs": [
        {
          "output_type": "stream",
          "name": "stdout",
          "text": [
            "True\n"
          ]
        }
      ]
    },
    {
      "cell_type": "code",
      "source": [
        "print(e == d)"
      ],
      "metadata": {
        "colab": {
          "base_uri": "https://localhost:8080/"
        },
        "id": "cr7tMVpHTiVE",
        "outputId": "60403157-00ed-4217-f3c8-c872a8f9b0d6"
      },
      "execution_count": 18,
      "outputs": [
        {
          "output_type": "stream",
          "name": "stdout",
          "text": [
            "False\n"
          ]
        }
      ]
    },
    {
      "cell_type": "markdown",
      "source": [
        "Question 7:"
      ],
      "metadata": {
        "id": "EvZxxezYTvL1"
      }
    },
    {
      "cell_type": "code",
      "source": [
        "num1 = 84\n",
        "num2 = 101\n",
        "\n",
        "bin_num1 = bin(num1)\n",
        "bin_num2 = bin(num2)\n",
        "\n",
        "print(bin_num1)\n",
        "print(bin_num2)\n",
        "\n",
        "hexa_num1 = hex(num1)\n",
        "hexa_num2 = hex(num2)\n",
        "\n",
        "print(hexa_num1)\n",
        "print(hexa_num2)\n",
        "\n",
        "octa_num1 = oct(num1)\n",
        "octa_num2 = oct(num2)\n",
        "\n",
        "print(octa_num1)\n",
        "print(octa_num2)\n",
        "\n",
        "# Print Complements\n",
        "\n",
        "print(bin(~num1))\n",
        "print(bin(~num2))\n",
        "\n",
        "# 2 bit right shift of 84\n",
        "\n",
        "print(num1 >> 2)\n",
        "\n",
        "# 2 bit left shift of 101\n",
        "print(num2 << 2)\n",
        "\n",
        "# Bit wise OR\n",
        "\n",
        "print(\"Bit wise OR: {}\".format(num1 >> 2 | num2 << 2))\n",
        "\n",
        "# Bit wise AND\n",
        "\n",
        "print(\"Bit wise AND: {}\".format(num1 >> 2 & num2 << 2))"
      ],
      "metadata": {
        "colab": {
          "base_uri": "https://localhost:8080/"
        },
        "id": "PxHIigtYTkXl",
        "outputId": "d2d2aa1a-4c35-4d69-f30f-f5ad3b8c5ed2"
      },
      "execution_count": 28,
      "outputs": [
        {
          "output_type": "stream",
          "name": "stdout",
          "text": [
            "0b1010100\n",
            "0b1100101\n",
            "0x54\n",
            "0x65\n",
            "0o124\n",
            "0o145\n",
            "-0b1010101\n",
            "-0b1100110\n",
            "21\n",
            "404\n",
            "Bit wise OR: 405\n",
            "Bit wise AND: 20\n"
          ]
        }
      ]
    },
    {
      "cell_type": "markdown",
      "source": [
        "Question 8:"
      ],
      "metadata": {
        "id": "ZjD8_uijQpOO"
      }
    },
    {
      "cell_type": "code",
      "source": [
        "a_2 = (2, 5, 5, 5, 3, 2, 5)\n",
        "a_2.count(5)"
      ],
      "metadata": {
        "id": "xJCJqA2oUPeI",
        "outputId": "3e80ecde-09a3-4217-edf1-67e02a5c8358",
        "colab": {
          "base_uri": "https://localhost:8080/"
        }
      },
      "execution_count": 20,
      "outputs": [
        {
          "output_type": "execute_result",
          "data": {
            "text/plain": [
              "4"
            ]
          },
          "metadata": {},
          "execution_count": 20
        }
      ]
    },
    {
      "cell_type": "code",
      "source": [
        "b_2=(\"orange\", \"apples\",7, 8)\n",
        "print(b_2*3)\n"
      ],
      "metadata": {
        "id": "MKC9G7ZMRjkS",
        "outputId": "88035f77-a8a6-4cb6-dd02-e70e2536e832",
        "colab": {
          "base_uri": "https://localhost:8080/"
        }
      },
      "execution_count": 21,
      "outputs": [
        {
          "output_type": "stream",
          "name": "stdout",
          "text": [
            "('orange', 'apples', 7, 8, 'orange', 'apples', 7, 8, 'orange', 'apples', 7, 8)\n"
          ]
        }
      ]
    },
    {
      "cell_type": "code",
      "source": [
        "nums_tuple=(4,9)\n",
        "num1_tuple = nums_tuple[0]\n",
        "num2_tuple = nums_tuple[1]\n",
        "\n",
        "num1_tuple, num2_tuple = num2_tuple, num1_tuple\n",
        "swapped_tuple = (num1_tuple, num2_tuple)\n",
        "\n",
        "print(\"Original tuple = {}\".format(nums_tuple))\n",
        "print(\"Swapped tuple = {}\".format(swapped_tuple))\n"
      ],
      "metadata": {
        "id": "m7REn9w2R4zk",
        "outputId": "2aeba589-44e0-4b4c-d4ec-e39c48542ee5",
        "colab": {
          "base_uri": "https://localhost:8080/"
        }
      },
      "execution_count": 23,
      "outputs": [
        {
          "output_type": "stream",
          "name": "stdout",
          "text": [
            "Original tuple = (4, 9)\n",
            "Swapped tuple = (9, 4)\n"
          ]
        }
      ]
    },
    {
      "cell_type": "code",
      "source": [],
      "metadata": {
        "id": "oxFiEZaNTPC5"
      },
      "execution_count": null,
      "outputs": []
    }
  ]
}