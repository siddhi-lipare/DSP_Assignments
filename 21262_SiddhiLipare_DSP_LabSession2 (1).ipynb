{
  "nbformat": 4,
  "nbformat_minor": 0,
  "metadata": {
    "colab": {
      "provenance": []
    },
    "kernelspec": {
      "name": "python3",
      "display_name": "Python 3"
    },
    "language_info": {
      "name": "python"
    }
  },
  "cells": [
    {
      "cell_type": "markdown",
      "source": [
        "Question 1:"
      ],
      "metadata": {
        "id": "aXmaCtc4LliX"
      }
    },
    {
      "cell_type": "code",
      "execution_count": 11,
      "metadata": {
        "colab": {
          "base_uri": "https://localhost:8080/"
        },
        "id": "56HgO431LP_T",
        "outputId": "a7f7d535-7130-4aeb-8f34-00d3739d7351"
      },
      "outputs": [
        {
          "output_type": "stream",
          "name": "stdout",
          "text": [
            "0b1010100\n",
            "0b1100101\n",
            "0x54\n",
            "0x65\n",
            "0o124\n",
            "0o145\n",
            "-0b1010101\n",
            "-0b1100110\n",
            "21\n",
            "404\n",
            "Bit wise OR: 405\n",
            "Bit wise AND: 20\n"
          ]
        }
      ],
      "source": [
        "num1 = 84\n",
        "num2 = 101\n",
        "\n",
        "bin_num1 = bin(num1)\n",
        "bin_num2 = bin(num2)\n",
        "\n",
        "print(bin_num1)\n",
        "print(bin_num2)\n",
        "\n",
        "hexa_num1 = hex(num1)\n",
        "hexa_num2 = hex(num2)\n",
        "\n",
        "print(hexa_num1)\n",
        "print(hexa_num2)\n",
        "\n",
        "octa_num1 = oct(num1)\n",
        "octa_num2 = oct(num2)\n",
        "\n",
        "print(octa_num1)\n",
        "print(octa_num2)\n",
        "\n",
        "# Print Complements\n",
        "\n",
        "print(bin(~num1))\n",
        "print(bin(~num2))\n",
        "\n",
        "# 2 bit right shift of 84\n",
        "\n",
        "print(num1 >> 2)\n",
        "\n",
        "# 2 bit left shift of 101\n",
        "\n",
        "print(num2 << 2)\n",
        "\n",
        "# Bit wise OR\n",
        "\n",
        "print(\"Bit wise OR: {}\".format(num1 >> 2 | num2 << 2))\n",
        "\n",
        "# Bit wise AND\n",
        "\n",
        "print(\"Bit wise AND: {}\".format(num1 >> 2 & num2 << 2))"
      ]
    },
    {
      "cell_type": "markdown",
      "source": [
        "Question 2:\n",
        "\n",
        "\n"
      ],
      "metadata": {
        "id": "Dz7ocjvUL8Sw"
      }
    },
    {
      "cell_type": "code",
      "source": [
        "t = 0\n",
        "while(t <=20):\n",
        "  if(t % 3 != 0):\n",
        "    print(t)\n",
        "  t +=1\n"
      ],
      "metadata": {
        "colab": {
          "base_uri": "https://localhost:8080/"
        },
        "id": "OAqUNkN5MCcZ",
        "outputId": "05f10343-f773-4a8b-e172-761f2ee4f483"
      },
      "execution_count": null,
      "outputs": [
        {
          "output_type": "stream",
          "name": "stdout",
          "text": [
            "1\n",
            "2\n",
            "4\n",
            "5\n",
            "7\n",
            "8\n",
            "10\n",
            "11\n",
            "13\n",
            "14\n",
            "16\n",
            "17\n",
            "19\n",
            "20\n"
          ]
        }
      ]
    },
    {
      "cell_type": "markdown",
      "source": [
        "Question 3:"
      ],
      "metadata": {
        "id": "IoQ99fXXOuqc"
      }
    },
    {
      "cell_type": "code",
      "source": [
        "# Modifying prog9.py\n",
        "a = int(input(\"Enter an integer a: \"))\n",
        "b = int(input(\"Enter an integer b: \"))\n",
        "\n",
        "#section1\n",
        "if b > a:\n",
        "  print(\"b is greater than a\")\n",
        "elif a == b:\n",
        "  print(\"a and b are equal\")\n",
        "else:\n",
        "  print(\"a is greater than b\")\n",
        "\n",
        "print('\\n');\n",
        "#section2\n",
        "if a > b: print(\"a is greater than b\")\n",
        "\n",
        "#section3\n",
        "print(\"a\") if a > b else print(\"=\") if a == b else print(\"b\")"
      ],
      "metadata": {
        "id": "7Odh-eduMSJ7",
        "colab": {
          "base_uri": "https://localhost:8080/"
        },
        "outputId": "49ddee66-d4cc-4fa8-af51-e520bc8cfee5"
      },
      "execution_count": 39,
      "outputs": [
        {
          "output_type": "stream",
          "name": "stdout",
          "text": [
            "Enter an integer a: 10\n",
            "Enter an integer b: 9\n",
            "a is greater than b\n",
            "\n",
            "\n",
            "a is greater than b\n",
            "a\n"
          ]
        }
      ]
    },
    {
      "cell_type": "markdown",
      "source": [
        "Question 4:"
      ],
      "metadata": {
        "id": "86LlBSbbOxq8"
      }
    },
    {
      "cell_type": "code",
      "source": [
        "i = 20\n",
        "while(i > 0):\n",
        "  print(\"Hello World {}\".format(21-i))\n",
        "  i -= 1\n"
      ],
      "metadata": {
        "colab": {
          "base_uri": "https://localhost:8080/"
        },
        "id": "gfPisve3OzYd",
        "outputId": "2aaa17a7-5ac0-49d4-fd6f-4aae6387b119"
      },
      "execution_count": 10,
      "outputs": [
        {
          "output_type": "stream",
          "name": "stdout",
          "text": [
            "Hello World 1\n",
            "Hello World 2\n",
            "Hello World 3\n",
            "Hello World 4\n",
            "Hello World 5\n",
            "Hello World 6\n",
            "Hello World 7\n",
            "Hello World 8\n",
            "Hello World 9\n",
            "Hello World 10\n",
            "Hello World 11\n",
            "Hello World 12\n",
            "Hello World 13\n",
            "Hello World 14\n",
            "Hello World 15\n",
            "Hello World 16\n",
            "Hello World 17\n",
            "Hello World 18\n",
            "Hello World 19\n",
            "Hello World 20\n"
          ]
        }
      ]
    },
    {
      "cell_type": "markdown",
      "source": [
        "Question 5:"
      ],
      "metadata": {
        "id": "o8UA2duIO8AU"
      }
    },
    {
      "cell_type": "code",
      "source": [
        "balance = int(input(\"Enter your Account balance: Rs. \"))\n",
        "withdraw = int(input(\"Enter your withdraw amount: Rs. \"))\n",
        "if (balance >= withdraw):\n",
        "  print(\"After Withdrawing Rs. {}, your updated balance is Rs. {}\".format(withdraw, balance - withdraw))\n",
        "\n",
        "else:\n",
        "  print(\"Insuffient Funds\")"
      ],
      "metadata": {
        "colab": {
          "base_uri": "https://localhost:8080/"
        },
        "id": "rYk0ClmaO9T1",
        "outputId": "f976d937-4362-4938-9443-5b8e9aa8b41c"
      },
      "execution_count": 12,
      "outputs": [
        {
          "output_type": "stream",
          "name": "stdout",
          "text": [
            "Enter your Account balance: Rs. 13000\n",
            "Enter your withdraw amount: Rs. 8000\n",
            "After Withdrawing Rs. 8000, your updated balance is Rs. 5000\n"
          ]
        }
      ]
    },
    {
      "cell_type": "markdown",
      "source": [
        "Question 6:"
      ],
      "metadata": {
        "id": "EkUUfb29XSkb"
      }
    },
    {
      "cell_type": "code",
      "source": [
        "# I have used int values only\n",
        "import operator\n",
        "import random\n",
        "operations = [('+', operator.add), ('-', operator.sub),('*', operator.mul)]\n",
        "\n",
        "rounds = int(input(\"Enter number of rounds : \"))\n",
        "score = 0\n",
        "\n",
        "for j in range(rounds):\n",
        "  r1 = random.randint(0,100)\n",
        "  r2 = random.randint(0,100)\n",
        "  oper_random, fn = random.choice(operations)\n",
        "  ans = int(input(\"{} {} {}: \". format(r1, oper_random, r2)))\n",
        "  if ans == fn(r1, r2):\n",
        "    score +=1\n",
        "    print(\"Correct\")\n",
        "  else:\n",
        "    print(\"Incorrect\")\n",
        "\n",
        "print(\"Score: {} / {}\".format(score, rounds))"
      ],
      "metadata": {
        "colab": {
          "base_uri": "https://localhost:8080/"
        },
        "id": "AlEU0wwTP0iS",
        "outputId": "9feda076-8fe2-4863-8a5f-6749f1d7a111"
      },
      "execution_count": 22,
      "outputs": [
        {
          "output_type": "stream",
          "name": "stdout",
          "text": [
            "Enter number of rounds : 3\n",
            "37 + 40: 77\n",
            "Correct\n",
            "6 * 0: 0\n",
            "Correct\n",
            "14 - 6: 7\n",
            "Incorrect\n",
            "Score: 2 / 3\n"
          ]
        }
      ]
    },
    {
      "cell_type": "markdown",
      "source": [
        "Question 7:"
      ],
      "metadata": {
        "id": "n8ZRM-X3XJ77"
      }
    },
    {
      "cell_type": "code",
      "source": [
        "def square_root_newton_raphson(number, epsilon=1e-4):\n",
        "    if number < 0:\n",
        "        raise ValueError(\"Input number must be positive\")\n",
        "\n",
        "    guess = number / 2  # Initial guess\n",
        "    while abs(guess * guess - number) > epsilon:\n",
        "        guess = (guess + number / guess) / 2\n",
        "\n",
        "    return guess\n",
        "\n",
        "input_number = float(input(\"Enter a positive number: \"))\n",
        "\n",
        "# Calculate square root using Newton-Raphson method\n",
        "result = square_root_newton_raphson(input_number)\n",
        "\n",
        "print(f\"The square root of {input_number} is approximately {result:.4f}\")"
      ],
      "metadata": {
        "id": "oUgpDicgWjnT",
        "colab": {
          "base_uri": "https://localhost:8080/"
        },
        "outputId": "ce7d92a1-9f6a-4dc2-ca06-82ba56e648b2"
      },
      "execution_count": 20,
      "outputs": [
        {
          "output_type": "stream",
          "name": "stdout",
          "text": [
            "Enter a positive number: 267\n",
            "The square root of 267.0 is approximately 16.3401\n"
          ]
        }
      ]
    },
    {
      "cell_type": "markdown",
      "source": [
        "Question 8:"
      ],
      "metadata": {
        "id": "78I0xhO8XZir"
      }
    },
    {
      "cell_type": "code",
      "source": [
        "oper_choose = input(\"Enter the operation( + or - or * or / or ^): \")\n",
        "n1 = int(input(\"Enter number 1: \"))\n",
        "n2 = int(input(\"Enter number 2: \"))\n",
        "\n",
        "if oper_choose == '+':\n",
        "  print(\"{} {} {} = {}\".format(n1, oper_choose, n2, n1 + n2))\n",
        "\n",
        "elif oper_choose == '-':\n",
        "  print(\"{} {} {} = {}\".format(n1, oper_choose, n2, n1 - n2))\n",
        "\n",
        "elif oper_choose == '*':\n",
        "  print(\"{} {} {} = {}\".format(n1, oper_choose, n2, n1 * n2))\n",
        "\n",
        "elif oper_choose == '/':\n",
        "  print(\"{} {} {} = {}\".format(n1, oper_choose, n2, n1 / n2))\n",
        "\n",
        "elif oper_choose == '^':\n",
        "  print(\"{} {} {} = {}\".format(n1, oper_choose, n2, n1 ** n2))\n",
        "\n",
        "else:\n",
        "  print(\"Invalid operation\")\n"
      ],
      "metadata": {
        "colab": {
          "base_uri": "https://localhost:8080/"
        },
        "id": "_v9M_kzJXafE",
        "outputId": "a938b7ef-1cb7-461b-9bd2-906ede3b7fda"
      },
      "execution_count": null,
      "outputs": [
        {
          "output_type": "stream",
          "name": "stdout",
          "text": [
            "Enter the operation( + or - or * or / or ^): ^\n",
            "Enter number 1: 12\n",
            "Enter number 2: 2\n",
            "12 ^ 2 = 144\n"
          ]
        }
      ]
    },
    {
      "cell_type": "markdown",
      "source": [
        "Question 9:"
      ],
      "metadata": {
        "id": "l5Jq6fSX0BWh"
      }
    },
    {
      "cell_type": "code",
      "source": [
        "def insert_que(mcq_quiz, ques, ans):\n",
        "  if ques not in mcq_quiz.keys():\n",
        "    mcq_quiz.__setitem__(ques, ans)\n",
        "  else:\n",
        "    mcq_quiz[ques] = ans\n",
        "  return mcq_quiz\n",
        "\n",
        "mcq_quiz_1 = dict()\n",
        "insert_que(mcq_quiz_1, \"1. Which of the following is used to measure the central tendency of a dataset?\\n A. Standard Deviation \\n B. Variance \\n C. Mean \\n D. Median\", \"C\")\n",
        "insert_que(mcq_quiz_1, \"2. What is the value of the expression: 2 * (3 + 5) - 4 / 2 ? \\n A. 10 \\n B. 12 \\n C. 14 \\n D. 8\", \"B\")\n",
        "insert_que(mcq_quiz_1, \"3. What is the SI unit of electric current?\\n A. Volt \\n B. Ampere \\n C. Ohm \\n D. Watt\", \"B\")\n",
        "insert_que(mcq_quiz_1, \"4. Which fundamental force is responsible for holding the nucleus of an atom together?\\n A.  Gravitational force \\n B. Electromagnetic force \\n C.Strong nuclear force \\n D. Weak nuclear force\", \"C\")\n",
        "insert_que(mcq_quiz_1, \"5. What is the pH of a solution with a hydrogen ion concentration of 1 x 10^-9 M?\\n A. 9 \\n B. 7 \\n C. 5 \\n D. 2\", \"A\")\n",
        "\n",
        "score = 0\n",
        "[print(q) for q in mcq_quiz_1.keys()]\n",
        "\n",
        "prompt1 = input(\"Answer for Q1: (A, B, C, D): \")\n",
        "\n",
        "if prompt1 == \"C\":\n",
        "  print(\"Correct!\")\n",
        "  score += 1\n",
        "\n",
        "else:\n",
        "  print(\"Incorrect\")\n",
        "\n",
        "prompt2 = input(\"Answer for Q2: (A, B, C, D): \")\n",
        "\n",
        "if prompt2 == \"B\":\n",
        "  print(\"Correct!\")\n",
        "  score += 1\n",
        "\n",
        "else:\n",
        "  print(\"Incorrect\")\n",
        "\n",
        "prompt3 = input(\"Answer for Q3: (A, B, C, D): \")\n",
        "\n",
        "if prompt3 == \"B\":\n",
        "  print(\"Correct!\")\n",
        "  score += 1\n",
        "\n",
        "else:\n",
        "  print(\"Incorrect\")\n",
        "\n",
        "prompt4 = input(\"Answer for Q4: (A, B, C, D): \")\n",
        "\n",
        "if prompt4 == \"C\":\n",
        "  print(\"Correct!\")\n",
        "  score += 1\n",
        "\n",
        "else:\n",
        "  print(\"Incorrect\")\n",
        "\n",
        "prompt5 = input(\"Answer for Q5: (A, B, C, D): \")\n",
        "\n",
        "if prompt5 == \"A\":\n",
        "  print(\"Correct!\")\n",
        "  score += 1\n",
        "\n",
        "else:\n",
        "  print(\"Incorrect\")\n",
        "\n",
        "\n",
        "print(\"Final score = {} / 5\".format(score))\n"
      ],
      "metadata": {
        "colab": {
          "base_uri": "https://localhost:8080/"
        },
        "id": "pmQnQTcF07fk",
        "outputId": "f5223502-719e-4173-e98e-8a5a81dd1ad1"
      },
      "execution_count": 40,
      "outputs": [
        {
          "output_type": "stream",
          "name": "stdout",
          "text": [
            "1. Which of the following is used to measure the central tendency of a dataset?\n",
            " A. Standard Deviation \n",
            " B. Variance \n",
            " C. Mean \n",
            " D. Median\n",
            "2. What is the value of the expression: 2 * (3 + 5) - 4 / 2 ? \n",
            " A. 10 \n",
            " B. 12 \n",
            " C. 14 \n",
            " D. 8\n",
            "3. What is the SI unit of electric current?\n",
            " A. Volt \n",
            " B. Ampere \n",
            " C. Ohm \n",
            " D. Watt\n",
            "4. Which fundamental force is responsible for holding the nucleus of an atom together?\n",
            " A.  Gravitational force \n",
            " B. Electromagnetic force \n",
            " C.Strong nuclear force \n",
            " D. Weak nuclear force\n",
            "5. What is the pH of a solution with a hydrogen ion concentration of 1 x 10^-9 M?\n",
            " A. 9 \n",
            " B. 7 \n",
            " C. 5 \n",
            " D. 2\n",
            "Answer for Q1: (A, B, C, D): C\n",
            "Correct!\n",
            "Answer for Q2: (A, B, C, D): B\n",
            "Correct!\n",
            "Answer for Q3: (A, B, C, D): A\n",
            "Incorrect\n",
            "Answer for Q4: (A, B, C, D): C\n",
            "Correct!\n",
            "Answer for Q5: (A, B, C, D): A\n",
            "Correct!\n",
            "Final score = 4 / 5\n"
          ]
        }
      ]
    },
    {
      "cell_type": "markdown",
      "source": [
        "Question 10:"
      ],
      "metadata": {
        "id": "Sfz9qdtaLv7-"
      }
    },
    {
      "cell_type": "code",
      "source": [
        "def bubble_sort(arr):\n",
        "    m = len(arr)\n",
        "    iterations = 0\n",
        "    for k in range(m):\n",
        "        swapped = False\n",
        "        for j in range(0, m-k-1):\n",
        "            if arr[j] > arr[j+1]:\n",
        "                arr[j], arr[j+1] = arr[j+1], arr[j]\n",
        "                swapped = True\n",
        "            iterations += 1\n",
        "        if not swapped:\n",
        "            break\n",
        "    return iterations\n",
        "\n",
        "num_elements = 10\n",
        "random_list = [random.randint(1, 100) for x in range(num_elements)]\n",
        "\n",
        "print(\"Original List:\", random_list)\n",
        "\n",
        "# Sorted the list using bubble sort and also returned the number of iterations\n",
        "iterations_needed = bubble_sort(random_list)\n",
        "\n",
        "print(\"Sorted List:\", random_list)\n",
        "print(\"Number of Iterations:\", iterations_needed)"
      ],
      "metadata": {
        "colab": {
          "base_uri": "https://localhost:8080/"
        },
        "id": "5FP5ZOYZLyXW",
        "outputId": "9c807a3b-2688-46b7-a402-d0ba7506aa93"
      },
      "execution_count": 38,
      "outputs": [
        {
          "output_type": "stream",
          "name": "stdout",
          "text": [
            "Original List: [74, 72, 61, 55, 19, 36, 1, 71, 27, 14]\n",
            "Sorted List: [1, 14, 19, 27, 36, 55, 61, 71, 72, 74]\n",
            "Number of Iterations: 45\n"
          ]
        }
      ]
    },
    {
      "cell_type": "markdown",
      "source": [
        "Question 11:"
      ],
      "metadata": {
        "id": "w5OBUHQhLaYi"
      }
    },
    {
      "cell_type": "code",
      "source": [
        "randint_guess = random.randint(1,100)\n",
        "\n",
        "print(\"You have five guesses! Guess an integer between 1 to 100\")\n",
        "guess_count = 0\n",
        "\n",
        "for guesses in range(5):\n",
        "  guesses = int(input(\"Guess {}: \".format(guesses+1)))\n",
        "\n",
        "  if guesses > randint_guess:\n",
        "    print(\"Lower\")\n",
        "\n",
        "  elif guesses < randint_guess:\n",
        "    print(\"Higher\")\n",
        "\n",
        "  else:\n",
        "    print(\"You found the number!! Bingo!\")\n",
        "\n",
        "  guess_count +=1\n",
        "\n",
        "  if guess_count == 5:\n",
        "    print(\"Guesses Over! The number was {}\".format(randint_guess))"
      ],
      "metadata": {
        "colab": {
          "base_uri": "https://localhost:8080/"
        },
        "id": "yrVvqoVhIGY2",
        "outputId": "1c873aa9-d1e4-41fe-b801-aacefadd6d50"
      },
      "execution_count": 36,
      "outputs": [
        {
          "output_type": "stream",
          "name": "stdout",
          "text": [
            "You have five guesses! Guess an integer between 1 to 100\n",
            "Guess 1: 12\n",
            "Lower\n",
            "Guess 2: 7\n",
            "Lower\n",
            "Guess 3: 4\n",
            "Lower\n",
            "Guess 4: 3\n",
            "Lower\n",
            "Guess 5: 1\n",
            "Higher\n",
            "Guesses Over! The number was 2\n"
          ]
        }
      ]
    },
    {
      "cell_type": "code",
      "source": [],
      "metadata": {
        "id": "oVR5BfNZN8Zo"
      },
      "execution_count": null,
      "outputs": []
    }
  ]
}