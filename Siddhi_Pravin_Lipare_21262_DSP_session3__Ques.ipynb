{
  "nbformat": 4,
  "nbformat_minor": 0,
  "metadata": {
    "colab": {
      "provenance": []
    },
    "kernelspec": {
      "name": "python3",
      "display_name": "Python 3"
    },
    "language_info": {
      "name": "python"
    }
  },
  "cells": [
    {
      "cell_type": "markdown",
      "source": [
        "# Exercise: Hello\n",
        "Write a hello function\n",
        "\n",
        "*   Ask the user to enter the name\n",
        "*   Ask the user to enter how many times the name to be printed\n",
        "*  Use a for loop to print that many number of times the name.\n",
        "\n",
        "\n",
        "\n",
        "\n",
        "\n"
      ],
      "metadata": {
        "id": "rEGFLx-YeQjf"
      }
    },
    {
      "cell_type": "code",
      "execution_count": 8,
      "metadata": {
        "id": "nhmLU_SbdxnN",
        "colab": {
          "base_uri": "https://localhost:8080/"
        },
        "outputId": "dc0645ca-fb94-4351-a596-a27b3faca198"
      },
      "outputs": [
        {
          "output_type": "stream",
          "name": "stdout",
          "text": [
            "Enter your name: Siddhi\n",
            "How many times do you want your name to be printed? 6\n",
            "\n",
            "\n",
            "Siddhi\n",
            "\n",
            "Siddhi\n",
            "\n",
            "Siddhi\n",
            "\n",
            "Siddhi\n",
            "\n",
            "Siddhi\n",
            "\n",
            "Siddhi\n",
            "\n"
          ]
        }
      ],
      "source": [
        "# Write your Code here:\n",
        "\n",
        "user_name = input(\"Enter your name: \")\n",
        "name_count = int(input(\"How many times do you want your name to be printed? \"))\n",
        "print('\\n')\n",
        "for counts in range(name_count):\n",
        "\n",
        "  print(user_name + '\\n')\n",
        "\n",
        "\n"
      ]
    },
    {
      "cell_type": "markdown",
      "source": [
        "\n",
        "\n",
        "# Exercise: For Loops with Break, Continue, and Pass\n",
        "\n",
        "1. Write a function, `loop_break`, which will allow you to demonstrate the use of the `break` statement in a `for` loop.\n",
        "2. The function should take as input a list of numbers and a target number.\n",
        "3. Use a `for` loop to iterate over the numbers in the list.\n",
        "4. If the current number is equal to the target number, print a message and break out of the loop.\n",
        "5. Write another function, `loop_continue`, which will allow you to demonstrate the use of the `continue` statement in a `for` loop.\n",
        "6. The function should take as input a list of numbers and a target number.\n",
        "7. Use a `for` loop to iterate over the numbers in the list.\n",
        "8. If the current number is equal to the target number, skip it using the `continue` statement.\n",
        "9. Write another function, `loop_pass`, which will allow you to demonstrate the use of the `pass` statement in a `for` loop.\n",
        "10. The function should take as input a list of numbers and a target number.\n",
        "11. Use a `for` loop to iterate over the numbers in the list.\n",
        "12. If the current number is equal to the target number, do nothing using the `pass` statement.\n",
        "\n",
        "Example:\n",
        "\n",
        "```python\n",
        "\n",
        "numbers = [1, 2, 3, 4, 5]\n",
        "target = 3\n",
        "\n",
        "loop_break(numbers, target)     # Target 3 found!\n",
        "loop_continue(numbers, target)  # 1 2 4 5\n",
        "loop_pass(numbers, target)      # 1 2 3 4 5\n",
        "```\n",
        "\n",
        " The `loop_break` function takes as input a list of numbers and a target number. It uses a `for` loop to iterate over the numbers in the list and checks if each number is equal to the target number. If it is, it prints a message and breaks out of the loop using the `break` statement.\n",
        "\n",
        "The `loop_continue` function is similar, but instead of breaking out of the loop when it finds the target number, it skips it using the `continue` statement.\n",
        "\n",
        "The `loop_pass` function also takes as input a list of numbers and a target number. It uses a `for` loop to iterate over the numbers in the list and checks if each number is equal to the target number. If it is, it does nothing using the `pass` statement.\n",
        "\n"
      ],
      "metadata": {
        "id": "s4pACxlTWaM8"
      }
    },
    {
      "cell_type": "code",
      "source": [
        "def loop_break(numbers, target):\n",
        "    # Complete your code here\n",
        "    for num in numbers :\n",
        "      if num == target:\n",
        "        print(\"Target {} found!\".format(target))\n",
        "        break\n",
        "\n",
        "      else:\n",
        "        num += 1\n",
        "\n",
        "\n",
        "def loop_continue(numbers, target):\n",
        "    # Complete your code here\n",
        "    for num in numbers:\n",
        "        if num == target:\n",
        "          continue\n",
        "\n",
        "        print(num, end = \" \")\n",
        "\n",
        "def loop_pass(numbers, target):\n",
        "    # Complete your code here\n",
        "    for num in numbers:\n",
        "        if num == target:\n",
        "          pass\n",
        "\n",
        "        print(num, end = \" \")\n",
        "\n",
        "\n",
        "loop_break([1,2,3,4,5], 3)    # Target 3 found!\n",
        "loop_continue([1,2,3,4,5],3)  # 1 2 4 5\n",
        "print('\\n')\n",
        "loop_pass([1,2,3,4,5], 3)      # 1 2 3 4 5\n",
        "print('\\n')"
      ],
      "metadata": {
        "id": "ITrTDWoKWZt4",
        "colab": {
          "base_uri": "https://localhost:8080/"
        },
        "outputId": "6d2f0c5a-ddfe-4599-f5db-2e0d576d064d"
      },
      "execution_count": 1,
      "outputs": [
        {
          "output_type": "stream",
          "name": "stdout",
          "text": [
            "Target 3 found!\n",
            "1 2 4 5 \n",
            "\n",
            "1 2 3 4 5 \n",
            "\n"
          ]
        }
      ]
    },
    {
      "cell_type": "markdown",
      "source": [],
      "metadata": {
        "id": "HAOy-M87qwKp"
      }
    },
    {
      "cell_type": "markdown",
      "source": [
        "\n",
        "\n",
        "# Exercise: List Comprehensions\n",
        "\n",
        "1. Write a list comprehension that generates a list of the first ten even numbers.\n",
        "2. Write a list comprehension that generates a list of the first ten odd numbers.\n",
        "3. Write a list comprehension that generates a list of the first ten prime numbers.\n",
        "4. Write a list comprehension that generates a list of the first ten Fibonacci numbers.\n",
        "5. Lucas numbers, which are similar to the Fibonacci numbers but start with 2 and 1 instead of 0 and 1. Write a list comprehension that generates a list of the first ten Lucas numbers.\n",
        "6. Pell numbers, which are defined by the recurrence relation `P(n) = 2*P(n-1) + P(n-2)` with seed values `P(0) = 0` and `P(1) = 1`.  Write a list comprehension that generates a list of the first ten Lucas numbers\n",
        "7. Implement lambda function anywhere in these exercises to make your codes effcient\n",
        "\n",
        "\n",
        "Example:\n",
        "\n",
        "```python\n",
        "squares = [x**2 for x in range(1, 11)]\n",
        "print(squares)  # [1, 4, 9, 16, 25, 36, 49, 64, 81, 100]\n",
        "\n",
        "```\n",
        "\n",
        "\n"
      ],
      "metadata": {
        "id": "yMfTojoDo9_d"
      }
    },
    {
      "cell_type": "code",
      "source": [
        "# write your code here\n",
        "# 1.\n",
        "evens = [x * 2 for x in range(1, 11)]\n",
        "print(\"First 10 even numbers: \", evens)\n",
        "\n",
        "# 2.\n",
        "odds = [x * 2 + 1 for x in range(0, 10)]\n",
        "print(\"First 10 odd numbers: \", odds)\n",
        "\n",
        "# 3.\n",
        "is_prime = lambda num: all(num % i != 0 for i in range(2, int(num ** 0.5) + 1))\n",
        "prime_numbers = [x for x in range(2, 30) if is_prime(x)][:10]\n",
        "print(\"First 10 Primes: \", prime_numbers)\n",
        "\n",
        "# 4.\n",
        "fibonacci = lambda n: n if n <= 1 else fibonacci(n - 1) + fibonacci(n - 2)\n",
        "fibonacci_numbers = [fibonacci(x) for x in range(10)]\n",
        "print(\"First 10 numbers in Fibonacci sequence: \", fibonacci_numbers)\n",
        "\n",
        "# 5.\n",
        "lucas = lambda n: 2 if n == 0 else (1 if n == 1 else lucas(n - 1) + lucas(n - 2))\n",
        "lucas_numbers = [lucas(x) for x in range(10)]\n",
        "print(\"First 10 Lucas numbers: \", lucas_numbers)\n",
        "\n",
        "# 6.\n",
        "pell = lambda n: n if n <= 1 else 2 * pell(n - 1) + pell(n - 2)\n",
        "pell_numbers = [pell(x) for x in range(10)]\n",
        "print(\"First 10 Pell numbers: \", pell_numbers)\n"
      ],
      "metadata": {
        "id": "h54Mtz5Oq3vF",
        "colab": {
          "base_uri": "https://localhost:8080/"
        },
        "outputId": "93f16067-6951-459f-8e64-aa00a2649945"
      },
      "execution_count": 10,
      "outputs": [
        {
          "output_type": "stream",
          "name": "stdout",
          "text": [
            "First 10 even numbers:  [2, 4, 6, 8, 10, 12, 14, 16, 18, 20]\n",
            "First 10 odd numbers:  [1, 3, 5, 7, 9, 11, 13, 15, 17, 19]\n",
            "First 10 Primes:  [2, 3, 5, 7, 11, 13, 17, 19, 23, 29]\n",
            "First 10 numbers in Fibonacci sequence:  [0, 1, 1, 2, 3, 5, 8, 13, 21, 34]\n",
            "First 10 Lucas numbers:  [2, 1, 3, 4, 7, 11, 18, 29, 47, 76]\n",
            "First 10 Pell numbers:  [0, 1, 2, 5, 12, 29, 70, 169, 408, 985]\n"
          ]
        }
      ]
    },
    {
      "cell_type": "markdown",
      "source": [
        "\n",
        "# Exercise: Multiplication Tables\n",
        "\n",
        "1. Write a function, `print_multiplication_table`, which will allow you to print a multiplication table for a given number.\n",
        "2. The function should take as input a number and the number of rows to print.\n",
        "3. Use a `for` loop with the `range` function to iterate over the rows of the multiplication table.\n",
        "4. For each row, calculate the product of the input number and the current row number, and print the result.\n",
        "\n",
        "Example:\n",
        "\n",
        "```python\n",
        "print_multiplication_table(5, 10)\n",
        "```\n",
        "\n",
        "Define a function `print_multiplication_table` that takes as input a number and the number of rows to print. The function uses a `for` loop with the `range` function to iterate over the rows of the multiplication table. For each row, it calculates the product of the input number and the current row number, and prints the result using an f-string.\n",
        "\n",
        "When we call this function with arguments `5` and `10`, it prints the multiplication table for the number 5 with 10 rows:\n",
        "\n",
        "```\n",
        "5 x 1 = 5\n",
        "5 x 2 = 10\n",
        "5 x 3 = 15\n",
        "5 x 4 = 20\n",
        "5 x 5 = 25\n",
        "5 x 6 = 30\n",
        "5 x 7 = 35\n",
        "5 x 8 = 40\n",
        "5 x 9 = 45\n",
        "5 x 10 = 50\n",
        "```\n"
      ],
      "metadata": {
        "id": "6wHfMaZEvfl8"
      }
    },
    {
      "cell_type": "code",
      "source": [
        "# write your code here:\n",
        "def print_multiplication_table():\n",
        "    num1 = int(input(\"Enter the number: \"))\n",
        "    rows1 = int(input(\"Enter number of rows to be printed: \"))\n",
        "    for num_count in range(1,rows1+1):\n",
        "      print (\"{} x {} = {}\".format(num1, num_count, num1 * num_count))\n",
        "\n",
        "print_multiplication_table()\n"
      ],
      "metadata": {
        "id": "aVStpnv7vmFu",
        "colab": {
          "base_uri": "https://localhost:8080/"
        },
        "outputId": "d68ee7b7-dabe-4b95-b60f-385e519d31c2"
      },
      "execution_count": 13,
      "outputs": [
        {
          "output_type": "stream",
          "name": "stdout",
          "text": [
            "Enter the number: 5\n",
            "Enter number of rows to be printed: 10\n",
            "5 x 1 = 5\n",
            "5 x 2 = 10\n",
            "5 x 3 = 15\n",
            "5 x 4 = 20\n",
            "5 x 5 = 25\n",
            "5 x 6 = 30\n",
            "5 x 7 = 35\n",
            "5 x 8 = 40\n",
            "5 x 9 = 45\n",
            "5 x 10 = 50\n"
          ]
        }
      ]
    },
    {
      "cell_type": "markdown",
      "source": [
        "# Exercise: Calculator\n",
        "\n",
        "1. Write a function, `calc`, which will allow us to perform some simple calculations.\n",
        "2. Ask the user to enter a math expression in one line (e.g., `'2 + 2'`).\n",
        "3. Use `str.split` to break that input into a list of three elements. (Let's assume that the user enters a valid string, with numbers and an operator between them.)\n",
        "4. If the user entered `+`, print the result of adding the numbers.\n",
        "5. If the user entered `-`, print the result of subtracting the numbers.\n",
        "\n",
        "Example:\n",
        "\n",
        "    calc()\n",
        "\n",
        "    Enter an expression: 10 + 8\n",
        "    10 + 8 = 18    \n",
        "\n",
        "Hints/reminders:\n",
        "1. Any string can be split on whitespace with `s.split()` -- no argument means that we'll split on any whitespace, of any length.\n",
        "2. Remember that the result of `str.split` is a list of strings.\n",
        "3. If you need to turn a string into an integer, use `int`."
      ],
      "metadata": {
        "id": "AHsayHaWfrKF"
      }
    },
    {
      "cell_type": "code",
      "source": [
        "# write your code here:\n",
        "def calc():\n",
        "  expression1 = input(\"Enter a valid expression (Eg. 5 + 10 with expression separated by a space): \")\n",
        "  nums = expression1.split()\n",
        "  if nums[1] == '+':\n",
        "    print(\"{} = {}\".format((expression1),(int(nums[0]) + int(nums[2]))))\n",
        "  if nums[1] == '-':\n",
        "    print(\"{} = {}\".format((expression1),(int(nums[0]) - int(nums[2]))))\n",
        "\n",
        "\n",
        "calc()\n",
        "\n"
      ],
      "metadata": {
        "id": "XpVkMeilfqb-",
        "colab": {
          "base_uri": "https://localhost:8080/"
        },
        "outputId": "438e704a-e838-47cb-b570-64c8ef0ff357"
      },
      "execution_count": 14,
      "outputs": [
        {
          "output_type": "stream",
          "name": "stdout",
          "text": [
            "Enter a valid expression (Eg. 5 + 10 with expression separated by a space): 5 + 10\n",
            "5 + 10 = 15\n"
          ]
        }
      ]
    },
    {
      "cell_type": "markdown",
      "source": [
        "\n",
        "\n",
        "# Exercise: Matrix Multiplication\n",
        "\n",
        "1. Write a function, `matrix_multiplication`, which will allow you to multiply two matrices.\n",
        "2. The function should take as input two matrices represented as lists of lists, where each inner list represents a row of the matrix.\n",
        "3. Use nested `for` loops to iterate over the rows and columns of the resulting matrix.\n",
        "4. For each element in the resulting matrix, calculate its value by taking the dot product of the corresponding row in the first matrix and the corresponding column in the second matrix.\n",
        "5. Return the resulting matrix as a list of lists.\n",
        "\n",
        "Example:\n",
        "\n",
        "```python\n",
        "a = [[1, 2], [3, 4]]\n",
        "b = [[5, 6], [7, 8]]\n",
        "print(matrix_multiplication(a, b))  # [[19, 22], [43, 50]]\n",
        "```\n",
        "\n",
        "\n",
        "\n",
        "When we call this function with two matrices `a` and `b`, it returns their product as a new matrix:\n",
        "\n",
        "```\n",
        "[[1, 2],   [[5, 6],   [[19, 22],\n",
        " [3, 4]] *  [7, 8]] =  [43, 50]]\n",
        "```\n",
        "\n"
      ],
      "metadata": {
        "id": "DhNm-MeayZ-7"
      }
    },
    {
      "cell_type": "code",
      "source": [
        "# write your code here:\n",
        "def matrix_multiplication(matrix1, matrix2):\n",
        "    rows_1 = len(matrix1)\n",
        "    columns_1 = len(matrix1[0])\n",
        "    rows_2 = len(matrix2)\n",
        "    columns_2 = len(matrix2[0])\n",
        "\n",
        "    if columns_1 != rows_2:\n",
        "        raise ValueError(\"Number of columns in matrix1 must be equal to the number of rows in matrix2.\")\n",
        "\n",
        "    result = [[0 for p in range(columns_2)] for p in range(rows_1)]\n",
        "\n",
        "    for i in range(rows_1):\n",
        "        for j in range(columns_2):\n",
        "            dot_product = 0\n",
        "            for k in range(columns_1):\n",
        "                dot_product += matrix1[i][k] * matrix2[k][j]\n",
        "            result[i][j] = dot_product\n",
        "\n",
        "    return result\n",
        "\n",
        "# Example matrices\n",
        "matrix_a = [[1, 2],\n",
        "            [3, 4]]\n",
        "matrix_b = [[5, 6],\n",
        "            [7, 8]]\n",
        "\n",
        "result_matrix = matrix_multiplication(matrix_a, matrix_b)\n",
        "for row in result_matrix:\n",
        "    print(row)\n"
      ],
      "metadata": {
        "id": "NtzETv-nyg1P",
        "colab": {
          "base_uri": "https://localhost:8080/"
        },
        "outputId": "c1ffbc4c-6249-4571-fd7e-38a744addafe"
      },
      "execution_count": 19,
      "outputs": [
        {
          "output_type": "stream",
          "name": "stdout",
          "text": [
            "[19, 22]\n",
            "[43, 50]\n"
          ]
        }
      ]
    },
    {
      "cell_type": "markdown",
      "source": [
        "# Exercise: Invert Module\n",
        "Open the text editor on your local machine and copy the following code into the editor and save it as invert_string.py\n",
        "\n",
        "```python\n",
        "# invert_string.py\n",
        "\n",
        "def invert(s):\n",
        "    if not isinstance(s, str):\n",
        "        raise TypeError('Input must be a string')\n",
        "    return s[::-1]\n",
        "```"
      ],
      "metadata": {
        "id": "FTadvipZeVj3"
      }
    },
    {
      "cell_type": "markdown",
      "source": [
        "### Run the code block below and upload the file here.\n",
        "\n"
      ],
      "metadata": {
        "id": "8kAUmmGBjPLm"
      }
    },
    {
      "cell_type": "code",
      "source": [
        "from google.colab import files\n",
        "files.upload()\n"
      ],
      "metadata": {
        "id": "TRxvfTdmjWrm",
        "colab": {
          "base_uri": "https://localhost:8080/",
          "height": 90
        },
        "outputId": "fdcd3298-2033-45a4-abd6-13f593d2c87b"
      },
      "execution_count": 20,
      "outputs": [
        {
          "output_type": "display_data",
          "data": {
            "text/plain": [
              "<IPython.core.display.HTML object>"
            ],
            "text/html": [
              "\n",
              "     <input type=\"file\" id=\"files-de694509-6e56-4422-aeef-7a2a247bd7ce\" name=\"files[]\" multiple disabled\n",
              "        style=\"border:none\" />\n",
              "     <output id=\"result-de694509-6e56-4422-aeef-7a2a247bd7ce\">\n",
              "      Upload widget is only available when the cell has been executed in the\n",
              "      current browser session. Please rerun this cell to enable.\n",
              "      </output>\n",
              "      <script>// Copyright 2017 Google LLC\n",
              "//\n",
              "// Licensed under the Apache License, Version 2.0 (the \"License\");\n",
              "// you may not use this file except in compliance with the License.\n",
              "// You may obtain a copy of the License at\n",
              "//\n",
              "//      http://www.apache.org/licenses/LICENSE-2.0\n",
              "//\n",
              "// Unless required by applicable law or agreed to in writing, software\n",
              "// distributed under the License is distributed on an \"AS IS\" BASIS,\n",
              "// WITHOUT WARRANTIES OR CONDITIONS OF ANY KIND, either express or implied.\n",
              "// See the License for the specific language governing permissions and\n",
              "// limitations under the License.\n",
              "\n",
              "/**\n",
              " * @fileoverview Helpers for google.colab Python module.\n",
              " */\n",
              "(function(scope) {\n",
              "function span(text, styleAttributes = {}) {\n",
              "  const element = document.createElement('span');\n",
              "  element.textContent = text;\n",
              "  for (const key of Object.keys(styleAttributes)) {\n",
              "    element.style[key] = styleAttributes[key];\n",
              "  }\n",
              "  return element;\n",
              "}\n",
              "\n",
              "// Max number of bytes which will be uploaded at a time.\n",
              "const MAX_PAYLOAD_SIZE = 100 * 1024;\n",
              "\n",
              "function _uploadFiles(inputId, outputId) {\n",
              "  const steps = uploadFilesStep(inputId, outputId);\n",
              "  const outputElement = document.getElementById(outputId);\n",
              "  // Cache steps on the outputElement to make it available for the next call\n",
              "  // to uploadFilesContinue from Python.\n",
              "  outputElement.steps = steps;\n",
              "\n",
              "  return _uploadFilesContinue(outputId);\n",
              "}\n",
              "\n",
              "// This is roughly an async generator (not supported in the browser yet),\n",
              "// where there are multiple asynchronous steps and the Python side is going\n",
              "// to poll for completion of each step.\n",
              "// This uses a Promise to block the python side on completion of each step,\n",
              "// then passes the result of the previous step as the input to the next step.\n",
              "function _uploadFilesContinue(outputId) {\n",
              "  const outputElement = document.getElementById(outputId);\n",
              "  const steps = outputElement.steps;\n",
              "\n",
              "  const next = steps.next(outputElement.lastPromiseValue);\n",
              "  return Promise.resolve(next.value.promise).then((value) => {\n",
              "    // Cache the last promise value to make it available to the next\n",
              "    // step of the generator.\n",
              "    outputElement.lastPromiseValue = value;\n",
              "    return next.value.response;\n",
              "  });\n",
              "}\n",
              "\n",
              "/**\n",
              " * Generator function which is called between each async step of the upload\n",
              " * process.\n",
              " * @param {string} inputId Element ID of the input file picker element.\n",
              " * @param {string} outputId Element ID of the output display.\n",
              " * @return {!Iterable<!Object>} Iterable of next steps.\n",
              " */\n",
              "function* uploadFilesStep(inputId, outputId) {\n",
              "  const inputElement = document.getElementById(inputId);\n",
              "  inputElement.disabled = false;\n",
              "\n",
              "  const outputElement = document.getElementById(outputId);\n",
              "  outputElement.innerHTML = '';\n",
              "\n",
              "  const pickedPromise = new Promise((resolve) => {\n",
              "    inputElement.addEventListener('change', (e) => {\n",
              "      resolve(e.target.files);\n",
              "    });\n",
              "  });\n",
              "\n",
              "  const cancel = document.createElement('button');\n",
              "  inputElement.parentElement.appendChild(cancel);\n",
              "  cancel.textContent = 'Cancel upload';\n",
              "  const cancelPromise = new Promise((resolve) => {\n",
              "    cancel.onclick = () => {\n",
              "      resolve(null);\n",
              "    };\n",
              "  });\n",
              "\n",
              "  // Wait for the user to pick the files.\n",
              "  const files = yield {\n",
              "    promise: Promise.race([pickedPromise, cancelPromise]),\n",
              "    response: {\n",
              "      action: 'starting',\n",
              "    }\n",
              "  };\n",
              "\n",
              "  cancel.remove();\n",
              "\n",
              "  // Disable the input element since further picks are not allowed.\n",
              "  inputElement.disabled = true;\n",
              "\n",
              "  if (!files) {\n",
              "    return {\n",
              "      response: {\n",
              "        action: 'complete',\n",
              "      }\n",
              "    };\n",
              "  }\n",
              "\n",
              "  for (const file of files) {\n",
              "    const li = document.createElement('li');\n",
              "    li.append(span(file.name, {fontWeight: 'bold'}));\n",
              "    li.append(span(\n",
              "        `(${file.type || 'n/a'}) - ${file.size} bytes, ` +\n",
              "        `last modified: ${\n",
              "            file.lastModifiedDate ? file.lastModifiedDate.toLocaleDateString() :\n",
              "                                    'n/a'} - `));\n",
              "    const percent = span('0% done');\n",
              "    li.appendChild(percent);\n",
              "\n",
              "    outputElement.appendChild(li);\n",
              "\n",
              "    const fileDataPromise = new Promise((resolve) => {\n",
              "      const reader = new FileReader();\n",
              "      reader.onload = (e) => {\n",
              "        resolve(e.target.result);\n",
              "      };\n",
              "      reader.readAsArrayBuffer(file);\n",
              "    });\n",
              "    // Wait for the data to be ready.\n",
              "    let fileData = yield {\n",
              "      promise: fileDataPromise,\n",
              "      response: {\n",
              "        action: 'continue',\n",
              "      }\n",
              "    };\n",
              "\n",
              "    // Use a chunked sending to avoid message size limits. See b/62115660.\n",
              "    let position = 0;\n",
              "    do {\n",
              "      const length = Math.min(fileData.byteLength - position, MAX_PAYLOAD_SIZE);\n",
              "      const chunk = new Uint8Array(fileData, position, length);\n",
              "      position += length;\n",
              "\n",
              "      const base64 = btoa(String.fromCharCode.apply(null, chunk));\n",
              "      yield {\n",
              "        response: {\n",
              "          action: 'append',\n",
              "          file: file.name,\n",
              "          data: base64,\n",
              "        },\n",
              "      };\n",
              "\n",
              "      let percentDone = fileData.byteLength === 0 ?\n",
              "          100 :\n",
              "          Math.round((position / fileData.byteLength) * 100);\n",
              "      percent.textContent = `${percentDone}% done`;\n",
              "\n",
              "    } while (position < fileData.byteLength);\n",
              "  }\n",
              "\n",
              "  // All done.\n",
              "  yield {\n",
              "    response: {\n",
              "      action: 'complete',\n",
              "    }\n",
              "  };\n",
              "}\n",
              "\n",
              "scope.google = scope.google || {};\n",
              "scope.google.colab = scope.google.colab || {};\n",
              "scope.google.colab._files = {\n",
              "  _uploadFiles,\n",
              "  _uploadFilesContinue,\n",
              "};\n",
              "})(self);\n",
              "</script> "
            ]
          },
          "metadata": {}
        },
        {
          "output_type": "stream",
          "name": "stdout",
          "text": [
            "Saving invert_string.py to invert_string.py\n"
          ]
        },
        {
          "output_type": "execute_result",
          "data": {
            "text/plain": [
              "{'invert_string.py': b\"def invert(s):\\r\\n    if not isinstance(s, str):\\r\\n        raise TypeError('Input must be a string')\\r\\n    return s[::-1]\"}"
            ]
          },
          "metadata": {},
          "execution_count": 20
        }
      ]
    },
    {
      "cell_type": "markdown",
      "source": [
        "### Now import the module and test it"
      ],
      "metadata": {
        "id": "DcI-HvCQjXnL"
      }
    },
    {
      "cell_type": "code",
      "source": [
        "from invert_string import invert\n",
        "\n",
        "\n",
        "print(invert('hello'))  # 'olleh'\n",
        "print(invert(123))      # TypeError: Input must be a string"
      ],
      "metadata": {
        "id": "ojsPCHIjjaCU",
        "colab": {
          "base_uri": "https://localhost:8080/",
          "height": 331
        },
        "outputId": "9ffa41e5-e0f1-4c70-ecc9-7a174c7c6914"
      },
      "execution_count": 21,
      "outputs": [
        {
          "output_type": "stream",
          "name": "stdout",
          "text": [
            "olleh\n"
          ]
        },
        {
          "output_type": "error",
          "ename": "TypeError",
          "evalue": "ignored",
          "traceback": [
            "\u001b[0;31m---------------------------------------------------------------------------\u001b[0m",
            "\u001b[0;31mTypeError\u001b[0m                                 Traceback (most recent call last)",
            "\u001b[0;32m<ipython-input-21-acb1ae19d8a7>\u001b[0m in \u001b[0;36m<cell line: 5>\u001b[0;34m()\u001b[0m\n\u001b[1;32m      3\u001b[0m \u001b[0;34m\u001b[0m\u001b[0m\n\u001b[1;32m      4\u001b[0m \u001b[0mprint\u001b[0m\u001b[0;34m(\u001b[0m\u001b[0minvert\u001b[0m\u001b[0;34m(\u001b[0m\u001b[0;34m'hello'\u001b[0m\u001b[0;34m)\u001b[0m\u001b[0;34m)\u001b[0m  \u001b[0;31m# 'olleh'\u001b[0m\u001b[0;34m\u001b[0m\u001b[0;34m\u001b[0m\u001b[0m\n\u001b[0;32m----> 5\u001b[0;31m \u001b[0mprint\u001b[0m\u001b[0;34m(\u001b[0m\u001b[0minvert\u001b[0m\u001b[0;34m(\u001b[0m\u001b[0;36m123\u001b[0m\u001b[0;34m)\u001b[0m\u001b[0;34m)\u001b[0m      \u001b[0;31m# TypeError: Input must be a string\u001b[0m\u001b[0;34m\u001b[0m\u001b[0;34m\u001b[0m\u001b[0m\n\u001b[0m",
            "\u001b[0;32m/content/invert_string.py\u001b[0m in \u001b[0;36minvert\u001b[0;34m(s)\u001b[0m\n\u001b[1;32m      1\u001b[0m \u001b[0;32mdef\u001b[0m \u001b[0minvert\u001b[0m\u001b[0;34m(\u001b[0m\u001b[0ms\u001b[0m\u001b[0;34m)\u001b[0m\u001b[0;34m:\u001b[0m\u001b[0;34m\u001b[0m\u001b[0;34m\u001b[0m\u001b[0m\n\u001b[1;32m      2\u001b[0m     \u001b[0;32mif\u001b[0m \u001b[0;32mnot\u001b[0m \u001b[0misinstance\u001b[0m\u001b[0;34m(\u001b[0m\u001b[0ms\u001b[0m\u001b[0;34m,\u001b[0m \u001b[0mstr\u001b[0m\u001b[0;34m)\u001b[0m\u001b[0;34m:\u001b[0m\u001b[0;34m\u001b[0m\u001b[0;34m\u001b[0m\u001b[0m\n\u001b[0;32m----> 3\u001b[0;31m         \u001b[0;32mraise\u001b[0m \u001b[0mTypeError\u001b[0m\u001b[0;34m(\u001b[0m\u001b[0;34m'Input must be a string'\u001b[0m\u001b[0;34m)\u001b[0m\u001b[0;34m\u001b[0m\u001b[0;34m\u001b[0m\u001b[0m\n\u001b[0m\u001b[1;32m      4\u001b[0m     \u001b[0;32mreturn\u001b[0m \u001b[0ms\u001b[0m\u001b[0;34m[\u001b[0m\u001b[0;34m:\u001b[0m\u001b[0;34m:\u001b[0m\u001b[0;34m-\u001b[0m\u001b[0;36m1\u001b[0m\u001b[0;34m]\u001b[0m\u001b[0;34m\u001b[0m\u001b[0;34m\u001b[0m\u001b[0m\n",
            "\u001b[0;31mTypeError\u001b[0m: Input must be a string"
          ]
        }
      ]
    },
    {
      "cell_type": "markdown",
      "source": [
        "\n",
        "\n",
        "1.   Define function `is_palindrome` that takes as input a string and returns `True` if it is a palindrome (i.e., if it reads the same backward as forward) and `False` otherwise.\n",
        "** Hint- It uses the `invert` function from the `invert_string` module to check if the input string is equal to its inverted version.\n",
        "\n",
        "2.   Input ten strings from the user, and check using the `is_palindrome` function. If the input string is not a palindrome, we skip it, and do not add it to the list of strings.\n",
        "\n",
        "3.  Print the list of palindromes\n",
        "\n",
        "Sample output:\n",
        "\n",
        "```\n",
        "Enter string 1: racecar\n",
        "Enter string 2: level\n",
        "Enter string 3: rotor\n",
        "Enter string 4: civic\n",
        "Enter string 5: kayak\n",
        "Enter string 6: madam\n",
        "Enter string 7: refer\n",
        "Enter string 8: stats\n",
        "Enter string 9: solos\n",
        "Enter string 10: tenet\n",
        "['racecar', 'level', 'rotor', 'civic', 'kayak', 'madam', 'refer', 'stats', 'solos', 'tenet']\n",
        "```\n",
        "\n"
      ],
      "metadata": {
        "id": "vHminEv_j_qh"
      }
    },
    {
      "cell_type": "code",
      "source": [
        "# Write your code here\n",
        "from invert_string import invert\n",
        "def is_palindrome():\n",
        "  palindrome_names=[]\n",
        "  for i in range(10):\n",
        "    names=input(\"Enter a string {}: \".format(i+1))\n",
        "    output_strings=invert(names)\n",
        "\n",
        "    if(names==output_strings):\n",
        "      palindrome_names.append(output_strings)\n",
        "\n",
        "  print(palindrome_names)\n",
        "\n",
        "\n",
        "\n",
        "is_palindrome()\n",
        "\n",
        "\n"
      ],
      "metadata": {
        "id": "C_CiZYFbrRs_",
        "colab": {
          "base_uri": "https://localhost:8080/"
        },
        "outputId": "9e29dfb7-bbc7-42aa-bc4e-2a640ec2ead8"
      },
      "execution_count": 30,
      "outputs": [
        {
          "output_type": "stream",
          "name": "stdout",
          "text": [
            "Enter a string 1: racecar\n",
            "Enter a string 2: level\n",
            "Enter a string 3: tor\n",
            "Enter a string 4: civic\n",
            "Enter a string 5: kayak\n",
            "Enter a string 6: refer\n",
            "Enter a string 7: madam\n",
            "Enter a string 8: stats\n",
            "Enter a string 9: tenet\n",
            "Enter a string 10: solos\n",
            "['racecar', 'level', 'civic', 'kayak', 'refer', 'madam', 'stats', 'tenet', 'solos']\n"
          ]
        }
      ]
    },
    {
      "cell_type": "markdown",
      "metadata": {
        "id": "860c961e"
      },
      "source": [
        "# Exercise: Fibonacci sequence\n",
        "\n",
        "You work in an IT firm, and your colleague has realized that being able to quickly compute elements of the Fibonacci sequence will reduce the time taken to execute the testing suite on one of your internal applications. You will use an iterative approach to create a fibonacci_iterative function that returns the nth value in the Fibonacci sequence.\n",
        "\n",
        "Define a fibonacci_iterative function that takes a single positional argument representing which number term in the sequence you want to return."
      ]
    },
    {
      "cell_type": "markdown",
      "metadata": {
        "id": "3e77dc5c"
      },
      "source": [
        "The Fibonacci Sequence is the series of numbers:\n",
        "\n",
        "0, 1, 1, 2, 3, 5, 8, 13, 21, 34, ...\n",
        "\n",
        "The next number is found by adding up the two numbers before it:\n",
        "\n",
        "- the 2 is found by adding the two numbers before it (1+1),\n",
        "- the 3 is found by adding the two numbers before it (1+2),\n",
        "- the 5 is (2+3),\n",
        "- and so on!"
      ]
    },
    {
      "cell_type": "code",
      "source": [
        "# write your code here:\n",
        "def fibonacci_iterative(n):\n",
        "    if n <= 0:\n",
        "        raise ValueError(\"Input must be a positive integer.\")\n",
        "\n",
        "    if n == 1:\n",
        "        return 0\n",
        "    elif n == 2:\n",
        "        return 1\n",
        "\n",
        "    prev_prev = 0\n",
        "    prev = 1\n",
        "    for s in range(3, n + 1):\n",
        "        current = prev + prev_prev\n",
        "        prev_prev = prev\n",
        "        prev = current\n",
        "\n",
        "    return prev\n",
        "position = 10\n",
        "fib_number = fibonacci_iterative(position)\n",
        "print(f\"The Fibonacci number at position {position} is {fib_number}.\")\n",
        "\n",
        "\n",
        "# print(fibonacci(int(n)))"
      ],
      "metadata": {
        "id": "PtrqxqlLvGGx",
        "colab": {
          "base_uri": "https://localhost:8080/"
        },
        "outputId": "fe913804-d4d4-49c6-b81b-a82cd047ee8f"
      },
      "execution_count": 31,
      "outputs": [
        {
          "output_type": "stream",
          "name": "stdout",
          "text": [
            "The Fibonacci number at position 10 is 34.\n"
          ]
        }
      ]
    },
    {
      "cell_type": "markdown",
      "source": [
        "\n",
        "\n",
        "# Exercise: Character Frequency\n",
        "\n",
        "1. Write a function, `vowel_frequency`, which will allow you to find the frequency of vowels in a text snippet.\n",
        "2. The function should take as input a text snippet and return a dictionary with the frequency of each vowel.\n",
        "3. Use a `for` loop to iterate over the characters in the text snippet.\n",
        "4. If a character is a vowel, increment its count in the dictionary.\n",
        "5. Write another function, `char_frequency`, which will allow you to find the frequency of an arbitrary character in a text snippet.\n",
        "6. The function should take as input a text snippet and a character, and return the frequency of that character in the text snippet.\n",
        "7. Use a `for` loop to iterate over the characters in the text snippet.\n",
        "8. If a character is equal to the input character, increment its count.\n",
        "\n",
        "Example:\n",
        "\n",
        "```python\n",
        "text = 'This is an example text'\n",
        "print(vowel_frequency(text))  # {'a': 2, 'e': 3, 'i': 2, 'o': 0, 'u': 0}\n",
        "print(char_frequency(text, 'x'))  # 1\n",
        "```\n",
        "\n",
        "Define two functions: `vowel_frequency` and `char_frequency`. The `vowel_frequency` function takes as input a text snippet and returns a dictionary with the frequency of each vowel. It uses a `for` loop to iterate over the characters in the text snippet and increments the count of each vowel in the dictionary.\n",
        "\n",
        "The `char_frequency` function takes as input a text snippet and a character, and returns the frequency of that character in the text snippet. It uses a `for` loop to iterate over the characters in the text snippet and increments the count of the input character.\n",
        "\n",
        "Write two separate modules for `vowel_frequency` and `char_frequency`.\n",
        "\n",
        "Pass the string (user input) in another module (your main module). When the user has enetered the text in small caps, change all the text to large caps as the first thing you want this code to do. Then only the functions in   `vowel_frequency` should be implememnted and return a dictionary with the frequency of each vowel. Implement `\"_ _name__\"` in your modules to make this work.\n",
        "```python\n",
        "# vowel_frequency.py\n",
        "def vowel_frequency(text):\n",
        "\n",
        "\n",
        "\n",
        "# char_frequency.py\n",
        "def char_frequency(text, character):\n",
        "\n",
        "\n",
        "\n",
        "# main.py\n",
        "import vowel_frequency\n",
        "import char_frequency\n",
        "\n",
        "if __name__ == '__main__':\n",
        "    text = input('Enter text: ').upper()\n",
        "    print(vowel_frequency.vowel_frequency(text))\n",
        "```\n",
        "\n",
        "Show the results of Running the script directly(On local Command line)  vs importing the module here uisng procedure form Invert Module.\n"
      ],
      "metadata": {
        "id": "9CiAHCNouBtX"
      }
    },
    {
      "cell_type": "code",
      "source": [
        "# write your code here:\n",
        "def vowel_frequency(text):\n",
        "    vowels = \"aeiou\"\n",
        "    frequency = {vowel: 0 for vowel in vowels}\n",
        "\n",
        "    for char in text.lower():\n",
        "        if char in frequency:\n",
        "            frequency[char] += 1\n",
        "\n",
        "    return frequency\n",
        "\n",
        "def char_frequency(text, target_char):\n",
        "    frequency = 0\n",
        "\n",
        "    for char in text.lower():\n",
        "        if char == target_char:\n",
        "            frequency += 1\n",
        "\n",
        "    return frequency\n",
        "\n",
        "# Example text snippet\n",
        "text_snippet = \"This is a sample text containing some vowels and characters.\"\n",
        "vowel_freq = vowel_frequency(text_snippet)\n",
        "print(\"Vowel Frequency:\", vowel_freq)\n",
        "\n",
        "target_char = 's'\n",
        "char_freq = char_frequency(text_snippet, target_char)\n",
        "print(f\"Frequency of '{target_char}' in the text:\", char_freq)\n",
        "\n",
        "\n",
        "\n",
        "# text = 'This is an example text'\n",
        "# print(vowel_frequency(text))  # {'a': 2, 'e': 3, 'i': 2, 'o': 0, 'u': 0}\n",
        "# print(char_frequency(text, 'x'))  # 1\n",
        "\n",
        "\n",
        "\n",
        "\n"
      ],
      "metadata": {
        "id": "TFzFs1tFuBKv",
        "colab": {
          "base_uri": "https://localhost:8080/"
        },
        "outputId": "efaf82c8-48f6-4ca2-ec68-6f7687ced0cc"
      },
      "execution_count": 15,
      "outputs": [
        {
          "output_type": "stream",
          "name": "stdout",
          "text": [
            "Vowel Frequency: {'a': 6, 'e': 5, 'i': 4, 'o': 3, 'u': 0}\n",
            "Frequency of 's' in the text: 6\n"
          ]
        }
      ]
    },
    {
      "cell_type": "code",
      "source": [
        "from google.colab import files\n",
        "files.upload()"
      ],
      "metadata": {
        "id": "k5dxOOZe11xv",
        "colab": {
          "base_uri": "https://localhost:8080/",
          "height": 246
        },
        "outputId": "bd31fa26-40fd-436a-dab9-71d936f9cfcb"
      },
      "execution_count": 16,
      "outputs": [
        {
          "output_type": "display_data",
          "data": {
            "text/plain": [
              "<IPython.core.display.HTML object>"
            ],
            "text/html": [
              "\n",
              "     <input type=\"file\" id=\"files-8a8504e6-6c9f-4956-8687-b31a588065bf\" name=\"files[]\" multiple disabled\n",
              "        style=\"border:none\" />\n",
              "     <output id=\"result-8a8504e6-6c9f-4956-8687-b31a588065bf\">\n",
              "      Upload widget is only available when the cell has been executed in the\n",
              "      current browser session. Please rerun this cell to enable.\n",
              "      </output>\n",
              "      <script>// Copyright 2017 Google LLC\n",
              "//\n",
              "// Licensed under the Apache License, Version 2.0 (the \"License\");\n",
              "// you may not use this file except in compliance with the License.\n",
              "// You may obtain a copy of the License at\n",
              "//\n",
              "//      http://www.apache.org/licenses/LICENSE-2.0\n",
              "//\n",
              "// Unless required by applicable law or agreed to in writing, software\n",
              "// distributed under the License is distributed on an \"AS IS\" BASIS,\n",
              "// WITHOUT WARRANTIES OR CONDITIONS OF ANY KIND, either express or implied.\n",
              "// See the License for the specific language governing permissions and\n",
              "// limitations under the License.\n",
              "\n",
              "/**\n",
              " * @fileoverview Helpers for google.colab Python module.\n",
              " */\n",
              "(function(scope) {\n",
              "function span(text, styleAttributes = {}) {\n",
              "  const element = document.createElement('span');\n",
              "  element.textContent = text;\n",
              "  for (const key of Object.keys(styleAttributes)) {\n",
              "    element.style[key] = styleAttributes[key];\n",
              "  }\n",
              "  return element;\n",
              "}\n",
              "\n",
              "// Max number of bytes which will be uploaded at a time.\n",
              "const MAX_PAYLOAD_SIZE = 100 * 1024;\n",
              "\n",
              "function _uploadFiles(inputId, outputId) {\n",
              "  const steps = uploadFilesStep(inputId, outputId);\n",
              "  const outputElement = document.getElementById(outputId);\n",
              "  // Cache steps on the outputElement to make it available for the next call\n",
              "  // to uploadFilesContinue from Python.\n",
              "  outputElement.steps = steps;\n",
              "\n",
              "  return _uploadFilesContinue(outputId);\n",
              "}\n",
              "\n",
              "// This is roughly an async generator (not supported in the browser yet),\n",
              "// where there are multiple asynchronous steps and the Python side is going\n",
              "// to poll for completion of each step.\n",
              "// This uses a Promise to block the python side on completion of each step,\n",
              "// then passes the result of the previous step as the input to the next step.\n",
              "function _uploadFilesContinue(outputId) {\n",
              "  const outputElement = document.getElementById(outputId);\n",
              "  const steps = outputElement.steps;\n",
              "\n",
              "  const next = steps.next(outputElement.lastPromiseValue);\n",
              "  return Promise.resolve(next.value.promise).then((value) => {\n",
              "    // Cache the last promise value to make it available to the next\n",
              "    // step of the generator.\n",
              "    outputElement.lastPromiseValue = value;\n",
              "    return next.value.response;\n",
              "  });\n",
              "}\n",
              "\n",
              "/**\n",
              " * Generator function which is called between each async step of the upload\n",
              " * process.\n",
              " * @param {string} inputId Element ID of the input file picker element.\n",
              " * @param {string} outputId Element ID of the output display.\n",
              " * @return {!Iterable<!Object>} Iterable of next steps.\n",
              " */\n",
              "function* uploadFilesStep(inputId, outputId) {\n",
              "  const inputElement = document.getElementById(inputId);\n",
              "  inputElement.disabled = false;\n",
              "\n",
              "  const outputElement = document.getElementById(outputId);\n",
              "  outputElement.innerHTML = '';\n",
              "\n",
              "  const pickedPromise = new Promise((resolve) => {\n",
              "    inputElement.addEventListener('change', (e) => {\n",
              "      resolve(e.target.files);\n",
              "    });\n",
              "  });\n",
              "\n",
              "  const cancel = document.createElement('button');\n",
              "  inputElement.parentElement.appendChild(cancel);\n",
              "  cancel.textContent = 'Cancel upload';\n",
              "  const cancelPromise = new Promise((resolve) => {\n",
              "    cancel.onclick = () => {\n",
              "      resolve(null);\n",
              "    };\n",
              "  });\n",
              "\n",
              "  // Wait for the user to pick the files.\n",
              "  const files = yield {\n",
              "    promise: Promise.race([pickedPromise, cancelPromise]),\n",
              "    response: {\n",
              "      action: 'starting',\n",
              "    }\n",
              "  };\n",
              "\n",
              "  cancel.remove();\n",
              "\n",
              "  // Disable the input element since further picks are not allowed.\n",
              "  inputElement.disabled = true;\n",
              "\n",
              "  if (!files) {\n",
              "    return {\n",
              "      response: {\n",
              "        action: 'complete',\n",
              "      }\n",
              "    };\n",
              "  }\n",
              "\n",
              "  for (const file of files) {\n",
              "    const li = document.createElement('li');\n",
              "    li.append(span(file.name, {fontWeight: 'bold'}));\n",
              "    li.append(span(\n",
              "        `(${file.type || 'n/a'}) - ${file.size} bytes, ` +\n",
              "        `last modified: ${\n",
              "            file.lastModifiedDate ? file.lastModifiedDate.toLocaleDateString() :\n",
              "                                    'n/a'} - `));\n",
              "    const percent = span('0% done');\n",
              "    li.appendChild(percent);\n",
              "\n",
              "    outputElement.appendChild(li);\n",
              "\n",
              "    const fileDataPromise = new Promise((resolve) => {\n",
              "      const reader = new FileReader();\n",
              "      reader.onload = (e) => {\n",
              "        resolve(e.target.result);\n",
              "      };\n",
              "      reader.readAsArrayBuffer(file);\n",
              "    });\n",
              "    // Wait for the data to be ready.\n",
              "    let fileData = yield {\n",
              "      promise: fileDataPromise,\n",
              "      response: {\n",
              "        action: 'continue',\n",
              "      }\n",
              "    };\n",
              "\n",
              "    // Use a chunked sending to avoid message size limits. See b/62115660.\n",
              "    let position = 0;\n",
              "    do {\n",
              "      const length = Math.min(fileData.byteLength - position, MAX_PAYLOAD_SIZE);\n",
              "      const chunk = new Uint8Array(fileData, position, length);\n",
              "      position += length;\n",
              "\n",
              "      const base64 = btoa(String.fromCharCode.apply(null, chunk));\n",
              "      yield {\n",
              "        response: {\n",
              "          action: 'append',\n",
              "          file: file.name,\n",
              "          data: base64,\n",
              "        },\n",
              "      };\n",
              "\n",
              "      let percentDone = fileData.byteLength === 0 ?\n",
              "          100 :\n",
              "          Math.round((position / fileData.byteLength) * 100);\n",
              "      percent.textContent = `${percentDone}% done`;\n",
              "\n",
              "    } while (position < fileData.byteLength);\n",
              "  }\n",
              "\n",
              "  // All done.\n",
              "  yield {\n",
              "    response: {\n",
              "      action: 'complete',\n",
              "    }\n",
              "  };\n",
              "}\n",
              "\n",
              "scope.google = scope.google || {};\n",
              "scope.google.colab = scope.google.colab || {};\n",
              "scope.google.colab._files = {\n",
              "  _uploadFiles,\n",
              "  _uploadFilesContinue,\n",
              "};\n",
              "})(self);\n",
              "</script> "
            ]
          },
          "metadata": {}
        },
        {
          "output_type": "stream",
          "name": "stdout",
          "text": [
            "Saving char_frequency.py to char_frequency (1).py\n",
            "Saving main.py to main (1).py\n",
            "Saving vowel_frequency.py to vowel_frequency (1).py\n"
          ]
        },
        {
          "output_type": "execute_result",
          "data": {
            "text/plain": [
              "{'char_frequency (1).py': b'def char_frequency(text, target_char):\\r\\n    frequency = 0\\r\\n\\r\\n    for char in text.lower():\\r\\n        if char == target_char:\\r\\n            frequency += 1\\r\\n\\r\\n    return frequency',\n",
              " 'main (1).py': b'import vowel_frequency\\r\\nimport char_frequency\\r\\n\\r\\nif __name__ == \\'__main__\\':\\r\\n    text = input(\\'Enter text: \\').upper()\\r\\n    print(\"Vowel frquency: {} \".format(vowel_frequency.vowel_frequency(text)))',\n",
              " 'vowel_frequency (1).py': b'def vowel_frequency(text):\\r\\n    vowels = \"aeiou\"\\r\\n    frequency = {vowel: 0 for vowel in vowels}\\r\\n\\r\\n    for char in text.lower():\\r\\n        if char in frequency:\\r\\n            frequency[char] += 1\\r\\n\\r\\n    return frequency'}"
            ]
          },
          "metadata": {},
          "execution_count": 16
        }
      ]
    },
    {
      "cell_type": "markdown",
      "source": [
        "\n",
        "\n",
        "# Exercise: Mario's Triangles\n",
        "\n",
        "1. Write a function, `mario`, which will allow us to print Mario's triangles.\n",
        "2. Ask the user to enter a string in one line (e.g., `'abc'`).\n",
        "3. Use the length of the string to determine the height of the triangle.\n",
        "4. For each row of the triangle, print spaces followed by characters from the input string. The number of spaces should decrease by 1 for each row, while the number of characters should increase by 1 for each row.\n",
        "5. If the length of the input string is even, add an asterisk (`*`) at the top of the pyramid.\n",
        "\n",
        "Example:\n",
        "\n",
        "    mario()\n",
        "\n",
        "    \n",
        "    Enter a string: obaid\n",
        "        o\n",
        "       bob\n",
        "      aboba\n",
        "     iabobai\n",
        "    diabobaid\n",
        "\n",
        "Hints/reminders:\n",
        "1. You can use a `for` loop to iterate over the rows of the triangle.\n",
        "2. You can use the `*` operator to repeat a string a certain number of times (e.g., `' ' * 3` will produce `'   '`).\n",
        "3. You can use slicing to extract a substring from the input string (e.g., `'abc'[1:3]` will produce `'bc'`).\n",
        "\n",
        "\n"
      ],
      "metadata": {
        "id": "c6Zr-RZuiz9N"
      }
    },
    {
      "cell_type": "code",
      "source": [
        "# write your code here:\n",
        "def mario():\n",
        "    input_string = input(\"Enter a string: \")\n",
        "    length = len(input_string)\n",
        "\n",
        "    if length % 2 == 0:\n",
        "      print(\"*\")\n",
        "\n",
        "\n",
        "    for i in range(length):\n",
        "          spaces = \" \" * (length - i - 1)\n",
        "          characters = input_string[:i + 1]\n",
        "          print(spaces + characters + characters[-2::-1])\n",
        "\n",
        "# Call the mario function to generate the pyramid pattern\n",
        "mario()\n"
      ],
      "metadata": {
        "id": "4xQtMHMriySf",
        "colab": {
          "base_uri": "https://localhost:8080/"
        },
        "outputId": "08002b80-01bd-44b8-e919-daf6f33bee74"
      },
      "execution_count": 35,
      "outputs": [
        {
          "output_type": "stream",
          "name": "stdout",
          "text": [
            "Enter a string: siddhi\n",
            "*\n",
            "     s\n",
            "    sis\n",
            "   sidis\n",
            "  sidddis\n",
            " siddhddis\n",
            "siddhihddis\n"
          ]
        }
      ]
    },
    {
      "cell_type": "markdown",
      "source": [
        "\n",
        "\n",
        "# Exercise: List Manipulation\n",
        "\n",
        "1. Write a function, `list_manipulation`, which will allow us to perform some simple list manipulations.\n",
        "2. Ask the user to enter a list of integers separated by spaces (e.g., `'1 2 3 4'`).\n",
        "3. Use `str.split` to break that input into a list of integers.\n",
        "4. Ask the user to enter an integer `n`.\n",
        "5. Use a `for` loop to iterate over the elements of the list.\n",
        "6. If an element is divisible by `n`, remove it from the list.\n",
        "7. Print the resulting list.\n",
        "\n",
        "Example:\n",
        "\n",
        "    list_manipulation()\n",
        "\n",
        "    Enter a list of integers: 1 2 3 4\n",
        "    Enter an integer: 2\n",
        "    [1, 3]\n",
        "\n",
        "Hints/reminders:\n",
        "1. Any string can be split on whitespace with `s.split()` -- no argument means that we'll split on any whitespace, of any length.\n",
        "2. Remember that the result of `str.split` is a list of strings.\n",
        "3. If you need to turn a string into an integer, use `int`.\n",
        "4. You can use the `remove` method to remove an element from a list.\n",
        "5. You can use the `%` operator to check if a number is divisible by another number (e.g., `4 % 2 == 0` means that 4 is divisible by 2).\n",
        "\n"
      ],
      "metadata": {
        "id": "YQN0iDJUll9y"
      }
    },
    {
      "cell_type": "code",
      "source": [
        "# write your code here:\n",
        "def list_manipulation():\n",
        "    input_list = input(\"Enter a list of integers separated by spaces: \").split()\n",
        "    input_list = [int(x) for x in input_list]  # Convert to a list of integers\n",
        "\n",
        "    n = int(input(\"Enter an integer n: \"))\n",
        "\n",
        "    modified_list = [x for x in input_list if x % n != 0]\n",
        "\n",
        "    print(\"Modified List:\", modified_list)\n",
        "\n",
        "list_manipulation()\n",
        "\n",
        "\n"
      ],
      "metadata": {
        "id": "pnoDpvO4jQtb",
        "colab": {
          "base_uri": "https://localhost:8080/"
        },
        "outputId": "2be51809-7b96-4e22-e3b2-ade6375795e0"
      },
      "execution_count": 18,
      "outputs": [
        {
          "output_type": "stream",
          "name": "stdout",
          "text": [
            "Enter a list of integers separated by spaces: 2 3 5 7 6\n",
            "Enter an integer n: 3\n",
            "Modified List: [2, 5, 7]\n"
          ]
        }
      ]
    },
    {
      "cell_type": "markdown",
      "source": [
        "\n",
        "\n",
        "# Exercise: Depth First Search\n",
        "\n",
        "1. Write a function, `dfs`, which will allow you to perform a depth first search on a graph.\n",
        "2. The function should take as input a graph represented as an adjacency list, a starting node, and a target node.\n",
        "3. Use a `for` loop to iterate over the neighbors of the current node.\n",
        "4. If a neighbor has not been visited, mark it as visited and recursively call the `dfs` function on that neighbor.\n",
        "5. If the target node is found, return `True`. Otherwise, return `False`.\n",
        "6. Write another function, `input_graph`, which will allow you to input a graph from the user. The function should prompt the user to enter the number of nodes, the number of edges, and then each edge as a pair of nodes.\n",
        "\n",
        "Example:\n",
        "\n",
        "```\n",
        "Graph:\n",
        "    A\n",
        "   / \\\n",
        "  B   C\n",
        " / \\   \\\n",
        "D   E   F\n",
        "\n",
        "Adjacency list:\n",
        "{\n",
        "    'A': ['B', 'C'],\n",
        "    'B': ['D', 'E'],\n",
        "    'C': ['F'],\n",
        "    'D': [],\n",
        "    'E': [],\n",
        "    'F': []\n",
        "}\n",
        "\n",
        "DFS order: A, B, D, E, C, F\n",
        "```\n",
        "\n",
        "In this example, we have a graph with six nodes: `A`, `B`, `C`, `D`, `E`, and `F`. The edges between the nodes are represented by lines connecting them. The adjacency list representation of this graph is shown as a dictionary, where each key is a node and its value is a list of its neighbors.\n",
        "\n",
        "If we start the DFS algorithm at node `A`, we will first visit node `B` (since it is the first neighbor of `A`), then node `D` (since it is the first neighbor of `B`), then node `E` (since it is the second neighbor of `B`), then node `C` (since it is the second neighbor of `A`), and finally node `F` (since it is the only neighbor of `C`). The order in which the nodes are visited is `A`, `B`, `D`, `E`, `C`, `F`.\n",
        "\n",
        " Write two functions: `dfs` and `input_graph`. The `dfs` function should implement the DFS algorithm on a graph represented as an adjacency list. The function should take as input the graph, a starting node, and a target node. It should use a `for` loop to iterate over the neighbors of the current node and recursively call itself on any unvisited neighbors. If the target node is found, the function should return `True`. Otherwise, it should return `False`.\n",
        "\n",
        "The `input_graph` function should allow you to input a graph from the user. The function should prompt the user to enter the number of nodes and edges in the graph, and then each edge as a pair of nodes. You can use this function to create an adjacency list representation of the graph that can be passed to the `dfs` function.\n",
        "\n"
      ],
      "metadata": {
        "id": "8ph1o_7Yov8-"
      }
    },
    {
      "cell_type": "markdown",
      "source": [
        "\n",
        "\n",
        "Here's an example of what the output should look like\n",
        "\n",
        "```\n",
        "Enter the number of nodes: 6\n",
        "Enter the number of edges: 5\n",
        "Enter an edge (u v): A B\n",
        "Enter an edge (u v): A C\n",
        "Enter an edge (u v): B D\n",
        "Enter an edge (u v): B E\n",
        "Enter an edge (u v): C F\n",
        "Enter the starting node: A\n",
        "Enter the target node: F\n",
        "['A', 'B', 'D', 'E', 'C', 'F']\n",
        "```\n",
        "\n",
        "\n",
        "\n"
      ],
      "metadata": {
        "id": "PaR3b1nVq_hm"
      }
    },
    {
      "cell_type": "code",
      "source": [
        "def dfs(graph, current_node, target_node, visited, dfs_order):\n",
        "    if current_node == target_node:\n",
        "        dfs_order.append(current_node)\n",
        "        return True\n",
        "\n",
        "    visited[current_node] = True\n",
        "    dfs_order.append(current_node)\n",
        "\n",
        "    for neighbor in graph[current_node]:\n",
        "        if not visited[neighbor]:\n",
        "            if dfs(graph, neighbor, target_node, visited, dfs_order):\n",
        "                return True\n",
        "\n",
        "    return False\n",
        "\n",
        "def input_graph():\n",
        "    num_nodes = int(input(\"Enter the number of nodes: \"))\n",
        "    num_edges = int(input(\"Enter the number of edges: \"))\n",
        "\n",
        "    graph = {chr(65 + i): [] for i in range(num_nodes)}\n",
        "\n",
        "    for _ in range(num_edges):\n",
        "        u, v = input(\"Enter an edge (u v): \").split()\n",
        "        graph[u].append(v)\n",
        "        graph[v].append(u)\n",
        "\n",
        "    return graph\n",
        "\n",
        "# Example usage\n",
        "graph = input_graph()\n",
        "start_node = input(\"Enter the starting node: \")\n",
        "target_node = input(\"Enter the target node: \")\n",
        "\n",
        "visited = {node: False for node in graph}\n",
        "dfs_order = []\n",
        "result = dfs(graph, start_node, target_node, visited, dfs_order)\n",
        "\n",
        "if result:\n",
        "    print(dfs_order)\n",
        "else:\n",
        "    print(\"no path\")\n",
        "\n"
      ],
      "metadata": {
        "id": "OW_m71Mel6oJ",
        "colab": {
          "base_uri": "https://localhost:8080/"
        },
        "outputId": "7fc7fb19-8418-4d77-e256-9e97d5830e13"
      },
      "execution_count": 34,
      "outputs": [
        {
          "output_type": "stream",
          "name": "stdout",
          "text": [
            "Enter the number of nodes: 6\n",
            "Enter the number of edges: 5\n",
            "Enter an edge (u v): A B\n",
            "Enter an edge (u v): A C\n",
            "Enter an edge (u v): B D\n",
            "Enter an edge (u v): B E\n",
            "Enter an edge (u v): C F\n",
            "Enter the starting node: A\n",
            "Enter the target node: F\n",
            "['A', 'B', 'D', 'E', 'C', 'F']\n"
          ]
        }
      ]
    },
    {
      "cell_type": "code",
      "source": [],
      "metadata": {
        "id": "knMAcLysRasf"
      },
      "execution_count": null,
      "outputs": []
    }
  ]
}