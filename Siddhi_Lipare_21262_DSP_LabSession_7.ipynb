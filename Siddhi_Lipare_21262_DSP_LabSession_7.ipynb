{
  "nbformat": 4,
  "nbformat_minor": 0,
  "metadata": {
    "colab": {
      "provenance": []
    },
    "kernelspec": {
      "name": "python3",
      "display_name": "Python 3"
    },
    "language_info": {
      "name": "python"
    }
  },
  "cells": [
    {
      "cell_type": "code",
      "source": [
        "import requests\n",
        "session = requests.Session()\n",
        "session.cookies.clear()"
      ],
      "metadata": {
        "id": "6MLGLoEvx46S"
      },
      "execution_count": null,
      "outputs": []
    },
    {
      "cell_type": "markdown",
      "source": [
        "**Q1:**"
      ],
      "metadata": {
        "id": "IrFZaYMRSvcp"
      }
    },
    {
      "cell_type": "code",
      "execution_count": 31,
      "metadata": {
        "colab": {
          "base_uri": "https://localhost:8080/"
        },
        "id": "6LNU5qCKmaOo",
        "outputId": "f5aa35fa-243e-41ed-ef73-9b3d3997c1c0"
      },
      "outputs": [
        {
          "output_type": "stream",
          "name": "stdout",
          "text": [
            "Title: Business News Today: Stock and Share Market News, Economy and Finance News, Sensex, Nifty, Global Market, NSE, BSE Live IPO News\n",
            "Headers: ['Invest in bonds online', '\\n\\n\\t\\t\\t\\t\\t\\t\\t\\t\\t\\tEnergy experts predict high crude oil prices in 2023, but will not exceed $100 per barrel\\n\\t\\t\\t\\t\\n', 'Watch', 'Market Insight', 'in focus', 'tech talk', 'rebrand and merge', 'Web Stories', '\\nGallery', ' Trending News', ' Get Quote ', ' Business ', ' Board Meetings ', ' Company History ', ' Balance Sheet ', ' Directors Report ', ' Price ', 'Market Action', 'Indian Indices', 'Nifty 50', 'BSE Sensex', 'Nifty Bank', 'Nifty IT', 'BSE SmallCap', 'BSE MidCap', 'Nifty Auto', 'BSE Cap Goods', 'BSE Cons Durable', 'BSE FMCG', 'BSE Healthcare', 'BSE Metals', 'BSE Oil & Gas', 'BSE Teck', 'Nifty PSE', '\\nGlobal Markets\\n', 'STOCK ACTION', '\\nMost Active\\n', '\\nTop Gainers\\n', '\\nTop Losers\\n', '\\nTop Gainers\\n', '\\nTop Losers\\n', '\\nTop Companies\\n', 'Commodities', 'Currencies', 'Bonds', 'Community Views', 'Community Views', 'YOUR OPINION', 'World', 'Companies', 'Economy', 'Politics', 'NEWS NOT TO MISS', 'IPO Snapshot', 'Issues Open', 'Upcoming Issues', 'Listed IPOS', 'NFO', 'Recent Issues', 'Personal Finance Advice', 'Stock Advice', 'ANALYST', 'BROKERAGE', '\\nMutual Funds Tool\\n', 'Interviews', '\\nAction In Markets Today\\n', 'Opinion', 'Corporate Action', '\\nBoard Meetings', '\\nAGM / EGMs', '\\nBonus', 'Market', 'Stocks', 'Commodities', 'Startups', 'Top Companies in India', 'Now Playing', 'Recommended Podcasts', 'Web Stories', 'Gallery', 'NEWS NOT TO MISS', 'Recommended Podcasts', 'You got 90 Day’s Trial of ']\n"
          ]
        }
      ],
      "source": [
        "from bs4 import BeautifulSoup\n",
        "\n",
        "# I chose an e-commerce website for web scraping\n",
        "my_url = 'https://www.moneycontrol.com'\n",
        "response = requests.get(my_url)\n",
        "\n",
        "soup = BeautifulSoup(response.text, 'html.parser')\n",
        "\n",
        "# Title and headers\n",
        "title = soup.title.string\n",
        "headers = [header.text for header in soup.find_all(['h1', 'h2', 'h3'])]\n",
        "\n",
        "print('Title:', title)\n",
        "print('Headers:', headers)"
      ]
    },
    {
      "cell_type": "markdown",
      "source": [
        "Q2:"
      ],
      "metadata": {
        "id": "C_mKe8kSS4du"
      }
    },
    {
      "cell_type": "code",
      "source": [
        "all_tags = [tag.name for tag in soup.find_all()]\n",
        "\n",
        "# Print the list of all tags\n",
        "print(all_tags)"
      ],
      "metadata": {
        "colab": {
          "base_uri": "https://localhost:8080/"
        },
        "id": "J9noU125ncPy",
        "outputId": "c3aed8d3-cb8e-4c2b-ff4e-8ba8f5c35557"
      },
      "execution_count": 30,
      "outputs": [
        {
          "output_type": "stream",
          "name": "stdout",
          "text": [
            "['html', 'head', 'meta', 'meta', 'link', 'title', 'meta', 'meta', 'meta', 'meta', 'meta', 'meta', 'meta', 'meta', 'meta', 'meta', 'meta', 'meta', 'meta', 'meta', 'meta', 'meta', 'meta', 'meta', 'meta', 'meta', 'link', 'meta', 'meta', 'meta', 'meta', 'meta', 'meta', 'meta', 'meta', 'meta', 'link', 'link', 'link', 'link', 'link', 'link', 'link', 'link', 'link', 'link', 'link', 'link', 'link', 'link', 'link', 'link', 'link', 'link', 'link', 'link', 'link', 'meta', 'script', 'script', 'script', 'script', 'script', 'script', 'script', 'script', 'meta', 'meta', 'link', 'link', 'noscript', 'script', 'script', 'script', 'style', 'style', 'style', 'style', 'style', 'style', 'style', 'style', 'style', 'style', 'style', 'style', 'style', 'style', 'style', 'style', 'style', 'style', 'style', 'style', 'body', 'div', 'header', 'div', 'div', 'div', 'a', 'img', 'div', 'img', 'div', 'div', 'div', 'span', 'div', 'a', 'span', 'div', 'a', 'a', 'a', 'a', 'a', 'a', 'a', 'a', 'a', 'a', 'a', 'a', 'div', 'a', 'span', 'strong', 'div', 'a', 'span', 'strong', 'div', 'strong', 'a', 'a', 'a', 'a', 'div', 'span', 'a', 'a', 'a', 'a', 'a', 'nav', 'div', 'div', 'a', 'img', 'ul', 'li', 'a', 'li', 'a', 'li', 'a', 'li', 'a', 'li', 'a', 'li', 'a', 'li', 'a', 'li', 'a', 'li', 'a', 'li', 'a', 'li', 'a', 'li', 'a', 'li', 'a', 'div', 'div', 'div', 'div', 'div', 'ul', 'li', 'a', 'div', 'div', 'div', 'ul', 'li', 'a', 'li', 'a', 'li', 'a', 'li', 'a', 'li', 'a', 'li', 'a', 'li', 'a', 'li', 'a', 'li', 'a', 'li', 'a', 'li', 'a', 'li', 'a', 'li', 'a', 'li', 'a', 'li', 'a', 'li', 'a', 'li', 'a', 'li', 'a', 'li', 'a', 'li', 'a', 'li', 'a', 'li', 'a', 'li', 'a', 'li', 'a', 'li', 'a', 'li', 'a', 'li', 'a', 'li', 'a', 'li', 'a', 'li', 'a', 'li', 'a', 'li', 'a', 'li', 'a', 'li', 'a', 'li', 'a', 'li', 'a', 'li', 'a', 'li', 'a', 'li', 'a', 'li', 'a', 'li', 'a', 'div', 'a', 'a', 'a', 'a', 'a', 'a', 'a', 'a', 'a', 'a', 'a', 'div', 'ul', 'li', 'a', 'li', 'a', 'li', 'a', 'li', 'a', 'li', 'a', 'li', 'a', 'li', 'a', 'li', 'a', 'li', 'a', 'li', 'a', 'li', 'a', 'div', 'div', 'div', 'div', 'div', 'div', 'div', 'div', 'div', 'ul', 'li', 'a', 'li', 'h1', 'div', 'div', 'a', 'figure', 'div', 'img', 'figcaption', 'h2', 'div', 'ul', 'li', 'a', 'h3', 'div', 'li', 'a', 'h3', 'div', 'li', 'a', 'h3', 'div', 'li', 'a', 'h3', 'div', 'li', 'a', 'h3', 'div', 'div', 'h2', 'div', 'div', 'a', 'figure', 'div', 'div', 'img', 'figcaption', 'div', 'h4', 'sub', 'div', 'a', 'figure', 'div', 'div', 'img', 'figcaption', 'div', 'h4', 'sub', 'div', 'a', 'figure', 'div', 'div', 'img', 'figcaption', 'div', 'h4', 'sub', 'div', 'a', 'figure', 'div', 'div', 'img', 'figcaption', 'div', 'h4', 'sub', 'button', 'span', 'div', 'div', 'h2', 'a', 'div', 'button', 'div', 'div', 'div', 'div', 'div', 'a', 'div', 'img', 'figcaption', 'h4', 'div', 'div', 'div', 'a', 'div', 'img', 'figcaption', 'h4', 'div', 'div', 'div', 'a', 'div', 'img', 'figcaption', 'h4', 'div', 'div', 'div', 'a', 'div', 'img', 'figcaption', 'h4', 'div', 'div', 'div', 'a', 'div', 'img', 'figcaption', 'h4', 'div', 'div', 'div', 'a', 'div', 'img', 'figcaption', 'h4', 'div', 'div', 'div', 'a', 'div', 'img', 'figcaption', 'h4', 'div', 'div', 'div', 'a', 'div', 'img', 'figcaption', 'h4', 'div', 'div', 'div', 'a', 'div', 'img', 'figcaption', 'h4', 'div', 'div', 'div', 'a', 'div', 'img', 'figcaption', 'h4', 'div', 'div', 'div', 'a', 'div', 'img', 'figcaption', 'h4', 'div', 'div', 'div', 'a', 'div', 'img', 'figcaption', 'h4', 'div', 'div', 'div', 'a', 'div', 'img', 'figcaption', 'h4', 'div', 'div', 'div', 'a', 'div', 'img', 'figcaption', 'h4', 'div', 'div', 'div', 'a', 'div', 'img', 'figcaption', 'h4', 'div', 'div', 'div', 'a', 'div', 'img', 'figcaption', 'h4', 'div', 'div', 'div', 'a', 'div', 'img', 'figcaption', 'h4', 'div', 'div', 'div', 'a', 'div', 'img', 'figcaption', 'h4', 'div', 'div', 'div', 'a', 'div', 'img', 'figcaption', 'h4', 'div', 'div', 'div', 'a', 'div', 'img', 'figcaption', 'h4', 'button', 'div', 'a', 'div', 'h2', 'a', 'div', 'button', 'div', 'div', 'div', 'div', 'div', 'a', 'div', 'img', 'figcaption', 'h4', 'div', 'div', 'div', 'a', 'div', 'img', 'figcaption', 'h4', 'div', 'div', 'div', 'a', 'div', 'img', 'figcaption', 'h4', 'div', 'div', 'div', 'a', 'div', 'img', 'figcaption', 'h4', 'div', 'div', 'div', 'a', 'div', 'img', 'figcaption', 'h4', 'div', 'div', 'div', 'a', 'div', 'img', 'figcaption', 'h4', 'div', 'div', 'div', 'a', 'div', 'img', 'figcaption', 'h4', 'div', 'div', 'div', 'a', 'div', 'img', 'figcaption', 'h4', 'div', 'div', 'div', 'a', 'div', 'img', 'figcaption', 'h4', 'div', 'div', 'div', 'a', 'div', 'img', 'figcaption', 'h4', 'div', 'div', 'div', 'a', 'div', 'img', 'figcaption', 'h4', 'div', 'div', 'div', 'a', 'div', 'img', 'figcaption', 'h4', 'div', 'div', 'div', 'a', 'div', 'img', 'figcaption', 'h4', 'div', 'div', 'div', 'a', 'div', 'img', 'figcaption', 'h4', 'div', 'div', 'div', 'a', 'div', 'img', 'figcaption', 'h4', 'div', 'div', 'div', 'a', 'div', 'img', 'figcaption', 'h4', 'div', 'div', 'div', 'a', 'div', 'img', 'figcaption', 'h4', 'div', 'div', 'div', 'a', 'div', 'img', 'figcaption', 'h4', 'div', 'div', 'div', 'a', 'div', 'img', 'figcaption', 'h4', 'div', 'div', 'div', 'a', 'div', 'img', 'figcaption', 'h4', 'button', 'div', 'a', 'div', 'h2', 'a', 'div', 'button', 'div', 'div', 'div', 'div', 'div', 'a', 'div', 'img', 'figcaption', 'h4', 'div', 'div', 'div', 'a', 'div', 'img', 'figcaption', 'h4', 'div', 'div', 'div', 'a', 'div', 'img', 'figcaption', 'h4', 'div', 'div', 'div', 'a', 'div', 'img', 'figcaption', 'h4', 'div', 'div', 'div', 'a', 'div', 'img', 'figcaption', 'h4', 'div', 'div', 'div', 'a', 'div', 'img', 'figcaption', 'h4', 'div', 'div', 'div', 'a', 'div', 'img', 'figcaption', 'h4', 'div', 'div', 'div', 'a', 'div', 'img', 'figcaption', 'h4', 'div', 'div', 'div', 'a', 'div', 'img', 'figcaption', 'h4', 'div', 'div', 'div', 'a', 'div', 'img', 'figcaption', 'h4', 'div', 'div', 'div', 'a', 'div', 'img', 'figcaption', 'h4', 'div', 'div', 'div', 'a', 'div', 'img', 'figcaption', 'h4', 'div', 'div', 'div', 'a', 'div', 'img', 'figcaption', 'h4', 'div', 'div', 'div', 'a', 'div', 'img', 'figcaption', 'h4', 'div', 'div', 'div', 'a', 'div', 'img', 'figcaption', 'h4', 'div', 'div', 'div', 'a', 'div', 'img', 'figcaption', 'h4', 'div', 'div', 'div', 'a', 'div', 'img', 'figcaption', 'h4', 'div', 'div', 'div', 'a', 'div', 'img', 'figcaption', 'h4', 'div', 'div', 'div', 'a', 'div', 'img', 'figcaption', 'h4', 'div', 'div', 'div', 'a', 'div', 'img', 'figcaption', 'h4', 'button', 'div', 'a', 'div', 'h2', 'a', 'div', 'button', 'div', 'div', 'div', 'div', 'div', 'a', 'div', 'img', 'figcaption', 'h4', 'div', 'div', 'div', 'a', 'div', 'img', 'figcaption', 'h4', 'div', 'div', 'div', 'a', 'div', 'img', 'figcaption', 'h4', 'div', 'div', 'div', 'a', 'div', 'img', 'figcaption', 'h4', 'div', 'div', 'div', 'a', 'div', 'img', 'figcaption', 'h4', 'div', 'div', 'div', 'a', 'div', 'img', 'figcaption', 'h4', 'div', 'div', 'div', 'a', 'div', 'img', 'figcaption', 'h4', 'div', 'div', 'div', 'a', 'div', 'img', 'figcaption', 'h4', 'div', 'div', 'div', 'a', 'div', 'img', 'figcaption', 'h4', 'div', 'div', 'div', 'a', 'div', 'img', 'figcaption', 'h4', 'div', 'div', 'div', 'a', 'div', 'img', 'figcaption', 'h4', 'div', 'div', 'div', 'a', 'div', 'img', 'figcaption', 'h4', 'div', 'div', 'div', 'a', 'div', 'img', 'figcaption', 'h4', 'div', 'div', 'div', 'a', 'div', 'img', 'figcaption', 'h4', 'div', 'div', 'div', 'a', 'div', 'img', 'figcaption', 'h4', 'div', 'div', 'div', 'a', 'div', 'img', 'figcaption', 'h4', 'div', 'div', 'div', 'a', 'div', 'img', 'figcaption', 'h4', 'div', 'div', 'div', 'a', 'div', 'img', 'figcaption', 'h4', 'div', 'div', 'div', 'a', 'div', 'img', 'figcaption', 'h4', 'div', 'div', 'div', 'a', 'div', 'img', 'figcaption', 'h4', 'button', 'div', 'a', 'div', 'h2', 'a', 'div', 'button', 'div', 'div', 'div', 'div', 'div', 'a', 'div', 'img', 'figcaption', 'h4', 'div', 'div', 'div', 'a', 'div', 'img', 'figcaption', 'h4', 'div', 'div', 'div', 'a', 'div', 'img', 'figcaption', 'h4', 'div', 'div', 'div', 'a', 'div', 'img', 'figcaption', 'h4', 'div', 'div', 'div', 'a', 'div', 'img', 'figcaption', 'h4', 'div', 'div', 'div', 'a', 'div', 'img', 'figcaption', 'h4', 'div', 'div', 'div', 'a', 'div', 'img', 'figcaption', 'h4', 'div', 'div', 'div', 'a', 'div', 'img', 'figcaption', 'h4', 'div', 'div', 'div', 'a', 'div', 'img', 'figcaption', 'h4', 'div', 'div', 'div', 'a', 'div', 'img', 'figcaption', 'h4', 'div', 'div', 'div', 'a', 'div', 'img', 'figcaption', 'h4', 'div', 'div', 'div', 'a', 'div', 'img', 'figcaption', 'h4', 'div', 'div', 'div', 'a', 'div', 'img', 'figcaption', 'h4', 'div', 'div', 'div', 'a', 'div', 'img', 'figcaption', 'h4', 'div', 'div', 'div', 'a', 'div', 'img', 'figcaption', 'h4', 'div', 'div', 'div', 'a', 'div', 'img', 'figcaption', 'h4', 'div', 'div', 'div', 'a', 'div', 'img', 'figcaption', 'h4', 'div', 'div', 'div', 'a', 'div', 'img', 'figcaption', 'h4', 'div', 'div', 'div', 'a', 'div', 'img', 'figcaption', 'h4', 'div', 'div', 'div', 'a', 'div', 'img', 'figcaption', 'h4', 'button', 'div', 'a', 'div', 'h2', 'a', 'div', 'button', 'div', 'div', 'div', 'div', 'div', 'a', 'div', 'img', 'figcaption', 'h4', 'div', 'div', 'div', 'a', 'div', 'img', 'figcaption', 'h4', 'div', 'div', 'div', 'a', 'div', 'img', 'figcaption', 'h4', 'div', 'div', 'div', 'a', 'div', 'img', 'figcaption', 'h4', 'div', 'div', 'div', 'a', 'div', 'img', 'figcaption', 'h4', 'div', 'div', 'div', 'a', 'div', 'img', 'figcaption', 'h4', 'div', 'div', 'div', 'a', 'div', 'img', 'figcaption', 'h4', 'div', 'div', 'div', 'a', 'div', 'img', 'figcaption', 'h4', 'div', 'div', 'div', 'a', 'div', 'img', 'figcaption', 'h4', 'div', 'div', 'div', 'a', 'div', 'img', 'figcaption', 'h4', 'div', 'div', 'div', 'a', 'div', 'img', 'figcaption', 'h4', 'div', 'div', 'div', 'a', 'div', 'img', 'figcaption', 'h4', 'div', 'div', 'div', 'a', 'div', 'img', 'figcaption', 'h4', 'div', 'div', 'div', 'a', 'div', 'img', 'figcaption', 'h4', 'div', 'div', 'div', 'a', 'div', 'img', 'figcaption', 'h4', 'div', 'div', 'div', 'a', 'div', 'img', 'figcaption', 'h4', 'div', 'div', 'div', 'a', 'div', 'img', 'figcaption', 'h4', 'div', 'div', 'div', 'a', 'div', 'img', 'figcaption', 'h4', 'div', 'div', 'div', 'a', 'div', 'img', 'figcaption', 'h4', 'div', 'div', 'div', 'a', 'div', 'img', 'figcaption', 'h4', 'button', 'div', 'a', 'div', 'section', 'h2', 'a', 'div', 'ul', 'li', 'a', 'figure', 'img', 'div', 'li', 'a', 'figure', 'img', 'div', 'li', 'a', 'figure', 'img', 'div', 'li', 'a', 'figure', 'img', 'div', 'li', 'a', 'figure', 'img', 'div', 'div', 'a', 'style', 'div', 'h2', 'a', 'div', 'button', 'div', 'div', 'div', 'div', 'div', 'a', 'div', 'img', 'figcaption', 'h4', 'div', 'div', 'div', 'a', 'div', 'img', 'figcaption', 'h4', 'div', 'div', 'div', 'a', 'div', 'img', 'figcaption', 'h4', 'div', 'div', 'div', 'a', 'div', 'img', 'figcaption', 'h4', 'div', 'div', 'div', 'a', 'div', 'img', 'figcaption', 'h4', 'div', 'div', 'div', 'a', 'div', 'img', 'figcaption', 'h4', 'div', 'div', 'div', 'a', 'div', 'img', 'figcaption', 'h4', 'div', 'div', 'div', 'a', 'div', 'img', 'figcaption', 'h4', 'div', 'div', 'div', 'a', 'div', 'img', 'figcaption', 'h4', 'div', 'div', 'div', 'a', 'div', 'img', 'figcaption', 'h4', 'div', 'div', 'div', 'a', 'div', 'img', 'figcaption', 'h4', 'div', 'div', 'div', 'a', 'div', 'img', 'figcaption', 'h4', 'div', 'div', 'div', 'a', 'div', 'img', 'figcaption', 'h4', 'div', 'div', 'div', 'a', 'div', 'img', 'figcaption', 'h4', 'div', 'div', 'div', 'a', 'div', 'img', 'figcaption', 'h4', 'div', 'div', 'div', 'a', 'div', 'img', 'figcaption', 'h4', 'div', 'div', 'div', 'a', 'div', 'img', 'figcaption', 'h4', 'div', 'div', 'div', 'a', 'div', 'img', 'figcaption', 'h4', 'div', 'div', 'div', 'a', 'div', 'img', 'figcaption', 'h4', 'div', 'div', 'div', 'a', 'div', 'img', 'figcaption', 'h4', 'button', 'div', 'a', 'div', 'h2', 'a', 'div', 'button', 'div', 'div', 'div', 'div', 'div', 'a', 'div', 'img', 'figcaption', 'h4', 'div', 'div', 'div', 'a', 'div', 'img', 'figcaption', 'h4', 'div', 'div', 'div', 'a', 'div', 'img', 'figcaption', 'h4', 'div', 'div', 'div', 'a', 'div', 'img', 'figcaption', 'h4', 'div', 'div', 'div', 'a', 'div', 'img', 'figcaption', 'h4', 'div', 'div', 'div', 'a', 'div', 'img', 'figcaption', 'h4', 'div', 'div', 'div', 'a', 'div', 'img', 'figcaption', 'h4', 'div', 'div', 'div', 'a', 'div', 'img', 'figcaption', 'h4', 'div', 'div', 'div', 'a', 'div', 'img', 'figcaption', 'h4', 'div', 'div', 'div', 'a', 'div', 'img', 'figcaption', 'h4', 'div', 'div', 'div', 'a', 'div', 'img', 'figcaption', 'h4', 'div', 'div', 'div', 'a', 'div', 'img', 'figcaption', 'h4', 'div', 'div', 'div', 'a', 'div', 'img', 'figcaption', 'h4', 'div', 'div', 'div', 'a', 'div', 'img', 'figcaption', 'h4', 'div', 'div', 'div', 'a', 'div', 'img', 'figcaption', 'h4', 'div', 'div', 'div', 'a', 'div', 'img', 'figcaption', 'h4', 'div', 'div', 'div', 'a', 'div', 'img', 'figcaption', 'h4', 'div', 'div', 'div', 'a', 'div', 'img', 'figcaption', 'h4', 'div', 'div', 'div', 'a', 'div', 'img', 'figcaption', 'h4', 'div', 'div', 'div', 'a', 'div', 'img', 'figcaption', 'h4', 'button', 'div', 'a', 'div', 'h2', 'a', 'div', 'button', 'div', 'div', 'div', 'div', 'div', 'a', 'div', 'img', 'figcaption', 'h4', 'div', 'div', 'div', 'a', 'div', 'img', 'figcaption', 'h4', 'div', 'div', 'div', 'a', 'div', 'img', 'figcaption', 'h4', 'div', 'div', 'div', 'a', 'div', 'img', 'figcaption', 'h4', 'div', 'div', 'div', 'a', 'div', 'img', 'figcaption', 'h4', 'div', 'div', 'div', 'a', 'div', 'img', 'figcaption', 'h4', 'div', 'div', 'div', 'a', 'div', 'img', 'figcaption', 'h4', 'div', 'div', 'div', 'a', 'div', 'img', 'figcaption', 'h4', 'div', 'div', 'div', 'a', 'div', 'img', 'figcaption', 'h4', 'div', 'div', 'div', 'a', 'div', 'img', 'figcaption', 'h4', 'div', 'div', 'div', 'a', 'div', 'img', 'figcaption', 'h4', 'div', 'div', 'div', 'a', 'div', 'img', 'figcaption', 'h4', 'div', 'div', 'div', 'a', 'div', 'img', 'figcaption', 'h4', 'div', 'div', 'div', 'a', 'div', 'img', 'figcaption', 'h4', 'div', 'div', 'div', 'a', 'div', 'img', 'figcaption', 'h4', 'div', 'div', 'div', 'a', 'div', 'img', 'figcaption', 'h4', 'div', 'div', 'div', 'a', 'div', 'img', 'figcaption', 'h4', 'div', 'div', 'div', 'a', 'div', 'img', 'figcaption', 'h4', 'div', 'div', 'div', 'a', 'div', 'img', 'figcaption', 'h4', 'div', 'div', 'div', 'a', 'div', 'img', 'figcaption', 'h4', 'button', 'div', 'a', 'div', 'h2', 'a', 'div', 'button', 'div', 'div', 'div', 'div', 'div', 'a', 'div', 'img', 'figcaption', 'h4', 'div', 'div', 'div', 'a', 'div', 'img', 'figcaption', 'h4', 'div', 'div', 'div', 'a', 'div', 'img', 'figcaption', 'h4', 'div', 'div', 'div', 'a', 'div', 'img', 'figcaption', 'h4', 'div', 'div', 'div', 'a', 'div', 'img', 'figcaption', 'h4', 'div', 'div', 'div', 'a', 'div', 'img', 'figcaption', 'h4', 'div', 'div', 'div', 'a', 'div', 'img', 'figcaption', 'h4', 'div', 'div', 'div', 'a', 'div', 'img', 'figcaption', 'h4', 'div', 'div', 'div', 'a', 'div', 'img', 'figcaption', 'h4', 'div', 'div', 'div', 'a', 'div', 'img', 'figcaption', 'h4', 'div', 'div', 'div', 'a', 'div', 'img', 'figcaption', 'h4', 'div', 'div', 'div', 'a', 'div', 'img', 'figcaption', 'h4', 'button', 'div', 'a', 'div', 'script', 'div', 'div', 'div', 'div', 'div', 'div', 'div', 'div', 'div', 'div', 'div', 'div', 'div', 'div', 'h2', 'a', 'span', 'ul', 'a', 'div', 'div', 'div', 'h2', 'span', 'ul', 'div', 'div', 'h2', 'span', 'ul', 'a', 'div', 'a', 'h2', 'span', 'ul', 'div', 'div', 'script', 'a', 'svg', 'g', 'path', 'path', 'div', 'style', 'script']\n"
          ]
        }
      ]
    },
    {
      "cell_type": "markdown",
      "source": [
        "Q3:"
      ],
      "metadata": {
        "id": "Nqw678-kS-Cf"
      }
    },
    {
      "cell_type": "code",
      "source": [
        "sentences = []\n",
        "\n",
        "    # Find and extract text from paragraphs\n",
        "for paragraph in soup.find_all('p'):\n",
        "    text = paragraph.get_text().strip()\n",
        "    if len(text.split('.')) >= 2:\n",
        "        sentence_list = [sentence.strip() for sentence in text.split('.') if sentence.strip()]\n",
        "        sentences.extend(sentence_list)\n",
        "\n",
        "    # Debugging information\n",
        "print(f\"Processing URL: {my_url}\")\n",
        "print(\"\\nFirst few extracted paragraphs:\")\n",
        "for s in sentences[:4]:\n",
        "    print(s)\n",
        "    print(\"------\")\n",
        "\n",
        "    # Print the top 4 sentences in a paragraph\n",
        "print(\"\\nParagraph with more than 2 sentences: \\n\")\n",
        "top_4_sentences = sentences[:4]\n",
        "paragraph = '. '.join(top_4_sentences)\n",
        "print(paragraph + '.')"
      ],
      "metadata": {
        "colab": {
          "base_uri": "https://localhost:8080/"
        },
        "id": "De_M_MZzpsCe",
        "outputId": "2f229d73-50b9-47fa-fdd3-f63321a4c1ec"
      },
      "execution_count": null,
      "outputs": [
        {
          "output_type": "stream",
          "name": "stdout",
          "text": [
            "Processing URL: https://www.moneycontrol.com\n",
            "\n",
            "First few extracted paragraphs:\n",
            "Find & Invest in bonds issued by top corporates, PSU Banks, NBFCs, and much more\n",
            "------\n",
            "Invest as low as 10,000 and earn better returns than FD\n",
            "------\n",
            "Find safe & high-yielding bonds for your buck\n",
            "------\n",
            "Discover the right bonds meeting your investment amount & investment horizon\n",
            "------\n",
            "\n",
            "Paragraph with more than 2 sentences: \n",
            "\n",
            "Find & Invest in bonds issued by top corporates, PSU Banks, NBFCs, and much more. Invest as low as 10,000 and earn better returns than FD. Find safe & high-yielding bonds for your buck. Discover the right bonds meeting your investment amount & investment horizon.\n"
          ]
        }
      ]
    },
    {
      "cell_type": "markdown",
      "source": [
        "**Q4:**"
      ],
      "metadata": {
        "id": "AOvz9hk4TDb3"
      }
    },
    {
      "cell_type": "code",
      "source": [
        "import re\n",
        "print('Printing the links in the given webpage')\n",
        "\n",
        "links = soup.find_all('a', attrs={'href': re.compile(\"^https://\")})\n",
        "\n",
        "if len(links) >= 4:\n",
        "    link = links[3]\n",
        "    link_url = link.get('href')\n",
        "    print(f\"URL : {link_url}\")\n",
        "\n",
        "    # Fetch the linked page and get its title\n",
        "    linked_response = requests.get(link_url)\n",
        "    linked_soup = BeautifulSoup(linked_response.text, 'html.parser')\n",
        "    linked_title = linked_soup.title.string\n",
        "\n",
        "    # Print the title of the linked page\n",
        "    print(f\"Title : {linked_title}\")"
      ],
      "metadata": {
        "colab": {
          "base_uri": "https://localhost:8080/"
        },
        "id": "acUptit3u8La",
        "outputId": "129ed159-d4ab-41f1-e59e-db6b54b43580"
      },
      "execution_count": 29,
      "outputs": [
        {
          "output_type": "stream",
          "name": "stdout",
          "text": [
            "Printing the links in the given webpage\n",
            "URL : https://bengali.news18.com/\n",
            "Title : Bangla News, News in Bengali, বাংলা সংবাদ, বাংলা খবর - Bengali News 18\n"
          ]
        }
      ]
    },
    {
      "cell_type": "markdown",
      "source": [
        "**Q5:**"
      ],
      "metadata": {
        "id": "fzvGJyIRF9Vs"
      }
    },
    {
      "cell_type": "code",
      "source": [
        "included_links = links[-4:-1]\n",
        "\n",
        "for i, link in enumerate(included_links, start=1):\n",
        "    print(f\"Link {i}: {link.get('href')}\")"
      ],
      "metadata": {
        "colab": {
          "base_uri": "https://localhost:8080/"
        },
        "id": "Yp5JYxWQ5gTt",
        "outputId": "0be571e5-31fd-4eb2-e98b-c840a4758d26"
      },
      "execution_count": null,
      "outputs": [
        {
          "output_type": "stream",
          "name": "stdout",
          "text": [
            "Link 1: https://www.in.com/\n",
            "Link 2: https://www.news18.com/cricketnext/\n",
            "Link 3: https://overdrive.in/\n"
          ]
        }
      ]
    },
    {
      "cell_type": "code",
      "source": [
        "import urllib\n",
        "import os\n",
        "\n",
        "# Function to download an image from a URL with retries\n",
        "def download_image(url, filename):\n",
        "    max_retries = 3\n",
        "    retries = 0\n",
        "    while retries < max_retries:\n",
        "        try:\n",
        "            response = requests.get(url, stream=True)\n",
        "            if response.status_code == 200:\n",
        "                with open(filename, 'wb') as file:\n",
        "                    for chunk in response.iter_content(1024):\n",
        "                        file.write(chunk)\n",
        "                print(f\"Downloaded image: {filename}\")\n",
        "                return True\n",
        "            else:\n",
        "                print(f\"Failed to download image from {url}, Retrying...\")\n",
        "                retries += 1\n",
        "        except Exception as e:\n",
        "            print(f\"Error downloading image from {url}: {str(e)}, Retrying...\")\n",
        "            retries += 1\n",
        "    return False\n",
        "\n",
        "url = 'https://www.overdrive.in/'\n",
        "response = requests.get(url)\n",
        "\n",
        "soup = BeautifulSoup(response.text, 'html.parser')\n",
        "\n",
        "links = soup.find_all('a', attrs={'href': re.compile(\"^https://\")})\n",
        "max_links = 4\n",
        "max_images_to_download = 30\n",
        "images_downloaded = 0\n",
        "\n",
        "for i, link in enumerate(links[:max_links], start=1):\n",
        "    if images_downloaded >= max_images_to_download:\n",
        "        break\n",
        "\n",
        "    print(f\"Link {i}: {link.get('href')}\")\n",
        "\n",
        "    linked_url = link.get('href')\n",
        "    linked_response = requests.get(linked_url)\n",
        "    linked_soup = BeautifulSoup(linked_response.text, 'html.parser')\n",
        "    linked_title = linked_soup.title.string\n",
        "\n",
        "    print(f\"Title of Link {i}: {linked_title}\")\n",
        "    image_tags = linked_soup.find_all('img')\n",
        "    for j, img_tag in enumerate(image_tags, start=1):\n",
        "        if images_downloaded >= max_images_to_download:\n",
        "            break\n",
        "        img_url = img_tag.get('src')\n",
        "        if img_url:\n",
        "            img_extension = os.path.splitext(img_url)[-1]\n",
        "            img_filename = f\"{i}_{j}_image{img_extension}\"\n",
        "            if download_image(img_url, img_filename):\n",
        "                images_downloaded += 1\n",
        "\n",
        "print(f\"\\n\\nDownloaded a total of {images_downloaded} images.\")\n"
      ],
      "metadata": {
        "colab": {
          "base_uri": "https://localhost:8080/"
        },
        "id": "ZIGafqJcRQQ1",
        "outputId": "d375a92a-723e-4ef3-9ad1-dd8f8d7dcd7a"
      },
      "execution_count": 54,
      "outputs": [
        {
          "output_type": "stream",
          "name": "stdout",
          "text": [
            "Link 1: https://www.overdrive.in\n",
            "Title of Link 1: Latest Cars in India, Bikes in India, New Car & Bike Prices, Automobile News, Reviews - Overdrive\n",
            "Downloaded image: 1_1_image.0&cj=1\n",
            "Downloaded image: 1_2_image.png\n",
            "Downloaded image: 1_3_image.jpg\n",
            "Downloaded image: 1_4_image.jpg\n",
            "Downloaded image: 1_5_image.jpg\n",
            "Downloaded image: 1_6_image.png\n",
            "Downloaded image: 1_7_image.jpg\n",
            "Downloaded image: 1_8_image.jpg\n",
            "Downloaded image: 1_9_image.png\n",
            "Downloaded image: 1_10_image.png\n",
            "Downloaded image: 1_11_image.jpg\n",
            "Downloaded image: 1_12_image.png\n",
            "Downloaded image: 1_13_image.png\n",
            "Downloaded image: 1_14_image.png\n",
            "Downloaded image: 1_15_image.jpg\n",
            "Downloaded image: 1_16_image.jpg\n",
            "Downloaded image: 1_17_image.jpg\n",
            "Downloaded image: 1_18_image.jpg\n",
            "Downloaded image: 1_19_image.jpg\n",
            "Downloaded image: 1_20_image.jpg\n",
            "Downloaded image: 1_21_image.jpg\n",
            "Downloaded image: 1_22_image.jpg\n",
            "Downloaded image: 1_23_image.jpg\n",
            "Downloaded image: 1_24_image.jpg\n",
            "Downloaded image: 1_25_image.jpg\n",
            "Downloaded image: 1_26_image.jpg\n",
            "Downloaded image: 1_27_image.jpg\n",
            "Downloaded image: 1_28_image.jpg\n",
            "Downloaded image: 1_29_image.jpg\n",
            "Downloaded image: 1_30_image.jpg\n",
            "\n",
            "\n",
            "Downloaded a total of 30 images.\n"
          ]
        }
      ]
    },
    {
      "cell_type": "code",
      "source": [
        "def download_image(url, filename):\n",
        "    max_retries = 3\n",
        "    retries = 0\n",
        "    while retries < max_retries:\n",
        "        try:\n",
        "            response = requests.get(url, stream=True)\n",
        "            if response.status_code == 200:\n",
        "                with open(filename, 'wb') as file:\n",
        "                    for chunk in response.iter_content(1024):\n",
        "                        file.write(chunk)\n",
        "                print(f\"Downloaded image: {filename}\")\n",
        "                return True\n",
        "            else:\n",
        "                print(f\"Failed to download image from {url}, Retrying...\")\n",
        "                retries += 1\n",
        "        except Exception as e:\n",
        "            print(f\"Error downloading image from {url}: {str(e)}, Retrying...\")\n",
        "            retries += 1\n",
        "    return False\n",
        "url = 'https://www.news18.com/cricketnext/'\n",
        "response = requests.get(url)\n",
        "\n",
        "soup = BeautifulSoup(response.text, 'html.parser')\n",
        "\n",
        "links = soup.find_all('a', attrs={'href': re.compile(\"^https://\")})\n",
        "max_links = 4\n",
        "max_images_to_download = 30\n",
        "images_downloaded = 0\n",
        "\n",
        "for i, link in enumerate(links[:max_links], start=1):\n",
        "    if images_downloaded >= max_images_to_download:\n",
        "        break\n",
        "    print(f\"Link {i}: {link.get('href')}\")\n",
        "\n",
        "    # Fetch the linked page and get its title\n",
        "    linked_url = link.get('href')\n",
        "    linked_response = requests.get(linked_url)\n",
        "    linked_soup = BeautifulSoup(linked_response.text, 'html.parser')\n",
        "    linked_title = linked_soup.title.string\n",
        "\n",
        "    print(f\"Title of Link {i}: {linked_title}\")\n",
        "\n",
        "    image_tags = linked_soup.find_all('img')\n",
        "    for j, img_tag in enumerate(image_tags, start=1):\n",
        "        if images_downloaded >= max_images_to_download:\n",
        "            break\n",
        "        img_url = img_tag.get('src')\n",
        "        if img_url:\n",
        "            img_extension = os.path.splitext(img_url)[-1]\n",
        "            img_filename = f\"{i}_{j}_image{img_extension}\"\n",
        "            if download_image(img_url, img_filename):\n",
        "                images_downloaded += 1\n",
        "\n",
        "print(f\"\\n\\nDownloaded a total of {images_downloaded} images.\")\n"
      ],
      "metadata": {
        "colab": {
          "base_uri": "https://localhost:8080/"
        },
        "id": "d72FMEhgUARk",
        "outputId": "47e5d5f0-eb32-4a76-e077-a78ec1ddb056"
      },
      "execution_count": 55,
      "outputs": [
        {
          "output_type": "stream",
          "name": "stdout",
          "text": [
            "Link 1: https://www.news18.com/\n",
            "Title of Link 1: News, Breaking News, Latest News, News Headlines, Live News, Today News CNN-News18\n",
            "Downloaded image: 1_1_image.svg\n",
            "Error downloading image from data:image/svg+xml;base64,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: No connection adapters were found for 'data:image/svg+xml;base64,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', Retrying...\n",
            "Error downloading image from data:image/svg+xml;base64,PHN2ZyBpZD0iTGF5ZXJfMSIgZGF0YS1uYW1lPSJMYXllciAxIiB4bWxucz0iaHR0cDovL3d3dy53My5vcmcvMjAwMC9zdmciIHhtbG5zOnhsaW5rPSJodHRwOi8vd3d3LnczLm9yZy8xOTk5L3hsaW5rIiB2aWV3Qm94PSIwIDAgMTI5LjkgNDcuNyI+CiAgPGRlZnM+CiAgICA8c3R5bGU+CiAgICAgIC5jbHMtMSwgLmNscy02IHsKICAgICAgICBmaWxsOiBub25lOwogICAgICB9CgogICAgICAuY2xzLTIgewogICAgICAgIGZpbGw6ICMwMDFkNDI7CiAgICAgIH0KCiAgICAgIC5jbHMtMiwgLmNscy0zLCAuY2xzLTQsIC5jbHMtNSwgLmNscy05IHsKICAgICAgICBmaWxsLXJ1bGU6IGV2ZW5vZGQ7CiAgICAgIH0KCiAgICAgIC5jbHMtMyB7CiAgICAgICAgZmlsbDogI2ZmZjsKICAgICAgfQoKICAgICAgLmNscy00IHsKICAgICAgICBmaWxsOiAjZmVmZWZlOwogICAgICB9CgogICAgICAuY2xzLTUgewogICAgICAgIGZpbGw6ICNlMTI2MWM7CiAgICAgIH0KCiAgICAgIC5jbHMtNiB7CiAgICAgICAgc3Ryb2tlOiAjZmZmOwogICAgICAgIHN0cm9rZS1taXRlcmxpbWl0OiAxMDsKICAgICAgfQoKICAgICAgLmNscy03IHsKICAgICAgICBjbGlwLXBhdGg6IHVybCgjY2xpcC1wYXRoKTsKICAgICAgfQoKICAgICAgLmNscy04IHsKICAgICAgICBmaWxsOiAjNzRjOWM2OwogICAgICB9CgogICAgICAuY2xzLTkgewogICAgICAgIGZpbGw6ICNlZTFjMjU7CiAgICAgIH0KICAgIDwvc3R5bGU+CiAgICA8Y2xpcFBhdGggaWQ9ImNsaXAtcGF0aCIgdHJhbnNmb3JtPSJ0cmFuc2xhdGUoLTAuMSAtMC4zKSI+CiAgICAgIDxwYXRoIGNsYXNzPSJjbHMtMSIgZD0iTTExNywyOS44NGM0LjQtLjA4LDcuMTMtMy4xNCw3LjQ1LTYsLjQ0LTMuOTEtMS42NC01LjI0LTIuODUtNmE0LjYyLDQuNjIsMCwwLDAsMi4xNi00LjY4Yy0uMzktMy41OS0zLjQtNS4zOS02LjkxLTUuNDJzLTYuMjYsMi4xMS02Ljc1LDUuMjhhNC43LDQuNywwLDAsMCwyLjE3LDQuODIsNi4xNyw2LjE3LDAsMCwwLTIuOTEsNS45M0E3LjM4LDcuMzgsMCwwLDAsMTE3LDI5Ljg0WiIvPgogICAgPC9jbGlwUGF0aD4KICA8L2RlZnM+CiAgPGc+CiAgICA8Zz4KICAgICAgPHBhdGggY2xhc3M9ImNscy0xIiBkPSJNLjQuM0gxMjkuNVY0OEguNFoiIHRyYW5zZm9ybT0idHJhbnNsYXRlKC0wLjEgLTAuMykiLz4KICAgICAgPGc+CiAgICAgICAgPHBhdGggY2xhc3M9ImNscy0yIiBkPSJNMS4xLDExLjlIMTA1LjNWNDYuNkgxLjFaIiB0cmFuc2Zvcm09InRyYW5zbGF0ZSgtMC4xIC0wLjMpIi8+CiAgICAgICAgPHBhdGggY2xhc3M9ImNscy0zIiBkPSJNNy40LDE4Ljl2MjFoNS4xdi0xM2w3LjUsMTNoNXYtMjFIMTkuOVYzMS4yTDEyLjcsMTguOVoiIHRyYW5zZm9ybT0idHJhbnNsYXRlKC0wLjEgLTAuMykiLz4KICAgICAgICA8cGF0aCBjbGFzcz0iY2xzLTQiIGQ9Ik0yOCwxOC45djIxSDQ0LjRWMzUuM0gzMy4yVjMxLjFINDNWMjYuNkgzMy4yVjIzLjVINDMuOVYxOC44WiIgdHJhbnNmb3JtPSJ0cmFuc2xhdGUoLTAuMSAtMC4zKSIvPgogICAgICAgIDxwYXRoIGNsYXNzPSJjbHMtNCIgZD0iTTQ1LjMsMTguOWw2LDIxaDUuM2wyLjgtMTMuNSwyLjgsMTMuNWg0LjdsNi0yMUg2Ny41TDY0LjYsMzEuMyw2Mi4xLDE4LjlINTYuNUw1NC4xLDMwLjYsNTEuNCwxOC45WiIgdHJhbnNmb3JtPSJ0cmFuc2xhdGUoLTAuMSAtMC4zKSIvPgogICAgICAgIDxwYXRoIGNsYXNzPSJjbHMtMyIgZD0iTTg1LDI1LjhzLjctMi42LTMuNC0zYy0yLjgtLjMtMy40LDEuNy0zLDIuNC45LDEuNSw3LjQsMS41LDEwLjUsNC4xLDIuNywyLjMsMiw3LjQtLjgsOS4zLTMuNCwyLjMtOC43LDEuOS0xMS4xLjhhNi42NCw2LjY0LDAsMCwxLTQtNi44aDVzLS4zLDMuMiwzLjcsMy4yLDQuMi0yLjIsMy4zLTNjLTEtMS04LjgtMS4zLTEwLjktNC41YTYuMzcsNi4zNywwLDAsMSwyLjItOC44YzMuOC0yLjMsOS41LTEuMiwxMS41LDFhNi43Nyw2Ljc3LDAsMCwxLDIuMSw1LjNaIiB0cmFuc2Zvcm09InRyYW5zbGF0ZSgtMC4xIC0wLjMpIi8+CiAgICAgICAgPHBhdGggY2xhc3M9ImNscy01IiBkPSJNOTQuMywxLjJIMTI5VjM1LjlIOTQuNFoiIHRyYW5zZm9ybT0idHJhbnNsYXRlKC0wLjEgLTAuMykiLz4KICAgICAgPC9nPgogICAgICA8cGF0aCBjbGFzcz0iY2xzLTMiIGQ9Ik0xMDcuMiwyOS42aC01VjEzLjFIOTguOHYtNWg4LjRaIiB0cmFuc2Zvcm09InRyYW5zbGF0ZSgtMC4xIC0wLjMpIi8+CiAgICAgIDxwYXRoIGNsYXNzPSJjbHMtNiIgZD0iTTEwNS4yLDM2LjZWNDdILjZWMTEuNGg5MyIgdHJhbnNmb3JtPSJ0cmFuc2xhdGUoLTAuMSAtMC4zKSIvPgogICAgICA8cGF0aCBjbGFzcz0iY2xzLTYiIGQ9Ik05NC4xLDFoMzUuNFYzNi4xSDk0LjFaIiB0cmFuc2Zvcm09InRyYW5zbGF0ZSgtMC4xIC0wLjMpIi8+CiAgICA8L2c+CiAgICA8Zz4KICAgICAgPHBhdGggY2xhc3M9ImNscy0zIiBkPSJNMTE3LDI5Ljg0YzQuNC0uMDgsNy4xMy0zLjE0LDcuNDUtNiwuNDQtMy45MS0xLjY0LTUuMjQtMi44NS02YTQuNjIsNC42MiwwLDAsMCwyLjE2LTQuNjhjLS4zOS0zLjU5LTMuNC01LjM5LTYuOTEtNS40MnMtNi4yNiwyLjExLTYuNzUsNS4yOGE0LjcsNC43LDAsMCwwLDIuMTcsNC44Miw2LjE3LDYuMTcsMCwwLDAtMi45MSw1LjkzQTcuMzgsNy4zOCwwLDAsMCwxMTcsMjkuODRaIiB0cmFuc2Zvcm09InRyYW5zbGF0ZSgtMC4xIC0wLjMpIi8+CiAgICAgIDxnIGNsYXNzPSJjbHMtNyI+CiAgICAgICAgPGc+CiAgICAgICAgICA8cGF0aCBjbGFzcz0iY2xzLTgiIGQ9Ik0xMjEsMTcuODRhMTQuODgsMTQuODgsMCwwLDEtOCwuMDgsNy42Miw3LjYyLDAsMCwxLC4xMS00LjExYzEuMjUuMTYsMi41MS0uNjgsMy43Ny0uNjdzMi42My44NCw0LC42N0E2LjM2LDYuMzYsMCwwLDEsMTIxLDE3Ljg0WiIgdHJhbnNmb3JtPSJ0cmFuc2xhdGUoLTAuMSAtMC4zKSIvPgogICAgICAgICAgPHBhdGggY2xhc3M9ImNscy04IiBkPSJNMTEzLjA2LDE0LjUyYTcuODIsNy44MiwwLDAsMS0xLjc3LS41Miw5LjY4LDkuNjgsMCwwLDEtMS41Mi0uODJsLjQxLS41OGE4Ljg1LDguODUsMCwwLDAsMS4zOS43NSw2LjgzLDYuODMsMCwwLDAsMS41OC40N1oiIHRyYW5zZm9ybT0idHJhbnNsYXRlKC0wLjEgLTAuMykiLz4KICAgICAgICAgIDxwYXRoIGNsYXNzPSJjbHMtOCIgZD0iTTExMy4xNSwxNy45NGE3LjcxLDcuNzEsMCwwLDEtMS43Ni0uNTEsNy40MSw3LjQxLDAsMCwxLTEuNDMtLjc5bC40Mi0uNTZhNi43Myw2LjczLDAsMCwwLDEuMjkuNyw2LjU5LDYuNTksMCwwLDAsMS41Ny40NloiIHRyYW5zZm9ybT0idHJhbnNsYXRlKC0wLjEgLTAuMykiLz4KICAgICAgICAgIDxwYXRoIGNsYXNzPSJjbHMtOCIgZD0iTTEyMC44NiwxNC41MmwtLjEtLjdhNi42MSw2LjYxLDAsMCwwLDEuNTctLjQ3LDcuMjQsNy4yNCwwLDAsMCwxLjM5LS43N2wuNDIuNTdhOC43OCw4Ljc4LDAsMCwxLTEuNTMuODVBOC4xOSw4LjE5LDAsMCwxLDEyMC44NiwxNC41MloiIHRyYW5zZm9ybT0idHJhbnNsYXRlKC0wLjEgLTAuMykiLz4KICAgICAgICAgIDxwYXRoIGNsYXNzPSJjbHMtOCIgZD0iTTEyMC43MSwxNy44OGwwLS43YTQuODYsNC44NiwwLDAsMCwxLjU1LS40LDYuMTgsNi4xOCwwLDAsMCwxLjI5LS43bC40My41NmE3LjIsNy4yLDAsMCwxLTEuNDQuNzlBNS41NSw1LjU1LDAsMCwxLDEyMC43MSwxNy44OFoiIHRyYW5zZm9ybT0idHJhbnNsYXRlKC0wLjEgLTAuMykiLz4KICAgICAgICAgIDxjaXJjbGUgY3g9IjExOC42NCIgY3k9IjEyLjIyIiByPSIwLjY4Ii8+CiAgICAgICAgICA8Y2lyY2xlIGN4PSIxMTUuMDciIGN5PSIxMi4yMiIgcj0iMC42OCIvPgogICAgICAgIDwvZz4KICAgICAgPC9nPgogICAgICA8cGF0aCBjbGFzcz0iY2xzLTkiIGQ9Ik0xMTkuNDUsMjIuNDVBMi40MSwyLjQxLDAsMCwxLDExNy4wOCwyNWEyLjQ2LDIuNDYsMCwwLDEtMi40Ni0yLjUxQTIuMzIsMi4zMiwwLDAsMSwxMTcuMDYsMjAsMi40LDIuNCwwLDAsMSwxMTkuNDUsMjIuNDVaIiB0cmFuc2Zvcm09InRyYW5zbGF0ZSgtMC4xIC0wLjMpIi8+CiAgICA8L2c+CiAgPC9nPgo8L3N2Zz4K: No connection adapters were found for 'data:image/svg+xml;base64,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', Retrying...\n",
            "Error downloading image from data:image/svg+xml;base64,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: No connection adapters were found for 'data:image/svg+xml;base64,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', Retrying...\n",
            "Downloaded image: 1_3_image.jpg?impolicy=website&width=540&height=360\n",
            "Downloaded image: 1_4_image.jpg?impolicy=website&width=260&height=173\n",
            "Downloaded image: 1_5_image.jpg?impolicy=website&width=260&height=173\n",
            "Downloaded image: 1_6_image.jpeg?impolicy=website&width=182&height=122\n",
            "Downloaded image: 1_7_image.jpeg?impolicy=website&width=182&height=122\n",
            "Downloaded image: 1_8_image.jpeg?impolicy=website&width=182&height=122\n",
            "Downloaded image: 1_9_image.jpeg?impolicy=website&width=182&height=122\n",
            "Downloaded image: 1_10_image.jpeg?impolicy=website&width=182&height=122\n",
            "Downloaded image: 1_11_image.jpeg?impolicy=website&width=182&height=122\n",
            "Downloaded image: 1_12_image.jpeg?impolicy=website&width=182&height=122\n",
            "Downloaded image: 1_13_image.jpeg?impolicy=website&width=182&height=122\n",
            "Downloaded image: 1_14_image.svg\n",
            "Downloaded image: 1_15_image.svg\n",
            "Downloaded image: 1_16_image.jpg?impolicy=website&width=204&height=136\n",
            "Downloaded image: 1_17_image.jpg?impolicy=website&width=204&height=136\n",
            "Downloaded image: 1_18_image.jpg?impolicy=website&width=204&height=136\n",
            "Downloaded image: 1_19_image.jpg?impolicy=website&width=204&height=136\n",
            "Downloaded image: 1_20_image.jpg?impolicy=website&width=204&height=136\n",
            "Downloaded image: 1_21_image.jpg?impolicy=website&width=204&height=136\n",
            "Downloaded image: 1_22_image.svg\n",
            "Downloaded image: 1_23_image.svg\n",
            "Downloaded image: 1_24_image.svg\n",
            "Downloaded image: 1_25_image.jpg?impolicy=website&width=168&height=112\n",
            "Downloaded image: 1_26_image.jpg?impolicy=website&width=168&height=112\n",
            "Downloaded image: 1_27_image.jpg?impolicy=website&width=168&height=112\n",
            "Downloaded image: 1_28_image.jpg?impolicy=website&width=168&height=112\n",
            "Downloaded image: 1_29_image.jpg?impolicy=website&width=168&height=112\n",
            "Downloaded image: 1_30_image.jpg?impolicy=website&width=120&height=80\n",
            "Downloaded image: 1_31_image.jpg?impolicy=website&width=120&height=80\n",
            "\n",
            "\n",
            "Downloaded a total of 30 images.\n"
          ]
        }
      ]
    },
    {
      "cell_type": "code",
      "source": [
        "import requests\n",
        "from bs4 import BeautifulSoup\n",
        "\n",
        "url = 'https://www.in.com/'\n",
        "response = requests.get(url)\n",
        "\n",
        "soup = BeautifulSoup(response.text, 'html.parser')\n",
        "\n",
        "# Find the list element using the provided class name and structure\n",
        "list_element = soup.find('ul', class_='jsx-7ca0ea2315bd3cb3 topNavList')\n",
        "\n",
        "# Extract and print the list items\n",
        "if list_element:\n",
        "    list_items = list_element.find_all('li')\n",
        "    for item in list_items:\n",
        "        print(item.get_text())\n",
        "else:\n",
        "    print(\"List not found on the webpage.\")\n"
      ],
      "metadata": {
        "colab": {
          "base_uri": "https://localhost:8080/"
        },
        "id": "HSPQe1uQV9Yh",
        "outputId": "faedf5f6-b5b7-44e7-c765-8d3ff970fef1"
      },
      "execution_count": 59,
      "outputs": [
        {
          "output_type": "stream",
          "name": "stdout",
          "text": [
            "Home\n",
            "Movies\n",
            "Cricket\n",
            "India\n",
            "Showsha\n",
            "Politics\n",
            "World\n",
            "Viral\n",
            "Business\n",
            "Opinion\n",
            "Education\n",
            "Web Stories\n",
            "Videos\n"
          ]
        }
      ]
    },
    {
      "cell_type": "code",
      "source": [],
      "metadata": {
        "id": "riC0vjgpWp37"
      },
      "execution_count": null,
      "outputs": []
    }
  ]
}