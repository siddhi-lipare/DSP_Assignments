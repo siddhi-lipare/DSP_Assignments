{
  "nbformat": 4,
  "nbformat_minor": 0,
  "metadata": {
    "colab": {
      "provenance": []
    },
    "kernelspec": {
      "name": "python3",
      "display_name": "Python 3"
    },
    "language_info": {
      "name": "python"
    }
  },
  "cells": [
    {
      "cell_type": "markdown",
      "source": [
        "**Data Encapsulation and Data Abstraction:**\n",
        "\n",
        "\n",
        "**1. Create a class Student with attributes name (private), age (protected), and marks (public). Implement methods to set and get the values of the private and protected attributes. Create an instance of the class and demonstrate how to use these methods to access and modify the attributes.**\n",
        "\n",
        "**2. Create a base class Shape with a protected attribute area. Implement subclasses Circle and Rectangle that calculate their respective areas. Make use of protected members to store and access the calculated areas.**\n",
        "\n",
        "**3. Write a class Calculator that implements a method evaluate expression() to calculate the result of an arithmetic expression following the PEMDAS rule.**\n",
        "\n",
        "**4. Create a program that reads data from a CSV file named data.csv containing student names and their scores. Implement a class Student with attributes name and score. Read the data from the CSV file and create instances of the Student class for each student. Compute the average for the class using a numpy function**\n",
        "\n"
      ],
      "metadata": {
        "id": "ttNT5-SqC351"
      }
    },
    {
      "cell_type": "code",
      "source": [
        "class Student:\n",
        "    def __init__(self, name, age, marks):\n",
        "        self.__name = name  # private attribute\n",
        "        self._age = age  # protected attribute\n",
        "        self.marks = marks  # public attribute\n",
        "\n",
        "    # Method to set the name\n",
        "    def set_name(self, name):\n",
        "        self.__name = name\n",
        "\n",
        "    # Method to get the name\n",
        "    def get_name(self):\n",
        "        return self.__name\n",
        "\n",
        "    # Method to set the age\n",
        "    def set_age(self, age):\n",
        "        self._age = age\n",
        "\n",
        "    # Method to get the age\n",
        "    def get_age(self):\n",
        "        return self._age\n",
        "\n",
        "# Create an instance of the Student class\n",
        "s = Student(\"Siddhi\", 20, 95)\n",
        "\n",
        "# Access and modify the attributes using methods\n",
        "print(s.get_name())  # Output: Siddhi\n",
        "s.set_name(\"Lipare\")\n",
        "print(s.get_name())  # Output: Lipare\n",
        "\n",
        "print(s.get_age())  # Output: 20\n",
        "s.set_age(22)\n",
        "print(s.get_age())  # Output: 22\n",
        "\n",
        "print(s.marks)  # Output: 95\n"
      ],
      "metadata": {
        "id": "n5ZxbzmaGNEa",
        "colab": {
          "base_uri": "https://localhost:8080/"
        },
        "outputId": "4bf155b3-a01e-4fda-ba5e-a49cea0d3e4e"
      },
      "execution_count": 1,
      "outputs": [
        {
          "output_type": "stream",
          "name": "stdout",
          "text": [
            "Siddhi\n",
            "Lipare\n",
            "20\n",
            "22\n",
            "95\n"
          ]
        }
      ]
    },
    {
      "cell_type": "code",
      "source": [
        "import math\n",
        "\n",
        "class Shape:\n",
        "    def __init__(self):\n",
        "        self._area = 0  # protected attribute\n",
        "\n",
        "    def calculate_area(self):\n",
        "        pass\n",
        "\n",
        "class Circle(Shape):\n",
        "    def __init__(self, radius):\n",
        "        super().__init__()\n",
        "        self.radius = radius\n",
        "\n",
        "    def calculate_area(self):\n",
        "        self._area = math.pi * self.radius ** 2\n",
        "        return self._area\n",
        "\n",
        "class Rectangle(Shape):\n",
        "    def __init__(self, length, width):\n",
        "        super().__init__()\n",
        "        self.length = length\n",
        "        self.width = width\n",
        "\n",
        "    def calculate_area(self):\n",
        "        self._area = self.length * self.width\n",
        "        return self._area\n",
        "\n",
        "# Test the code\n",
        "c = Circle(5)\n",
        "r = Rectangle(4, 6)\n",
        "\n",
        "print(c.calculate_area())  # Output: 78.53981633974483\n",
        "print(r.calculate_area())  # Output: 24\n",
        "\n"
      ],
      "metadata": {
        "id": "R9i4p0hQGNUv",
        "colab": {
          "base_uri": "https://localhost:8080/"
        },
        "outputId": "c9a72d2f-7fd2-4ccd-9d95-629a83922478"
      },
      "execution_count": 5,
      "outputs": [
        {
          "output_type": "stream",
          "name": "stdout",
          "text": [
            "78.53981633974483\n",
            "24\n"
          ]
        }
      ]
    },
    {
      "cell_type": "code",
      "source": [
        "# Calculator using PEMDAS Rule:\n",
        "\n",
        "class Calculator:\n",
        "    def evaluate_expression(self, expression):\n",
        "        return eval(expression)\n",
        "\n",
        "calc = Calculator()\n",
        "result = calc.evaluate_expression(\"2 + 2 * 2\")\n",
        "print(result)  # Output: 6\n"
      ],
      "metadata": {
        "id": "Uu2xvBtVGNdc",
        "colab": {
          "base_uri": "https://localhost:8080/"
        },
        "outputId": "3fb40f0f-444b-4c3c-f215-5a7a7036d9a2"
      },
      "execution_count": 4,
      "outputs": [
        {
          "output_type": "stream",
          "name": "stdout",
          "text": [
            "6\n"
          ]
        }
      ]
    },
    {
      "cell_type": "code",
      "source": [
        "from google.colab import files\n",
        "files.upload()"
      ],
      "metadata": {
        "id": "GnscEZqdGOKe",
        "colab": {
          "base_uri": "https://localhost:8080/",
          "height": 92
        },
        "outputId": "da7bb23b-6a20-4585-a1be-4a1200a3bd4b"
      },
      "execution_count": 2,
      "outputs": [
        {
          "output_type": "display_data",
          "data": {
            "text/plain": [
              "<IPython.core.display.HTML object>"
            ],
            "text/html": [
              "\n",
              "     <input type=\"file\" id=\"files-66e10d7c-7eb2-43ca-962a-57269b0baa44\" name=\"files[]\" multiple disabled\n",
              "        style=\"border:none\" />\n",
              "     <output id=\"result-66e10d7c-7eb2-43ca-962a-57269b0baa44\">\n",
              "      Upload widget is only available when the cell has been executed in the\n",
              "      current browser session. Please rerun this cell to enable.\n",
              "      </output>\n",
              "      <script>// Copyright 2017 Google LLC\n",
              "//\n",
              "// Licensed under the Apache License, Version 2.0 (the \"License\");\n",
              "// you may not use this file except in compliance with the License.\n",
              "// You may obtain a copy of the License at\n",
              "//\n",
              "//      http://www.apache.org/licenses/LICENSE-2.0\n",
              "//\n",
              "// Unless required by applicable law or agreed to in writing, software\n",
              "// distributed under the License is distributed on an \"AS IS\" BASIS,\n",
              "// WITHOUT WARRANTIES OR CONDITIONS OF ANY KIND, either express or implied.\n",
              "// See the License for the specific language governing permissions and\n",
              "// limitations under the License.\n",
              "\n",
              "/**\n",
              " * @fileoverview Helpers for google.colab Python module.\n",
              " */\n",
              "(function(scope) {\n",
              "function span(text, styleAttributes = {}) {\n",
              "  const element = document.createElement('span');\n",
              "  element.textContent = text;\n",
              "  for (const key of Object.keys(styleAttributes)) {\n",
              "    element.style[key] = styleAttributes[key];\n",
              "  }\n",
              "  return element;\n",
              "}\n",
              "\n",
              "// Max number of bytes which will be uploaded at a time.\n",
              "const MAX_PAYLOAD_SIZE = 100 * 1024;\n",
              "\n",
              "function _uploadFiles(inputId, outputId) {\n",
              "  const steps = uploadFilesStep(inputId, outputId);\n",
              "  const outputElement = document.getElementById(outputId);\n",
              "  // Cache steps on the outputElement to make it available for the next call\n",
              "  // to uploadFilesContinue from Python.\n",
              "  outputElement.steps = steps;\n",
              "\n",
              "  return _uploadFilesContinue(outputId);\n",
              "}\n",
              "\n",
              "// This is roughly an async generator (not supported in the browser yet),\n",
              "// where there are multiple asynchronous steps and the Python side is going\n",
              "// to poll for completion of each step.\n",
              "// This uses a Promise to block the python side on completion of each step,\n",
              "// then passes the result of the previous step as the input to the next step.\n",
              "function _uploadFilesContinue(outputId) {\n",
              "  const outputElement = document.getElementById(outputId);\n",
              "  const steps = outputElement.steps;\n",
              "\n",
              "  const next = steps.next(outputElement.lastPromiseValue);\n",
              "  return Promise.resolve(next.value.promise).then((value) => {\n",
              "    // Cache the last promise value to make it available to the next\n",
              "    // step of the generator.\n",
              "    outputElement.lastPromiseValue = value;\n",
              "    return next.value.response;\n",
              "  });\n",
              "}\n",
              "\n",
              "/**\n",
              " * Generator function which is called between each async step of the upload\n",
              " * process.\n",
              " * @param {string} inputId Element ID of the input file picker element.\n",
              " * @param {string} outputId Element ID of the output display.\n",
              " * @return {!Iterable<!Object>} Iterable of next steps.\n",
              " */\n",
              "function* uploadFilesStep(inputId, outputId) {\n",
              "  const inputElement = document.getElementById(inputId);\n",
              "  inputElement.disabled = false;\n",
              "\n",
              "  const outputElement = document.getElementById(outputId);\n",
              "  outputElement.innerHTML = '';\n",
              "\n",
              "  const pickedPromise = new Promise((resolve) => {\n",
              "    inputElement.addEventListener('change', (e) => {\n",
              "      resolve(e.target.files);\n",
              "    });\n",
              "  });\n",
              "\n",
              "  const cancel = document.createElement('button');\n",
              "  inputElement.parentElement.appendChild(cancel);\n",
              "  cancel.textContent = 'Cancel upload';\n",
              "  const cancelPromise = new Promise((resolve) => {\n",
              "    cancel.onclick = () => {\n",
              "      resolve(null);\n",
              "    };\n",
              "  });\n",
              "\n",
              "  // Wait for the user to pick the files.\n",
              "  const files = yield {\n",
              "    promise: Promise.race([pickedPromise, cancelPromise]),\n",
              "    response: {\n",
              "      action: 'starting',\n",
              "    }\n",
              "  };\n",
              "\n",
              "  cancel.remove();\n",
              "\n",
              "  // Disable the input element since further picks are not allowed.\n",
              "  inputElement.disabled = true;\n",
              "\n",
              "  if (!files) {\n",
              "    return {\n",
              "      response: {\n",
              "        action: 'complete',\n",
              "      }\n",
              "    };\n",
              "  }\n",
              "\n",
              "  for (const file of files) {\n",
              "    const li = document.createElement('li');\n",
              "    li.append(span(file.name, {fontWeight: 'bold'}));\n",
              "    li.append(span(\n",
              "        `(${file.type || 'n/a'}) - ${file.size} bytes, ` +\n",
              "        `last modified: ${\n",
              "            file.lastModifiedDate ? file.lastModifiedDate.toLocaleDateString() :\n",
              "                                    'n/a'} - `));\n",
              "    const percent = span('0% done');\n",
              "    li.appendChild(percent);\n",
              "\n",
              "    outputElement.appendChild(li);\n",
              "\n",
              "    const fileDataPromise = new Promise((resolve) => {\n",
              "      const reader = new FileReader();\n",
              "      reader.onload = (e) => {\n",
              "        resolve(e.target.result);\n",
              "      };\n",
              "      reader.readAsArrayBuffer(file);\n",
              "    });\n",
              "    // Wait for the data to be ready.\n",
              "    let fileData = yield {\n",
              "      promise: fileDataPromise,\n",
              "      response: {\n",
              "        action: 'continue',\n",
              "      }\n",
              "    };\n",
              "\n",
              "    // Use a chunked sending to avoid message size limits. See b/62115660.\n",
              "    let position = 0;\n",
              "    do {\n",
              "      const length = Math.min(fileData.byteLength - position, MAX_PAYLOAD_SIZE);\n",
              "      const chunk = new Uint8Array(fileData, position, length);\n",
              "      position += length;\n",
              "\n",
              "      const base64 = btoa(String.fromCharCode.apply(null, chunk));\n",
              "      yield {\n",
              "        response: {\n",
              "          action: 'append',\n",
              "          file: file.name,\n",
              "          data: base64,\n",
              "        },\n",
              "      };\n",
              "\n",
              "      let percentDone = fileData.byteLength === 0 ?\n",
              "          100 :\n",
              "          Math.round((position / fileData.byteLength) * 100);\n",
              "      percent.textContent = `${percentDone}% done`;\n",
              "\n",
              "    } while (position < fileData.byteLength);\n",
              "  }\n",
              "\n",
              "  // All done.\n",
              "  yield {\n",
              "    response: {\n",
              "      action: 'complete',\n",
              "    }\n",
              "  };\n",
              "}\n",
              "\n",
              "scope.google = scope.google || {};\n",
              "scope.google.colab = scope.google.colab || {};\n",
              "scope.google.colab._files = {\n",
              "  _uploadFiles,\n",
              "  _uploadFilesContinue,\n",
              "};\n",
              "})(self);\n",
              "</script> "
            ]
          },
          "metadata": {}
        },
        {
          "output_type": "stream",
          "name": "stdout",
          "text": [
            "Saving data.csv to data.csv\n"
          ]
        },
        {
          "output_type": "execute_result",
          "data": {
            "text/plain": [
              "{'data.csv': b'name,score\\nSiddhi, 95\\nAryan, 85\\nKishore, 75\\nAkshat, 80\\n'}"
            ]
          },
          "metadata": {},
          "execution_count": 2
        }
      ]
    },
    {
      "cell_type": "code",
      "source": [
        "import csv\n",
        "import numpy as np\n",
        "\n",
        "class Student:\n",
        "    def __init__(self, name, score):\n",
        "        self.name = name\n",
        "        self.score = score\n",
        "\n",
        "students = []\n",
        "\n",
        "# Read from CSV\n",
        "with open('data.csv', 'r') as file:\n",
        "    reader = csv.reader(file)\n",
        "    next(reader)  # Skip the header row\n",
        "    for row in reader:\n",
        "        students.append(Student(row[0], int(row[1])))\n",
        "\n",
        "# Compute the average score using numpy\n",
        "scores = [student.score for student in students]\n",
        "average_score = np.mean(scores)\n",
        "print(f\"The class average is: {average_score}\")\n"
      ],
      "metadata": {
        "colab": {
          "base_uri": "https://localhost:8080/"
        },
        "id": "Otm9u7niKNg3",
        "outputId": "8ad28125-f250-4acf-e7ed-b67e695d9e24"
      },
      "execution_count": 3,
      "outputs": [
        {
          "output_type": "stream",
          "name": "stdout",
          "text": [
            "The class average is: 83.75\n"
          ]
        }
      ]
    },
    {
      "cell_type": "markdown",
      "source": [
        "**Welcome To Numpy**\n",
        "\n",
        "This assignment will help you the explore the Numpy library and its various uses. It would also cover some use cases about how numpy makes Machine Learning and Data Science calculations easy and fast. This assignment is made in order to encourage you to explore more and more builtin functions of this library and their usage. For all problems, you need to print the output.\n",
        "\n",
        "\n"
      ],
      "metadata": {
        "id": "Udk0cYE9mklm"
      }
    },
    {
      "cell_type": "markdown",
      "source": [
        "**Importing Numpy**\n",
        "\n",
        "The first step involves importing Numpy so that you can start using it right away. There are a lot of ways to do so depending upon how you want to use library or some functions of it. In general, we import it all together and in order to avoid writing numpy again and again, we abbreviate it in some form. For ex. np. Import the Numpy library as np in the below cell."
      ],
      "metadata": {
        "id": "uN0wapA3nxkp"
      }
    },
    {
      "cell_type": "code",
      "source": [
        "import numpy as np"
      ],
      "metadata": {
        "id": "8t0tLYdKnxCi"
      },
      "execution_count": 6,
      "outputs": []
    },
    {
      "cell_type": "markdown",
      "source": [
        "**Arrays In Numpy**\n",
        "\n",
        "As already discussed in class, there are various ways of making numpy arrays. In the below cells we would test your ability to implement them correctly."
      ],
      "metadata": {
        "id": "owl28h2CpEXE"
      }
    },
    {
      "cell_type": "markdown",
      "source": [
        "**Create a numpy array of 1's of user defined dimensions**\n",
        "\n",
        "Take input for 2 dimensions : N and M, create a 2D matrix of 1's. Note : In general you can make numpy arrays of any number of dimensions. eg. 3, 4, and so on..."
      ],
      "metadata": {
        "id": "sjovULhrpXUS"
      }
    },
    {
      "cell_type": "code",
      "source": [
        "# Take user input for dimensions N and M\n",
        "N = int(input(\"Enter the number of rows (N): \"))\n",
        "M = int(input(\"Enter the number of columns (M): \"))\n",
        "\n",
        "# Create a 2D numpy array of ones with dimensions N x M\n",
        "array_of_ones = np.ones((N, M), dtype=int)\n",
        "\n",
        "# Display the array\n",
        "print(\"Generated 2D array of ones:\")\n",
        "print(array_of_ones)\n"
      ],
      "metadata": {
        "id": "fUqg9t6fnvks",
        "colab": {
          "base_uri": "https://localhost:8080/"
        },
        "outputId": "3df557ae-78c7-4e5d-832c-3a731d1f0e39"
      },
      "execution_count": 10,
      "outputs": [
        {
          "output_type": "stream",
          "name": "stdout",
          "text": [
            "Enter the number of rows (N): 3\n",
            "Enter the number of columns (M): 4\n",
            "Generated 2D array of ones:\n",
            "[[1 1 1 1]\n",
            " [1 1 1 1]\n",
            " [1 1 1 1]]\n"
          ]
        }
      ]
    },
    {
      "cell_type": "markdown",
      "source": [
        "**Create an empty array Using Numpy**\n",
        "\n",
        "When you print your array, you might see random values in your array. Repeat instructions as mentioned for previous cell.\n"
      ],
      "metadata": {
        "id": "Huvcf3hJq89u"
      }
    },
    {
      "cell_type": "code",
      "source": [
        "# Taking input for dimensions N and M\n",
        "N = int(input(\"Enter the number of rows (N): \"))\n",
        "M = int(input(\"Enter the number of columns (M): \"))\n",
        "\n",
        "# Creating an empty numpy array with dimensions N x M\n",
        "empty_array = np.empty((N, M))\n",
        "\n",
        "print(\"Empty Numpy Array:\")\n",
        "print(empty_array)\n"
      ],
      "metadata": {
        "id": "Hy2DD2nHq8W9",
        "colab": {
          "base_uri": "https://localhost:8080/"
        },
        "outputId": "ce23ce0d-b6eb-4150-fef3-4ec043923677"
      },
      "execution_count": 11,
      "outputs": [
        {
          "output_type": "stream",
          "name": "stdout",
          "text": [
            "Enter the number of rows (N): 3\n",
            "Enter the number of columns (M): 4\n",
            "Empty Numpy Array:\n",
            "[[5.e-324 5.e-324 5.e-324 5.e-324]\n",
            " [5.e-324 5.e-324 5.e-324 5.e-324]\n",
            " [5.e-324 5.e-324 5.e-324 5.e-324]]\n"
          ]
        }
      ]
    },
    {
      "cell_type": "markdown",
      "source": [
        "4\n",
        "**Create a numpy array of 0's of user defined dimensions**\n",
        "\n",
        "Repeat instructions as mentioned previously\n"
      ],
      "metadata": {
        "id": "3dglTqmKsnKJ"
      }
    },
    {
      "cell_type": "code",
      "source": [
        "# Taking input for dimensions N and M\n",
        "N = int(input(\"Enter the number of rows (N): \"))\n",
        "M = int(input(\"Enter the number of columns (M): \"))\n",
        "\n",
        "# Creating an empty numpy array with dimensions N x M\n",
        "zeros_array = np.zeros((N, M))\n",
        "\n",
        "print(\"Empty Numpy Array:\")\n",
        "print(zeros_array)\n"
      ],
      "metadata": {
        "id": "7GPN7yQyrFxt",
        "colab": {
          "base_uri": "https://localhost:8080/"
        },
        "outputId": "aa6a905a-54fa-4523-bf89-24166e6972ad"
      },
      "execution_count": 13,
      "outputs": [
        {
          "output_type": "stream",
          "name": "stdout",
          "text": [
            "Enter the number of rows (N): 3\n",
            "Enter the number of columns (M): 4\n",
            "Empty Numpy Array:\n",
            "[[0. 0. 0. 0.]\n",
            " [0. 0. 0. 0.]\n",
            " [0. 0. 0. 0.]]\n"
          ]
        }
      ]
    },
    {
      "cell_type": "markdown",
      "source": [
        "**Create a numpy array from numbers 1 to 10 using inbuilt functions**\n",
        "\n",
        "This task can be implemented using 2 functions : **arange()** and **linspace()**. You have to make use of both of them in cells given below"
      ],
      "metadata": {
        "id": "_MAwKZKGswaI"
      }
    },
    {
      "cell_type": "code",
      "source": [
        "# Using 'arange()' function\n",
        "\n",
        "array_arange = np.arange(1, 11)\n",
        "\n",
        "print(\"Array created using arange():\")\n",
        "print(array_arange)\n"
      ],
      "metadata": {
        "id": "OIpMckO1tu9w",
        "colab": {
          "base_uri": "https://localhost:8080/"
        },
        "outputId": "f430b90d-32bf-4694-d116-8e4812caf068"
      },
      "execution_count": 16,
      "outputs": [
        {
          "output_type": "stream",
          "name": "stdout",
          "text": [
            "Array created using arange():\n",
            "[ 1  2  3  4  5  6  7  8  9 10]\n"
          ]
        }
      ]
    },
    {
      "cell_type": "code",
      "source": [
        "# Using linspace() function:\n",
        "\n",
        "array_linspace = np.linspace(1, 10, 10)\n",
        "\n",
        "print(\"Array created using linspace():\")\n",
        "print(array_linspace)\n"
      ],
      "metadata": {
        "id": "tTI7c37VtwGo",
        "colab": {
          "base_uri": "https://localhost:8080/"
        },
        "outputId": "3e312832-882d-48af-c34a-15a4d888b93a"
      },
      "execution_count": 17,
      "outputs": [
        {
          "output_type": "stream",
          "name": "stdout",
          "text": [
            "Array created using linspace():\n",
            "[ 1.  2.  3.  4.  5.  6.  7.  8.  9. 10.]\n"
          ]
        }
      ]
    },
    {
      "cell_type": "markdown",
      "source": [
        "**Convert a simple list to array**\n",
        "\n",
        "Create a 1D list and a 2D list and convert them to numpy arrays. You need to print the type of both after conversion in order to check if they are really converted or not."
      ],
      "metadata": {
        "id": "ccVilYfttwgv"
      }
    },
    {
      "cell_type": "code",
      "source": [
        "# Creating a 1D list\n",
        "list_1d = [1, 2, 3, 4, 5]\n",
        "\n",
        "# Converting the 1D list to a numpy array\n",
        "array_1d = np.array(list_1d)\n",
        "\n",
        "print(\"Original 1D List:\", list_1d)\n",
        "print(\"Converted 1D Numpy Array:\", array_1d)\n",
        "print(\"Type of Converted 1D Numpy Array:\", type(array_1d))\n"
      ],
      "metadata": {
        "id": "mex0-FdhuMtO",
        "colab": {
          "base_uri": "https://localhost:8080/"
        },
        "outputId": "0ce1234a-bcdf-42f5-8b08-457172a54882"
      },
      "execution_count": 20,
      "outputs": [
        {
          "output_type": "stream",
          "name": "stdout",
          "text": [
            "Original 1D List: [1, 2, 3, 4, 5]\n",
            "Converted 1D Numpy Array: [1 2 3 4 5]\n",
            "Type of Converted 1D Numpy Array: <class 'numpy.ndarray'>\n"
          ]
        }
      ]
    },
    {
      "cell_type": "code",
      "source": [
        "# Creating a 2D list\n",
        "list_2d = [[1, 2, 3], [4, 5, 6], [7, 8, 9]]\n",
        "\n",
        "# Converting the 2D list to a numpy array\n",
        "array_2d = np.array(list_2d)\n",
        "\n",
        "print(\"\\nOriginal 2D List:\")\n",
        "for row in list_2d:\n",
        "    print(row)\n",
        "\n",
        "print(\"\\nConverted 2D Numpy Array:\")\n",
        "print(array_2d)\n",
        "print(\"Type of Converted 2D Numpy Array:\", type(array_2d))\n"
      ],
      "metadata": {
        "id": "y5eM9eRcuf7J",
        "colab": {
          "base_uri": "https://localhost:8080/"
        },
        "outputId": "e5bbde4d-91f0-4757-8560-d9df5aac7b1e"
      },
      "execution_count": 21,
      "outputs": [
        {
          "output_type": "stream",
          "name": "stdout",
          "text": [
            "\n",
            "Original 2D List:\n",
            "[1, 2, 3]\n",
            "[4, 5, 6]\n",
            "[7, 8, 9]\n",
            "\n",
            "Converted 2D Numpy Array:\n",
            "[[1 2 3]\n",
            " [4 5 6]\n",
            " [7 8 9]]\n",
            "Type of Converted 2D Numpy Array: <class 'numpy.ndarray'>\n"
          ]
        }
      ]
    },
    {
      "cell_type": "markdown",
      "source": [
        "**Conversion Of Data Types in Numpy arrays**\n",
        "\n",
        "In this problem, you need to convert float numpy array to integer type and vice versa. You need to print the array after each conversion."
      ],
      "metadata": {
        "id": "2-MlpJL_ugeA"
      }
    },
    {
      "cell_type": "code",
      "source": [
        "a = np.array([[1, 2, 3], [4, 5, 6]], dtype=float)\n",
        "\n",
        "print(\"Original Array:\")\n",
        "print(a)\n",
        "\n",
        "# Convert float array to integer\n",
        "a_integer = a.astype(int)\n",
        "print(\"\\nArray after converting to integer:\")\n",
        "print(a_integer)\n",
        "\n",
        "# Convert integer array back to float\n",
        "a_float = a_integer.astype(float)\n",
        "print(\"\\nArray after converting back to float:\")\n",
        "print(a_float)\n"
      ],
      "metadata": {
        "id": "5moEhinwvdED",
        "colab": {
          "base_uri": "https://localhost:8080/"
        },
        "outputId": "283ff898-1883-403e-9f23-2d777a5f33d9"
      },
      "execution_count": 22,
      "outputs": [
        {
          "output_type": "stream",
          "name": "stdout",
          "text": [
            "Original Array:\n",
            "[[1. 2. 3.]\n",
            " [4. 5. 6.]]\n",
            "\n",
            "Array after converting to integer:\n",
            "[[1 2 3]\n",
            " [4 5 6]]\n",
            "\n",
            "Array after converting back to float:\n",
            "[[1. 2. 3.]\n",
            " [4. 5. 6.]]\n"
          ]
        }
      ]
    },
    {
      "cell_type": "code",
      "source": [],
      "metadata": {
        "id": "swqwFloIyxB7"
      },
      "execution_count": null,
      "outputs": []
    },
    {
      "cell_type": "markdown",
      "source": [
        "**Given below is an array of 20 elements. Convert this array into 2D matrices of dimensions 1 x 20, 2 x 10, 4 x 5, 5 x 4, 10 x 2 and 20 x 1**\n",
        "\n",
        "**For each given dimensions, you need to print the new array**\n",
        "\n",
        "**For the 1 x 20 array, print every third element using indexing & slicing**\n",
        "\n",
        "**Use the array splitter function for the 10 x 2 array having results with 3 elements**\n",
        "\n",
        "**Concatenate arrays 10 x 2 and 20 x 1 using concatenate(), hstack(),vstack, dstack() or using axis values, you may combine reshape() for either arrays so that all the functions work, provide comments while you stack arrays for the reader to have clarity for the steps**"
      ],
      "metadata": {
        "id": "URgzto4lzNpZ"
      }
    },
    {
      "cell_type": "code",
      "source": [
        "a = np.array([1, 2, 3, 4, 5, 6, 7, 8, 9, 10, 11, 12, 13, 14, 15, 16, 17, 18, 19, 20])\n",
        "\n",
        "# Convert to 1x20 array\n",
        "array_1x20 = a.reshape(1, -1)\n",
        "print(\"1 x 20 Array:\")\n",
        "print(array_1x20)\n"
      ],
      "metadata": {
        "id": "R5zyxpNO_QI3",
        "colab": {
          "base_uri": "https://localhost:8080/"
        },
        "outputId": "255c6e45-b6dc-46c6-f906-156ffd1dc3d3"
      },
      "execution_count": 25,
      "outputs": [
        {
          "output_type": "stream",
          "name": "stdout",
          "text": [
            "1 x 20 Array:\n",
            "[[ 1  2  3  4  5  6  7  8  9 10 11 12 13 14 15 16 17 18 19 20]]\n"
          ]
        }
      ]
    },
    {
      "cell_type": "code",
      "source": [
        "# Convert to 2x10 array\n",
        "array_2x10 = a.reshape(2, 10)\n",
        "print(\"\\n2 x 10 Array:\")\n",
        "print(array_2x10)\n"
      ],
      "metadata": {
        "id": "VWBy_47ez5eY",
        "colab": {
          "base_uri": "https://localhost:8080/"
        },
        "outputId": "52434ccf-0b3c-4547-8d96-12f491965b03"
      },
      "execution_count": 26,
      "outputs": [
        {
          "output_type": "stream",
          "name": "stdout",
          "text": [
            "\n",
            "2 x 10 Array:\n",
            "[[ 1  2  3  4  5  6  7  8  9 10]\n",
            " [11 12 13 14 15 16 17 18 19 20]]\n"
          ]
        }
      ]
    },
    {
      "cell_type": "code",
      "source": [
        "# Convert to 4x5 array\n",
        "array_4x5 = a.reshape(4, 5)\n",
        "print(\"\\n4 x 5 Array:\")\n",
        "print(array_4x5)\n"
      ],
      "metadata": {
        "id": "ZQAGLYbGz9xG",
        "colab": {
          "base_uri": "https://localhost:8080/"
        },
        "outputId": "e49af436-a45b-42e6-d709-b7835670fb03"
      },
      "execution_count": 27,
      "outputs": [
        {
          "output_type": "stream",
          "name": "stdout",
          "text": [
            "\n",
            "4 x 5 Array:\n",
            "[[ 1  2  3  4  5]\n",
            " [ 6  7  8  9 10]\n",
            " [11 12 13 14 15]\n",
            " [16 17 18 19 20]]\n"
          ]
        }
      ]
    },
    {
      "cell_type": "code",
      "source": [
        "# Convert to 5x4 array\n",
        "array_5x4 = a.reshape(5, 4)\n",
        "print(\"\\n5 x 4 Array:\")\n",
        "print(array_5x4)\n"
      ],
      "metadata": {
        "id": "JEZPIffz0JNw",
        "colab": {
          "base_uri": "https://localhost:8080/"
        },
        "outputId": "ffeb1edd-5f24-4561-e55c-2bbcf30c1732"
      },
      "execution_count": 28,
      "outputs": [
        {
          "output_type": "stream",
          "name": "stdout",
          "text": [
            "\n",
            "5 x 4 Array:\n",
            "[[ 1  2  3  4]\n",
            " [ 5  6  7  8]\n",
            " [ 9 10 11 12]\n",
            " [13 14 15 16]\n",
            " [17 18 19 20]]\n"
          ]
        }
      ]
    },
    {
      "cell_type": "code",
      "source": [
        "# Convert to 10x2 array\n",
        "array_10x2 = np.array_split(a, 10)\n",
        "print(\"\\n10 x 2 Array:\")\n",
        "for row in array_10x2:\n",
        "    print(row)\n"
      ],
      "metadata": {
        "id": "ujXQegKE0Kr_",
        "colab": {
          "base_uri": "https://localhost:8080/"
        },
        "outputId": "5e353a15-3260-4238-9549-d9c227f06176"
      },
      "execution_count": 29,
      "outputs": [
        {
          "output_type": "stream",
          "name": "stdout",
          "text": [
            "\n",
            "10 x 2 Array:\n",
            "[1 2]\n",
            "[3 4]\n",
            "[5 6]\n",
            "[7 8]\n",
            "[ 9 10]\n",
            "[11 12]\n",
            "[13 14]\n",
            "[15 16]\n",
            "[17 18]\n",
            "[19 20]\n"
          ]
        }
      ]
    },
    {
      "cell_type": "code",
      "source": [
        "# Convert to 20x1 array\n",
        "array_20x1 = a.reshape(-1, 1)\n",
        "print(\"\\n10 x 2 Array:\")\n",
        "for row in array_20x1:\n",
        "    print(row)"
      ],
      "metadata": {
        "colab": {
          "base_uri": "https://localhost:8080/"
        },
        "id": "_il3njOGjFgd",
        "outputId": "d097968b-3bc9-4f2f-fe8c-e48755f6fd82"
      },
      "execution_count": 32,
      "outputs": [
        {
          "output_type": "stream",
          "name": "stdout",
          "text": [
            "\n",
            "10 x 2 Array:\n",
            "[1]\n",
            "[2]\n",
            "[3]\n",
            "[4]\n",
            "[5]\n",
            "[6]\n",
            "[7]\n",
            "[8]\n",
            "[9]\n",
            "[10]\n",
            "[11]\n",
            "[12]\n",
            "[13]\n",
            "[14]\n",
            "[15]\n",
            "[16]\n",
            "[17]\n",
            "[18]\n",
            "[19]\n",
            "[20]\n"
          ]
        }
      ]
    },
    {
      "cell_type": "code",
      "source": [
        "# Print every third element of 1x20 array\n",
        "every_third = array_1x20[:, ::3]\n",
        "print(\"\\nEvery Third Element of 1 x 20 Array:\")\n",
        "print(every_third)"
      ],
      "metadata": {
        "id": "fAwQcvv-0LvN",
        "colab": {
          "base_uri": "https://localhost:8080/"
        },
        "outputId": "063932e3-74c0-44a0-a3a7-bcf86c141715"
      },
      "execution_count": 30,
      "outputs": [
        {
          "output_type": "stream",
          "name": "stdout",
          "text": [
            "\n",
            "Every Third Element of 1 x 20 Array:\n",
            "[[ 1  4  7 10 13 16 19]]\n"
          ]
        }
      ]
    },
    {
      "cell_type": "code",
      "source": [
        "# Concatenate 10x2 and 20x1 arrays\n",
        "\n",
        "# using concatenate()\n",
        "array_20x1 = a.reshape(-1, 1)\n",
        "concatenated_array = np.concatenate((array_10x2[3], array_20x1), axis=None)\n",
        "print(\"\\nConcatenated Array:\")\n",
        "print(concatenated_array)\n"
      ],
      "metadata": {
        "id": "9nvibAuN0LeQ",
        "colab": {
          "base_uri": "https://localhost:8080/"
        },
        "outputId": "814385c8-e32b-42fa-83e2-c19c2b92f091"
      },
      "execution_count": 39,
      "outputs": [
        {
          "output_type": "stream",
          "name": "stdout",
          "text": [
            "\n",
            "Concatenated Array:\n",
            "[ 7  8  1  2  3  4  5  6  7  8  9 10 11 12 13 14 15 16 17 18 19 20]\n"
          ]
        }
      ]
    },
    {
      "cell_type": "code",
      "source": [
        "# Concatenate 10x2 and 20x1 arrays\n",
        "\n",
        "# using hstack()\n",
        "array_10x2 = a.reshape(10, 2)\n",
        "array_20x1 = a.reshape(10, 2)\n",
        "concatenated_array_hstack = np.hstack((array_10x2, array_20x1))\n",
        "print(\"\\nConcatenated Array using hstack():\")\n",
        "print(concatenated_array_hstack)"
      ],
      "metadata": {
        "colab": {
          "base_uri": "https://localhost:8080/"
        },
        "id": "SRj_kOG6yHRx",
        "outputId": "c0e1d5af-acb1-4c67-ec9e-971380094b02"
      },
      "execution_count": 41,
      "outputs": [
        {
          "output_type": "stream",
          "name": "stdout",
          "text": [
            "\n",
            "Concatenated Array using hstack():\n",
            "[[ 1  2  1  2]\n",
            " [ 3  4  3  4]\n",
            " [ 5  6  5  6]\n",
            " [ 7  8  7  8]\n",
            " [ 9 10  9 10]\n",
            " [11 12 11 12]\n",
            " [13 14 13 14]\n",
            " [15 16 15 16]\n",
            " [17 18 17 18]\n",
            " [19 20 19 20]]\n"
          ]
        }
      ]
    },
    {
      "cell_type": "code",
      "source": [
        "# Concatenate 10x2 and 20x1 arrays\n",
        "\n",
        "# using hstack()\n",
        "\n",
        "concatenated_array_vstack = np.vstack((array_10x2, array_20x1))\n",
        "print(\"\\nConcatenated Array using vstack():\")\n",
        "print(concatenated_array_vstack)"
      ],
      "metadata": {
        "colab": {
          "base_uri": "https://localhost:8080/"
        },
        "id": "yKNmTwv2yrKT",
        "outputId": "a9b95735-f93f-4db7-8088-11a3a9482fe0"
      },
      "execution_count": 42,
      "outputs": [
        {
          "output_type": "stream",
          "name": "stdout",
          "text": [
            "\n",
            "Concatenated Array using vstack():\n",
            "[[ 1  2]\n",
            " [ 3  4]\n",
            " [ 5  6]\n",
            " [ 7  8]\n",
            " [ 9 10]\n",
            " [11 12]\n",
            " [13 14]\n",
            " [15 16]\n",
            " [17 18]\n",
            " [19 20]\n",
            " [ 1  2]\n",
            " [ 3  4]\n",
            " [ 5  6]\n",
            " [ 7  8]\n",
            " [ 9 10]\n",
            " [11 12]\n",
            " [13 14]\n",
            " [15 16]\n",
            " [17 18]\n",
            " [19 20]]\n"
          ]
        }
      ]
    },
    {
      "cell_type": "code",
      "source": [
        "# Concatenate 10x2 and 20x1 arrays\n",
        "\n",
        "# using dstack()\n",
        "\n",
        "concatenated_array_dstack = np.dstack((array_10x2, array_20x1))\n",
        "print(\"\\nConcatenated Array using dstack():\")\n",
        "print(concatenated_array_dstack)"
      ],
      "metadata": {
        "colab": {
          "base_uri": "https://localhost:8080/"
        },
        "id": "s9HM13PDy2xA",
        "outputId": "4f2fd21a-cf05-4943-baa2-a95ac1e60470"
      },
      "execution_count": 43,
      "outputs": [
        {
          "output_type": "stream",
          "name": "stdout",
          "text": [
            "\n",
            "Concatenated Array using dstack():\n",
            "[[[ 1  1]\n",
            "  [ 2  2]]\n",
            "\n",
            " [[ 3  3]\n",
            "  [ 4  4]]\n",
            "\n",
            " [[ 5  5]\n",
            "  [ 6  6]]\n",
            "\n",
            " [[ 7  7]\n",
            "  [ 8  8]]\n",
            "\n",
            " [[ 9  9]\n",
            "  [10 10]]\n",
            "\n",
            " [[11 11]\n",
            "  [12 12]]\n",
            "\n",
            " [[13 13]\n",
            "  [14 14]]\n",
            "\n",
            " [[15 15]\n",
            "  [16 16]]\n",
            "\n",
            " [[17 17]\n",
            "  [18 18]]\n",
            "\n",
            " [[19 19]\n",
            "  [20 20]]]\n"
          ]
        }
      ]
    },
    {
      "cell_type": "code",
      "source": [],
      "metadata": {
        "id": "UwmRP0ZKzhDI"
      },
      "execution_count": null,
      "outputs": []
    },
    {
      "cell_type": "markdown",
      "source": [
        "**Find maximum element in array and print its value and its index using numpy inbuilt functions**"
      ],
      "metadata": {
        "id": "DP_fngKn0Okk"
      }
    },
    {
      "cell_type": "code",
      "source": [
        "a = np.array([100,40,30,106,4589,2,34,76,9777,1023,56,62,395])\n",
        "\n",
        "# Find maximum element and its index\n",
        "max_value = np.max(a)\n",
        "max_index = np.argmax(a)\n",
        "\n",
        "print(\"Array:\", a)\n",
        "print(\"Maximum Value:\", max_value)\n",
        "print(\"Index of Maximum Value:\", max_index)"
      ],
      "metadata": {
        "id": "vARhjyy80uZa",
        "colab": {
          "base_uri": "https://localhost:8080/"
        },
        "outputId": "82489545-b230-48c2-f0c7-f3c719455a96"
      },
      "execution_count": 44,
      "outputs": [
        {
          "output_type": "stream",
          "name": "stdout",
          "text": [
            "Array: [ 100   40   30  106 4589    2   34   76 9777 1023   56   62  395]\n",
            "Maximum Value: 9777\n",
            "Index of Maximum Value: 8\n"
          ]
        }
      ]
    },
    {
      "cell_type": "code",
      "source": [],
      "metadata": {
        "id": "UW0YWRPx1CUW"
      },
      "execution_count": null,
      "outputs": []
    },
    {
      "cell_type": "markdown",
      "source": [
        "**Print Dimensions Of The Given Array, shape of the array and size**\n",
        "\n",
        "**Iterate through the array 'a' skipping a value and printing the next value.**\n",
        "\n",
        "**Implement reshape on this array with your choice of parameters (not 1D)**\n",
        "\n",
        "**Make a 1D array also and sort the array, then find the indices of values ==6 using numpy functions**\n",
        "\n",
        "**On the 1D array, implement a numpy function to print values only above 100**\n",
        "\n"
      ],
      "metadata": {
        "id": "bPmS_0Bi1KfC"
      }
    },
    {
      "cell_type": "code",
      "source": [
        "a = np.array([[1, 2, 3], [4, 5, 6], [6, 7, 8], [7, 8, 9], [10, 102, 546]])\n",
        "\n",
        "# Print dimensions, shape, and size of the array\n",
        "print(\"Array Dimensions:\", a.ndim)\n",
        "print(\"Array Shape:\", a.shape)\n",
        "print(\"Array Size:\", a.size)\n",
        "\n",
        "# Iterate through the array skipping a value and printing the next value\n",
        "print(\"\\nIterating Through the Array:\")\n",
        "for i in range(0, a.size, 2):\n",
        "    print(a.flat[i])\n"
      ],
      "metadata": {
        "id": "ynA4KebV1bgs",
        "colab": {
          "base_uri": "https://localhost:8080/"
        },
        "outputId": "fd1eaf32-645f-4dbb-d1ce-1dbb7c17b908"
      },
      "execution_count": 49,
      "outputs": [
        {
          "output_type": "stream",
          "name": "stdout",
          "text": [
            "Array Dimensions: 2\n",
            "Array Shape: (5, 3)\n",
            "Array Size: 15\n",
            "\n",
            "Iterating Through the Array:\n",
            "1\n",
            "3\n",
            "5\n",
            "6\n",
            "8\n",
            "8\n",
            "10\n",
            "546\n"
          ]
        }
      ]
    },
    {
      "cell_type": "code",
      "source": [
        "# Reshape the array with chosen parameters\n",
        "reshaped_array = a.reshape(3, -1)\n",
        "print(\"\\nReshaped Array:\")\n",
        "print(reshaped_array)"
      ],
      "metadata": {
        "id": "sWyvAJ681xcj",
        "colab": {
          "base_uri": "https://localhost:8080/"
        },
        "outputId": "6053a350-a26d-4f5e-f884-64cf754f4886"
      },
      "execution_count": 50,
      "outputs": [
        {
          "output_type": "stream",
          "name": "stdout",
          "text": [
            "\n",
            "Reshaped Array:\n",
            "[[  1   2   3   4   5]\n",
            " [  6   6   7   8   7]\n",
            " [  8   9  10 102 546]]\n"
          ]
        }
      ]
    },
    {
      "cell_type": "code",
      "source": [
        "# Create a 1D array and sort it\n",
        "a_1d = a.flatten()\n",
        "sorted_array = np.sort(a_1d)\n",
        "print(\"\\nSorted 1D Array:\")\n",
        "print(sorted_array)"
      ],
      "metadata": {
        "id": "9ZCE57ex4gq4",
        "colab": {
          "base_uri": "https://localhost:8080/"
        },
        "outputId": "ee088b62-8219-481f-9494-799e0ed22ecc"
      },
      "execution_count": 51,
      "outputs": [
        {
          "output_type": "stream",
          "name": "stdout",
          "text": [
            "\n",
            "Sorted 1D Array:\n",
            "[  1   2   3   4   5   6   6   7   7   8   8   9  10 102 546]\n"
          ]
        }
      ]
    },
    {
      "cell_type": "code",
      "source": [
        "# Find indices of values equal to 6\n",
        "indices_equal_to_6 = np.where(sorted_array == 6)[0]\n",
        "print(\"\\nIndices of Values equal to 6:\", indices_equal_to_6)\n"
      ],
      "metadata": {
        "id": "VrqEZefcGSbn",
        "colab": {
          "base_uri": "https://localhost:8080/"
        },
        "outputId": "6229f1ba-58f8-444d-8ac2-6a8d7d2830fe"
      },
      "execution_count": 52,
      "outputs": [
        {
          "output_type": "stream",
          "name": "stdout",
          "text": [
            "\n",
            "Indices of Values equal to 6: [5 6]\n"
          ]
        }
      ]
    },
    {
      "cell_type": "code",
      "source": [
        "# Print values above 100 in the 1D array\n",
        "values_above_100 = sorted_array[sorted_array > 100]\n",
        "print(\"\\nValues Above 100:\", values_above_100)"
      ],
      "metadata": {
        "id": "qlq6Hk9oGSx4",
        "colab": {
          "base_uri": "https://localhost:8080/"
        },
        "outputId": "a0c1e174-3ebc-45f4-ac4f-40d07e8ceda5"
      },
      "execution_count": 53,
      "outputs": [
        {
          "output_type": "stream",
          "name": "stdout",
          "text": [
            "\n",
            "Values Above 100: [102 546]\n"
          ]
        }
      ]
    },
    {
      "cell_type": "code",
      "source": [],
      "metadata": {
        "id": "xjLxz1eiGTYv"
      },
      "execution_count": null,
      "outputs": []
    },
    {
      "cell_type": "markdown",
      "source": [
        "**Create a NumPy array with the integers from your birthdate (year, month, and day)**\n",
        "\n",
        "**Retrieve the year.**\n",
        "\n",
        "**Replace the year with the current year**\n",
        "\n",
        "**Create a NumPy array containing every 3rd number from 567 to 890. What is the 8th number in this array?  What is the 15th?**"
      ],
      "metadata": {
        "id": "vORRRv0816qS"
      }
    },
    {
      "cell_type": "code",
      "source": [
        "year = 2003\n",
        "month = 8\n",
        "day = 8\n",
        "\n",
        "# Create a NumPy array with birthdate integers\n",
        "birthdate_array = np.array([year, month, day])\n",
        "\n",
        "print(\"Birthdate Array:\", birthdate_array)"
      ],
      "metadata": {
        "id": "bflW-Wwb2Xua",
        "colab": {
          "base_uri": "https://localhost:8080/"
        },
        "outputId": "16472f92-f830-4ff3-906b-9ed5cc0da67a"
      },
      "execution_count": 54,
      "outputs": [
        {
          "output_type": "stream",
          "name": "stdout",
          "text": [
            "Birthdate Array: [2003    8    8]\n"
          ]
        }
      ]
    },
    {
      "cell_type": "code",
      "source": [
        "# Retrieve the year from the birthdate array\n",
        "retrieved_year = birthdate_array[0]\n",
        "\n",
        "print(\"Retrieved Year:\", retrieved_year)\n"
      ],
      "metadata": {
        "id": "G-Fq7U6jGWbI",
        "colab": {
          "base_uri": "https://localhost:8080/"
        },
        "outputId": "2b67ebff-ef32-4fc1-c4a5-78ff008cf916"
      },
      "execution_count": 56,
      "outputs": [
        {
          "output_type": "stream",
          "name": "stdout",
          "text": [
            "Retrieved Year: 2023\n"
          ]
        }
      ]
    },
    {
      "cell_type": "code",
      "source": [
        "import datetime\n",
        "\n",
        "# Get the current year\n",
        "current_year = datetime.datetime.now().year\n",
        "\n",
        "# Replace the year in the birthdate array with the current year\n",
        "birthdate_array[0] = current_year\n",
        "\n",
        "print(\"Updated Birthdate Array:\", birthdate_array)\n"
      ],
      "metadata": {
        "id": "iI3aRu79GWj0",
        "colab": {
          "base_uri": "https://localhost:8080/"
        },
        "outputId": "f57f5369-8cb9-49aa-ddfd-87fd8b010aff"
      },
      "execution_count": 57,
      "outputs": [
        {
          "output_type": "stream",
          "name": "stdout",
          "text": [
            "Updated Birthdate Array: [2023    8    8]\n"
          ]
        }
      ]
    },
    {
      "cell_type": "code",
      "source": [
        "# Create an array with every 3rd number from 567 to 890\n",
        "every_third_array = np.arange(567, 891, 3)\n",
        "\n",
        "print(\"Every Third Array:\", every_third_array)\n",
        "\n",
        "# Find the 8th and 15th numbers in the every third array\n",
        "eighth_number = every_third_array[7]  # Index is 7 because indexing starts from 0\n",
        "fifteenth_number = every_third_array[14]\n",
        "\n",
        "print(\"\\n8th Number:\", eighth_number)\n",
        "print(\"15th Number:\", fifteenth_number)\n"
      ],
      "metadata": {
        "id": "nDSzTgiLGWte",
        "colab": {
          "base_uri": "https://localhost:8080/"
        },
        "outputId": "ec387153-6c09-4291-add0-770b746a4398"
      },
      "execution_count": 60,
      "outputs": [
        {
          "output_type": "stream",
          "name": "stdout",
          "text": [
            "Every Third Array: [567 570 573 576 579 582 585 588 591 594 597 600 603 606 609 612 615 618\n",
            " 621 624 627 630 633 636 639 642 645 648 651 654 657 660 663 666 669 672\n",
            " 675 678 681 684 687 690 693 696 699 702 705 708 711 714 717 720 723 726\n",
            " 729 732 735 738 741 744 747 750 753 756 759 762 765 768 771 774 777 780\n",
            " 783 786 789 792 795 798 801 804 807 810 813 816 819 822 825 828 831 834\n",
            " 837 840 843 846 849 852 855 858 861 864 867 870 873 876 879 882 885 888]\n",
            "\n",
            "8th Number: 588\n",
            "15th Number: 609\n"
          ]
        }
      ]
    },
    {
      "cell_type": "code",
      "source": [],
      "metadata": {
        "id": "Vfs2vPLB4fDK"
      },
      "execution_count": null,
      "outputs": []
    },
    {
      "cell_type": "markdown",
      "source": [
        "**Evaluate (PEMDAS):**\n",
        "1. ((((12+7)*2)-4)/2)-13\n",
        "2. 5+5/5\n",
        "3. 2*5//4\n",
        "4. 2\\*\\*3\\*\\*2\n",
        "5. (2\\*\\*3)\\*\\*2"
      ],
      "metadata": {
        "id": "jb9XY6DxVhVa"
      }
    },
    {
      "cell_type": "code",
      "source": [
        "result1 = ((((12 + 7) * 2) - 4) / 2) - 13\n",
        "print(\"Result 1:\", result1)"
      ],
      "metadata": {
        "id": "J1E-tyIhGX9Q",
        "colab": {
          "base_uri": "https://localhost:8080/"
        },
        "outputId": "0d40a63d-ac30-40a0-eba7-0d347d85bec8"
      },
      "execution_count": 61,
      "outputs": [
        {
          "output_type": "stream",
          "name": "stdout",
          "text": [
            "Result 1: 4.0\n"
          ]
        }
      ]
    },
    {
      "cell_type": "code",
      "source": [
        "result2 = 5 + 5 / 5\n",
        "print(\"Result 2:\", result2)"
      ],
      "metadata": {
        "id": "BE1gltg6GYGb",
        "colab": {
          "base_uri": "https://localhost:8080/"
        },
        "outputId": "2e43a8be-f831-4fa1-9401-310034bc4773"
      },
      "execution_count": 63,
      "outputs": [
        {
          "output_type": "stream",
          "name": "stdout",
          "text": [
            "Result 2: 6.0\n"
          ]
        }
      ]
    },
    {
      "cell_type": "code",
      "source": [
        "result3 = 2 * 5 // 4\n",
        "print(\"Result 3:\", result3)"
      ],
      "metadata": {
        "id": "nSYbW9bbGYOx",
        "colab": {
          "base_uri": "https://localhost:8080/"
        },
        "outputId": "2f97f96c-8975-4117-a079-6382c0d4f6eb"
      },
      "execution_count": 64,
      "outputs": [
        {
          "output_type": "stream",
          "name": "stdout",
          "text": [
            "Result 3: 2\n"
          ]
        }
      ]
    },
    {
      "cell_type": "code",
      "source": [
        "result4 = 2 ** 3 ** 2\n",
        "print(\"Result 4:\", result4)"
      ],
      "metadata": {
        "id": "CdWxWF9jGYXp",
        "colab": {
          "base_uri": "https://localhost:8080/"
        },
        "outputId": "4a9e5279-a84d-4c43-cc05-4aa2790f582b"
      },
      "execution_count": 65,
      "outputs": [
        {
          "output_type": "stream",
          "name": "stdout",
          "text": [
            "Result 4: 512\n"
          ]
        }
      ]
    },
    {
      "cell_type": "code",
      "source": [
        "result5 = (2 ** 3) ** 2\n",
        "print(\"Result 5:\", result5)"
      ],
      "metadata": {
        "id": "0UzaLAjcGYgT",
        "colab": {
          "base_uri": "https://localhost:8080/"
        },
        "outputId": "0acd6ac2-e568-44a5-f54d-6cdfd71771a2"
      },
      "execution_count": 66,
      "outputs": [
        {
          "output_type": "stream",
          "name": "stdout",
          "text": [
            "Result 5: 64\n"
          ]
        }
      ]
    },
    {
      "cell_type": "code",
      "source": [],
      "metadata": {
        "id": "Ipp_hovo5Tqw"
      },
      "execution_count": null,
      "outputs": []
    }
  ]
}